{
 "cells": [
  {
   "cell_type": "markdown",
   "metadata": {},
   "source": [
    "*Hashing is very useful to keep track of the frequency of the elements in a list.*\n",
    "\n",
    "You are given an array of integers. You need to print the count of non-repeated elements in the array.\n",
    "\n",
    "<br>\n",
    "\n",
    "**Example 1:**\n",
    ">**Input:**<br>\n",
    ">10<br>\n",
    ">1 1 2 2 3 3 4 5 6 7<br>\n",
    ">**Output:** <br>\n",
    ">4<br>\n",
    ">**Explanation:** <br>\n",
    ">4, 5, 6 and 7 are the elements with frequency 1 and rest elements are repeated so the number of non-repeated elements are 4.\n",
    "\n",
    "**Example 2:**\n",
    ">**Input:**<br>\n",
    ">5<br>\n",
    ">10 20 30 40 10<br>\n",
    ">**Output:** <br>\n",
    ">3<br>\n",
    ">**Explanation:** <br>\n",
    ">20, 30, 40 are the elements with the frequency 1 and 10 is the repeated element to number of non-repeated elements are 3.\n",
    "\n",
    "<br>\n",
    "\n",
    "**Your Task:**<br>\n",
    "You don't need to read input or print anything. You only need to complete the function **countNonRepeated()** that takes array **arr[]** and its size **n** as **parameters** and **returns** the count of non-repeating elements in the array. \n",
    "\n",
    "**Expected Time Complexity:** O(n).<br>\n",
    "**Expected Auxiliary Space:** O(n).\n",
    "\n",
    "**Constraints:**\n",
    "- >1 <= n <= 10<sup>3</sup>\n",
    "- >0 <= arr<sub>i</sub> <= 10<sup>7</sup>"
   ]
  },
  {
   "cell_type": "code",
   "execution_count": 1,
   "metadata": {},
   "outputs": [],
   "source": [
    "class Solution:\n",
    "    # Complete this code\n",
    "    # Function to return the count of non-repeated elements in the array.\n",
    "    def countNonRepeated(self, arr, n):\n",
    "        # Your code here\n",
    "        ele_count = {}\n",
    "        count = 0\n",
    "        for ele in arr:\n",
    "            if ele in ele_count.keys():\n",
    "                ele_count[ele] += 1\n",
    "            else:\n",
    "                ele_count[ele] = 1\n",
    "        \n",
    "        for i in range(len(ele_count)):\n",
    "            if list(ele_count.values())[i] == 1:\n",
    "                count += 1\n",
    "        \n",
    "        return count"
   ]
  }
 ],
 "metadata": {
  "kernelspec": {
   "display_name": "base",
   "language": "python",
   "name": "python3"
  },
  "language_info": {
   "codemirror_mode": {
    "name": "ipython",
    "version": 3
   },
   "file_extension": ".py",
   "mimetype": "text/x-python",
   "name": "python",
   "nbconvert_exporter": "python",
   "pygments_lexer": "ipython3",
   "version": "3.9.16"
  }
 },
 "nbformat": 4,
 "nbformat_minor": 2
}
