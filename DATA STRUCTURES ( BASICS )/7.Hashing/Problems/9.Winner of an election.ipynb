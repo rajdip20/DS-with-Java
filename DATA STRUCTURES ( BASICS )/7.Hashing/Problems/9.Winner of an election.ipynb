{
 "cells": [
  {
   "cell_type": "markdown",
   "metadata": {},
   "source": [
    "Given an array of **n** names **arr** of candidates in an election, where each name is a string of **lowercase** characters. A candidate name in the array represents a vote casted to the candidate. Print the name of the candidate that received the **maximum count** of votes. If there is a **draw** between two candidates, then print **lexicographically smaller** name.\n",
    "\n",
    "<br>\n",
    "\n",
    "**Example 1:**\n",
    ">**Input:**<br>\n",
    ">n = 13<br>\n",
    ">arr[] = {john,johnny,jackie,johnny,john,jackie,jamie,jamie,john,johnny,jamie,johnny,john}<br>\n",
    ">**Output:** john 4<br>\n",
    ">**Explanation:**<br>\n",
    ">john has 4 votes casted for him, but so does johny. john is lexicographically smaller, so we print john and the votes he received.\n",
    "\n",
    "**Example 2:**\n",
    ">**Input:**<br>\n",
    ">n = 3<br>\n",
    ">arr[] = {andy,blake,clark}<br>\n",
    ">**Output:** andy 1<br>\n",
    ">**Explanation:**<br>\n",
    ">All the candidates get 1 votes each. We print andy as it is lexicographically smaller.\n",
    "\n",
    "<br>\n",
    "\n",
    "**Your Task:**<br>\n",
    "You only need to complete the function **winner()** that takes an array of strings **arr**, and length of **arr n** as parameters and returns an **array of string** of **length 2**. First element of the array should be the **name** of the candidate and second element should be the **number of votes** that candidate got in **string format**.\n",
    "\n",
    "**Expected Time Complexity:** O(n)<br>\n",
    "**Expected Auxiliary Space:** O(n)\n",
    "\n",
    "**Constraints:**\n",
    "- >1 <= n <= 10<sup>5</sup>\n",
    "- >1 <= |arr<sub>i</sub>| <= 10<sup>5</sup>"
   ]
  },
  {
   "cell_type": "code",
   "execution_count": 1,
   "metadata": {},
   "outputs": [],
   "source": [
    "class Solution:\n",
    "    # Complete this function\n",
    "    # Function to return the name of candidate that received maximum votes.\n",
    "    def winner(self, arr, n):\n",
    "        # Your code here\n",
    "        # return the name of the winning candidate and the votes he recieved\n",
    "        votes = {}\n",
    "        \n",
    "        for candidate in arr:\n",
    "            votes[candidate] = votes.get(candidate, 0) + 1\n",
    "        \n",
    "        max_candidate = min(arr)\n",
    "        max_count = 0\n",
    "        \n",
    "        for candidate, count in votes.items():\n",
    "            if count > max_count or (count == max_count and candidate < max_candidate):\n",
    "                max_candidate = candidate\n",
    "                max_count = count\n",
    "        \n",
    "        return [max_candidate, str(max_count)]"
   ]
  },
  {
   "cell_type": "code",
   "execution_count": null,
   "metadata": {},
   "outputs": [],
   "source": []
  }
 ],
 "metadata": {
  "kernelspec": {
   "display_name": "base",
   "language": "python",
   "name": "python3"
  },
  "language_info": {
   "codemirror_mode": {
    "name": "ipython",
    "version": 3
   },
   "file_extension": ".py",
   "mimetype": "text/x-python",
   "name": "python",
   "nbconvert_exporter": "python",
   "pygments_lexer": "ipython3",
   "version": "3.9.16"
  }
 },
 "nbformat": 4,
 "nbformat_minor": 2
}
