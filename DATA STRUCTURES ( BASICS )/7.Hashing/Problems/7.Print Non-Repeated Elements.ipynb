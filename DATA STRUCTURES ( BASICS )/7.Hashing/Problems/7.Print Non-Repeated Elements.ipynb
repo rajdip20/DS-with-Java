{
 "cells": [
  {
   "cell_type": "markdown",
   "metadata": {},
   "source": [
    "*Hashing is very useful to keep track of the frequency of the elements in a list.*\n",
    "\n",
    "You are given an array of integers. You need to print the non-repeated elements as they appear in the array.\n",
    "\n",
    "<br>\n",
    "\n",
    "**Example 1:**\n",
    ">**Input:**<br>\n",
    ">n = 10<br>\n",
    ">arr[] = {1,1,2,2,3,3,4,5,6,7}<br>\n",
    ">**Output:** 4 5 6 7<br>\n",
    ">**Explanation:**<br>\n",
    ">4, 5, 6 and 7 are the only elements which is having only 1 frequency and hence, Non-repeating.\n",
    "\n",
    "**Example 2:**\n",
    ">**Input:**<br>\n",
    ">n = 5<br>\n",
    ">arr[] = {10,20,40,30,10}<br>\n",
    ">**Output:** 20 40 30<br>\n",
    ">**Explanation:**<br>\n",
    ">20, 40, 30 are the only elements which is having only 1 frequency and hence, Non-repeating.\n",
    "\n",
    "<br>\n",
    "\n",
    "**Your Task:**<br>\n",
    "You don't need to read input or print anything. You only need to complete the function **printNonRepeated()** that takes **arr and n as parameters** and return the array which has the distinct elements in same order as they appear in input array. The newline is **appended** automatically by the **driver code**.\n",
    "\n",
    "**Expected Time Complexity:** O(n).<br>\n",
    "**Expected Auxiliary Space:** O(n).\n",
    "\n",
    "**Constraints:**\n",
    "- >1 <= n <= 10<sup>3</sup>\n",
    "- >0 <= arr<sub>i</sub> <= 10<sup>7</sup>"
   ]
  },
  {
   "cell_type": "code",
   "execution_count": 1,
   "metadata": {},
   "outputs": [],
   "source": [
    "class Solution:\n",
    "    # Complete this function\n",
    "    # Function to return non-repeated elements in the array.\n",
    "    def printNonRepeated(self, arr, n):\n",
    "        # Your code here\n",
    "        ele_count = {}\n",
    "    \n",
    "        for num in arr:\n",
    "            ele_count[num] = ele_count.get(num, 0) + 1\n",
    "        \n",
    "        elements = []\n",
    "        \n",
    "        for num in arr:\n",
    "            if ele_count[num] == 1:\n",
    "                elements.append(num)\n",
    "        \n",
    "        return elements"
   ]
  }
 ],
 "metadata": {
  "kernelspec": {
   "display_name": "base",
   "language": "python",
   "name": "python3"
  },
  "language_info": {
   "codemirror_mode": {
    "name": "ipython",
    "version": 3
   },
   "file_extension": ".py",
   "mimetype": "text/x-python",
   "name": "python",
   "nbconvert_exporter": "python",
   "pygments_lexer": "ipython3",
   "version": "3.9.16"
  }
 },
 "nbformat": 4,
 "nbformat_minor": 2
}
