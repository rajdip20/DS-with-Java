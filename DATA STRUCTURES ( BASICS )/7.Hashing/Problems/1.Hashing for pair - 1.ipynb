{
 "cells": [
  {
   "cell_type": "markdown",
   "metadata": {},
   "source": [
    "You are given an array of **distinct** integers and a **sum**. Check if there's a pair with the given sum in the array.\n",
    "\n",
    "<br>\n",
    "\n",
    "**Example 1:**\n",
    ">**Input:**<br>\n",
    ">N = 10<br>\n",
    ">arr[] = {1, 2, 3, 4, 5, 6, 7, 8, 9, 10} <br>\n",
    ">sum = 14<br>\n",
    ">**Output:** <br>\n",
    ">1<br>\n",
    ">**Explanation:** <br>\n",
    ">arr[] = {1, 2, 3, 4, 5, 6, 7, 8, 9, 10} and sum = 14.  There is a pair {4, 10} with sum 14.\n",
    "\n",
    "**Example 2:**\n",
    ">**Input:**<br>\n",
    ">N = 2<br>\n",
    ">arr[] = {2, 5}<br>\n",
    ">sum = 10<br>\n",
    ">**Output:**<br>\n",
    ">0<br>\n",
    ">**Explanation:**<br>\n",
    ">arr[] = {2, 5} and sum = 10. There is no pair with sum 10.\n",
    "\n",
    "<br>\n",
    "\n",
    "**Your Task:**<br>\n",
    "You don't need to read input or print anything. Your task is to complete the provided function **sumExists()** which take the array **arr[]**, its size **N**, and an integer sum as inputs and returns 1 if there exists a pair with the given **sum** in the array, else, it returns 0.\n",
    "\n",
    "**Expected Time Complexity:** O(N).<br>\n",
    "**Expected Auxiliary Space:** O(N).\n",
    "\n",
    "**Constraints:**\n",
    "- >1 <= N <= 1000\n",
    "- >1 <= arr<sub>i</sub> <= 10<sup>6</sup>\n",
    "- >1 <= sum <= 1000"
   ]
  },
  {
   "cell_type": "code",
   "execution_count": 1,
   "metadata": {},
   "outputs": [],
   "source": [
    "## Complete this function\n",
    "# Function to check if there is a pair with the given sum in the array.\n",
    "def sumExists(arr, N, sum):\n",
    "    # Your code here\n",
    "    num_set = set()\n",
    "\n",
    "    for num in arr:\n",
    "        complement = sum - num\n",
    "        \n",
    "        if complement in num_set:\n",
    "            return 1\n",
    "        num_set.add(num)\n",
    "\n",
    "    return 0"
   ]
  }
 ],
 "metadata": {
  "kernelspec": {
   "display_name": "base",
   "language": "python",
   "name": "python3"
  },
  "language_info": {
   "codemirror_mode": {
    "name": "ipython",
    "version": 3
   },
   "file_extension": ".py",
   "mimetype": "text/x-python",
   "name": "python",
   "nbconvert_exporter": "python",
   "pygments_lexer": "ipython3",
   "version": "3.9.16"
  }
 },
 "nbformat": 4,
 "nbformat_minor": 2
}
