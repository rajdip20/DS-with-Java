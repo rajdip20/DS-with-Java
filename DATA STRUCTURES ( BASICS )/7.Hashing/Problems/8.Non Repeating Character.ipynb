{
 "cells": [
  {
   "cell_type": "markdown",
   "metadata": {},
   "source": [
    "Given a string **S** consisting of **lowercase** Latin Letters. Return the first non-repeating character in S. If there is no non-repeating character, return **'$'**.\n",
    "\n",
    "<br>\n",
    "\n",
    "**Example 1:**\n",
    ">**Input:**<br>\n",
    ">S = hello<br>\n",
    ">**Output:** h<br>\n",
    ">**Explanation:**<br>\n",
    ">In the given string, the first character which is non-repeating is h, as it appears first and there is no other 'h' in the string.\n",
    "\n",
    "**Example 2:**\n",
    ">**Input:**<br>\n",
    ">S = zxvczbtxyzvy<br>\n",
    ">**Output:** c<br>\n",
    ">**Explanation:**<br>\n",
    ">In the given string, 'c' is the character which is non-repeating. \n",
    "\n",
    "<br>\n",
    "\n",
    "**Your Task:**<br>\n",
    "You only need to complete the function **nonrepeatingCharacter()** that takes **string** S as a **parameter** and returns the character. If there is **no non-repeating** character then return **'$'** .\n",
    "\n",
    "**Expected Time Complexity:** O(N).<br>\n",
    "**Expected Auxiliary Space:** O(Number of distinct characters).<br>\n",
    "**Note:** N = |S|\n",
    "\n",
    "**Constraints:**\n",
    "- >1 <= N <= 10<sup>5</sup>"
   ]
  },
  {
   "cell_type": "code",
   "execution_count": 1,
   "metadata": {},
   "outputs": [],
   "source": [
    "class Solution:\n",
    "    # Function to find the first non-repeating character in a string.\n",
    "    def nonrepeatingCharacter(self, s):\n",
    "        # code here\n",
    "        arr = list(s) \n",
    "        ele_count = {}\n",
    "    \n",
    "        for char in arr:\n",
    "            ele_count[char] = ele_count.get(char, 0) + 1\n",
    "        \n",
    "        elements = []\n",
    "        \n",
    "        for char in arr:\n",
    "            if ele_count[char] == 1:\n",
    "                elements.append(char)\n",
    "        \n",
    "        if not elements:\n",
    "            return -1\n",
    "        else:\n",
    "            return elements[0]"
   ]
  }
 ],
 "metadata": {
  "kernelspec": {
   "display_name": "base",
   "language": "python",
   "name": "python3"
  },
  "language_info": {
   "codemirror_mode": {
    "name": "ipython",
    "version": 3
   },
   "file_extension": ".py",
   "mimetype": "text/x-python",
   "name": "python",
   "nbconvert_exporter": "python",
   "pygments_lexer": "ipython3",
   "version": "3.9.16"
  }
 },
 "nbformat": 4,
 "nbformat_minor": 2
}
