{
 "cells": [
  {
   "cell_type": "markdown",
   "metadata": {},
   "source": [
    "You are given an array of integers and an integer **sum**. You need to find if two numbers in the array exists that have sum equal to the given sum.\n",
    "\n",
    "<br>\n",
    "\n",
    "**Example 1:**\n",
    ">**Input:**<br>\n",
    ">N = 10<br>\n",
    ">arr[] = {1, 2, 3, 4, 5, 6, 7, 8, 9, 10}<br>\n",
    ">sum = 14<br>\n",
    ">**Output:** <br>\n",
    ">1<br>\n",
    ">**Explanation:** <br>\n",
    ">there exists a pair which gives sum as 14 example (4,10),(5,9) etc.\n",
    "\n",
    "**Example 2:**\n",
    ">**Input:**<br>\n",
    ">N = 4<br>\n",
    ">arr[] ={4, 3, 5, 6}<br>\n",
    ">sum = 12<br>\n",
    ">**Output:** <br>\n",
    ">0<br>\n",
    ">**Explanation:** <br>\n",
    ">there does not exist any such pair which gives sum as 12.\n",
    "\n",
    "<br>\n",
    "\n",
    "**Your Task:**<br>\n",
    "You don't need to read input or print anything. You just have to complete the function **sumExists()** which takes the array **arr[]**, its size **N** and an integer **sum** as inputs and returns 1 if there exists a pair with the given sum in the array. Else, it returns 0. \n",
    "\n",
    "**Expected Time Complexity:** O(N).<br>\n",
    "**Expected Auxiliary Space:** O(N).\n",
    "\n",
    "**Constraints:**\n",
    "- >1 <= N <= 1000\n",
    "- >1 <= arr<sub>i</sub> <= 10<sup>6</sup>\n",
    "- >1 <= sum <= 1000"
   ]
  },
  {
   "cell_type": "code",
   "execution_count": 1,
   "metadata": {},
   "outputs": [],
   "source": [
    "# Function to check if two numbers in the array have sum equal to the given sum.\n",
    "def sumExists(arr, N, sum):\n",
    "    ## Your code here\n",
    "    num_set = set()\n",
    "\n",
    "    for num in arr:\n",
    "        complement = sum - num\n",
    "        \n",
    "        if complement in num_set:\n",
    "            return 1\n",
    "        num_set.add(num)\n",
    "\n",
    "    return 0"
   ]
  }
 ],
 "metadata": {
  "kernelspec": {
   "display_name": "base",
   "language": "python",
   "name": "python3"
  },
  "language_info": {
   "codemirror_mode": {
    "name": "ipython",
    "version": 3
   },
   "file_extension": ".py",
   "mimetype": "text/x-python",
   "name": "python",
   "nbconvert_exporter": "python",
   "pygments_lexer": "ipython3",
   "version": "3.9.16"
  }
 },
 "nbformat": 4,
 "nbformat_minor": 2
}
