{
 "cells": [
  {
   "cell_type": "markdown",
   "metadata": {},
   "source": [
    "*Separate chaining technique in hashing allows to us to use a linked list at each hash slot to handle the problem of collisions. That is, every slot of the hash table is a linked list, so whenever a collision occurs, the element can be appened as a node to the linked list at the slot.*\n",
    "\n",
    "In this question, we'll learn how to fill up the hash table using **Separate chaining technique**. Given an array (consisting of distinct integers)  and a hashtable size, you have to fill the elements of the array into a hash table of given size. \n",
    "\n",
    "<br>\n",
    "\n",
    "**Example 1:**\n",
    ">**Input:**<br>\n",
    ">hashSize = 10<br>\n",
    ">sizeOfArray = 6<br>\n",
    ">arr[] = {92,4,14,24,44,91}<br>\n",
    ">**Output:**<br>\n",
    ">1->91<br>\n",
    ">2->92<br>\n",
    ">4->4->14->24->44<br>\n",
    ">**Explanation:**<br>\n",
    ">92%10=2 so 92 goes to slot 2. 4%10=4 so 4 goes to slot 4. 14%10=4. But 4 is already occupied so we make a linked list at this position and add 14 after 4 in slot 4 and so on.\n",
    "\n",
    "**Example 2:**\n",
    ">**Input:**<br>\n",
    ">hashSize = 10<br>\n",
    ">sizeOfArray = 5<br>\n",
    ">arr[] = {12,45,36,87,11}<br>\n",
    ">**Output:**<br>\n",
    ">1->11<br>\n",
    ">2->12<br>\n",
    ">5->45<br>\n",
    ">6->36<br>\n",
    ">7->87<br>\n",
    ">**Explanation:**<br>\n",
    ">12%10=2 so 12 goes to slot 2. 45%10=5 goes to slot 5. 36%10=6 goes to slot 6. 87%10=7 goes to slot 7 and finally 11%10=1 goes to slot 1.\n",
    "\n",
    "<br>\n",
    "\n",
    "**Your Task:**<br>\n",
    "This is a function problem. You need to complete the function **separateChaining** that takes **hashSize, arr, and sizeOfArr** as parameters, inserts elements of arr in the hashTable at positions by using **arr[i]%hashSize** and then returns the has table. The **printing** is done **automatically** by the **driver code**.\n",
    "\n",
    "**Expected Time Complexity:** O(N).<br>\n",
    "**Expected Auxiliary Space:** O(N).\n",
    "\n",
    "**Constraints:**\n",
    "- >2 <= hashSize <= 10<sup>3</sup>\n",
    "- >1 <= sizeOfArray <= 10<sup>3</sup>\n",
    "- >0 <= arri <= 10<sup>7</sup>"
   ]
  },
  {
   "cell_type": "code",
   "execution_count": 1,
   "metadata": {},
   "outputs": [],
   "source": [
    "class Solution:\n",
    "    # Function to insert elements of array in the hashTable avoiding collisions.\n",
    "    def separateChaining(self, hashSize, arr, sizeOfArray):\n",
    "        # Your code here\n",
    "        # return hashtable\n",
    "        table = [[] for x in range(hashSize)]\n",
    "\n",
    "        for ele in arr:\n",
    "            pos = ele % hashSize\n",
    "            table[pos].append(ele)\n",
    "        \n",
    "        return table"
   ]
  }
 ],
 "metadata": {
  "kernelspec": {
   "display_name": "base",
   "language": "python",
   "name": "python3"
  },
  "language_info": {
   "codemirror_mode": {
    "name": "ipython",
    "version": 3
   },
   "file_extension": ".py",
   "mimetype": "text/x-python",
   "name": "python",
   "nbconvert_exporter": "python",
   "pygments_lexer": "ipython3",
   "version": "3.9.16"
  }
 },
 "nbformat": 4,
 "nbformat_minor": 2
}
