{
 "cells": [
  {
   "cell_type": "markdown",
   "metadata": {},
   "source": [
    "Given an array arr[] of size n, find the first repeating element. The element should occur more than once and the index of its first occurrence should be the smallest.\n",
    "\n",
    "**Note:-** The position you return should be according to 1-based indexing. \n",
    "\n",
    "<br>\n",
    "\n",
    "**Example 1:**\n",
    ">**Input:**<br>\n",
    ">n = 7<br>\n",
    ">arr[] = {1, 5, 3, 4, 3, 5, 6}<br>\n",
    ">**Output:** 2<br>\n",
    ">**Explanation:** <br>\n",
    ">5 is appearing twice and its first appearence is at index 2 which is less than 3 whose first occuring index is 3.\n",
    "\n",
    "**Example 2:**\n",
    ">**Input:**<br>\n",
    ">n = 4<br>\n",
    ">arr[] = {1, 2, 3, 4}<br>\n",
    ">**Output:** -1<br>\n",
    ">**Explanation:** <br>\n",
    ">All elements appear only once so answer is -1.\n",
    "\n",
    "<br>\n",
    "\n",
    "**Your Task:**<br>\n",
    "You don't need to read input or print anything. Complete the function **firstRepeated()** which takes arr and n as input parameters and returns the position of the first repeating element. If there is no such element, return -1.\n",
    "\n",
    "**Expected Time Complexity:** O(n)<br>\n",
    "**Expected Auxilliary Space:** O(n)\n",
    "\n",
    "**Constraints:**\n",
    "- >1 <= n <= 10<sup>6</sup>\n",
    "- >0 <= A<sub>i</sub><= 10<sup>6</sup>"
   ]
  },
  {
   "cell_type": "code",
   "execution_count": 1,
   "metadata": {},
   "outputs": [],
   "source": [
    "class Solution:\n",
    "    # Function to return the position of the first repeating element.\n",
    "    def firstRepeated(self, arr, n):\n",
    "        # arr : given array\n",
    "        # n : size of the array\n",
    "        ele_count = {}\n",
    "        min_index = float('inf')\n",
    "        \n",
    "        for i in range(n):\n",
    "            if arr[i] in ele_count:\n",
    "                min_index = min(min_index, ele_count[arr[i]])\n",
    "            else:\n",
    "                ele_count[arr[i]] = i + 1\n",
    "        \n",
    "        if min_index == float('inf'):\n",
    "            return -1\n",
    "        else:\n",
    "            return min_index"
   ]
  }
 ],
 "metadata": {
  "kernelspec": {
   "display_name": "base",
   "language": "python",
   "name": "python3"
  },
  "language_info": {
   "codemirror_mode": {
    "name": "ipython",
    "version": 3
   },
   "file_extension": ".py",
   "mimetype": "text/x-python",
   "name": "python",
   "nbconvert_exporter": "python",
   "pygments_lexer": "ipython3",
   "version": "3.9.16"
  }
 },
 "nbformat": 4,
 "nbformat_minor": 2
}
