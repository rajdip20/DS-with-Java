{
 "cells": [
  {
   "cell_type": "markdown",
   "metadata": {},
   "source": [
    "*Linear probing is a collision-handling technique in hashing. Linear probing says that whenever a collision occurs, search for the immediate next position.*\n",
    "\n",
    "Given an array of integers and a hash table size. Fill the array elements into a hash table using **Linear Probing** to handle collisions. Duplicate elements must be mapped to the same position in the hash table while colliding elements must be mapped to the [(value + 1) % hashSize] position.\n",
    "\n",
    "**Note** :-  If there's no more space to insert a new element, just **drop** that element. \n",
    "\n",
    "<br>\n",
    "\n",
    "**Example 1:**\n",
    ">**Input:**<br>\n",
    ">hashSize = 10<br>\n",
    ">sizeOfArray = 4 <br>\n",
    ">Array[] = {4,14,24,44}<br>\n",
    ">**Output:**<br>\n",
    ">-1 -1 -1 -1 4 14 24 44 -1 -1<br>\n",
    ">**Explanation:**<br>\n",
    ">4%10=4. So put 4 in hashtable[4].Now, 14%10=4, but hashtable[4] is alreadyfilled so put 14 in the next slot and so on.\n",
    "\n",
    "**Example 2:**\n",
    ">**Input:**<br>\n",
    ">hashSize = 10<br>\n",
    ">sizeOfArray = 4 <br>\n",
    ">Array[] = {9,99,999,9999}<br>\n",
    ">**Output:**<br>\n",
    ">99 999 9999 -1 -1 -1 -1 -1 -1 9<br>\n",
    ">**Explanation:**<br>\n",
    ">9%10=9. So put 9 in hashtable[9]. Now, 99%10=9, but hashtable[9] is already filled so put 99 in the (99+1)%10 =0 slot so 99 goes into hashtable[0] and so on.\n",
    "\n",
    "<br>\n",
    "\n",
    "**Your Task:**<br>\n",
    "You don't need to read input or print anything. Your task is to complete the function **linearProbing()** which takes the hash table size (HashSize), an integers array arr[], and its size N as input parameters and inserts all the elements of the array arr[] into a hash table. The function should return the hash table. <br>\n",
    "The empty cells of the hash table are to be given a value of -1.<br>\n",
    "Also, if there's no more space to insert a new element, just **drop** that element.\n",
    "\n",
    "**Expected Time Complexity:** O(N)<br>\n",
    "**Expected Auxiliary Space:** O(N)\n",
    "\n",
    "**Constraints:**\n",
    "- >1 <= hashSize <= 1000\n",
    "- >1 <= sizeOfArray <= 10000\n",
    "- >0 <= Array[] <= 10<sup>5</sup>"
   ]
  },
  {
   "cell_type": "code",
   "execution_count": 1,
   "metadata": {},
   "outputs": [],
   "source": [
    "class Solution:\n",
    "    # Function to fill the array elements into a hash table \n",
    "    # using Linear Probing to handle collisions.\n",
    "    def linearProbing(self, hashSize, arr, sizeOfArray):\n",
    "        # Your code here\n",
    "        table = [-1] * hashSize\n",
    "        \n",
    "        for i in range(sizeOfArray):\n",
    "            loc = arr[i] % hashSize\n",
    "            j = loc\n",
    "            b = False\n",
    "            \n",
    "            while table[j] != -1 and table[j] != arr[i]:\n",
    "                j = (j + 1) % hashSize\n",
    "                if j == loc:\n",
    "                    b = True\n",
    "                    break\n",
    "            if b:\n",
    "                breakx``\n",
    "            if j < hashSize and table[j] == -1:\n",
    "                table[j] = arr[i]\n",
    "        \n",
    "        return table"
   ]
  }
 ],
 "metadata": {
  "kernelspec": {
   "display_name": "base",
   "language": "python",
   "name": "python3"
  },
  "language_info": {
   "codemirror_mode": {
    "name": "ipython",
    "version": 3
   },
   "file_extension": ".py",
   "mimetype": "text/x-python",
   "name": "python",
   "nbconvert_exporter": "python",
   "pygments_lexer": "ipython3",
   "version": "3.9.16"
  }
 },
 "nbformat": 4,
 "nbformat_minor": 2
}
