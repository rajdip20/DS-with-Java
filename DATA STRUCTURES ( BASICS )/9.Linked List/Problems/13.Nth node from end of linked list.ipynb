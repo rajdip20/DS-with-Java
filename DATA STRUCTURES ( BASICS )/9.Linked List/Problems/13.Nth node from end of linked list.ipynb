{
 "cells": [
  {
   "cell_type": "markdown",
   "metadata": {},
   "source": [
    "Given a linked list consisting of L nodes and given a number N. The task is to find the Nth node from the end of the linked list.\n",
    "\n",
    "<br>\n",
    "\n",
    "**Example 1:**\n",
    ">**Input:**<br>\n",
    ">N = 2<br>\n",
    ">LinkedList: 1->2->3->4->5->6->7->8->9<br>\n",
    ">**Output:** 8<br>\n",
    ">**Explanation:** In the first example, there are 9 nodes in linked list and we need to find 2nd node from end. 2nd node from end is 8.\n",
    "\n",
    "**Example 2:**\n",
    ">**Input:**<br>\n",
    ">N = 5<br>\n",
    ">LinkedList: 10->5->100->5<br>\n",
    ">**Output:** -1<br>\n",
    ">**Explanation:** In the second example, there are 4 nodes in the linked list and we need to find 5th from the end. Since 'n' is more than the number of nodes in the linked list, the output is -1.\n",
    "\n",
    "<br>\n",
    "\n",
    "**Your Task:**<br>\n",
    "The task is to complete the function **getNthFromLast()** which takes two **arguments: reference** to **head and N** and you need to **return N<sup>th</sup>** from the end or -1 in case node doesn't exist.\n",
    "\n",
    "**Note:**<br>\n",
    "Try to solve in a single traversal.\n",
    "\n",
    "**Expected Time Complexity:** O(N).<br>\n",
    "**Expected Auxiliary Space:** O(1).\n",
    "\n",
    "**Constraints:**\n",
    "- >1 <= L <= 10<sup>6</sup>\n",
    "- >1 <= N <= 10<sup>6</sup>"
   ]
  },
  {
   "cell_type": "code",
   "execution_count": 1,
   "metadata": {},
   "outputs": [],
   "source": [
    "'''\n",
    "\tYour task is to return the data stored in\n",
    "\tthe nth node from end of linked list.\n",
    "\t\n",
    "\tFunction Arguments: head (reference to head of the list), n (pos of node from end)\n",
    "\tReturn Type: Integer or -1 if no such node exits.\n",
    "\n",
    "\t{\n",
    "\t\t# Node Class\n",
    "\t\tclass Node:\n",
    "\t\t    def __init__(self, data):   # data -> value stored in node\n",
    "\t\t        self.data = data\n",
    "\t\t        self.next = None\n",
    "\t}\n",
    "'''\n",
    "# Function to find the data of nth node from the end of a linked list\n",
    "def getNthFromLast(head, n):\n",
    "    # code here\n",
    "    if not head:\n",
    "        return -1\n",
    "\n",
    "    fast = head\n",
    "    slow = head\n",
    "\n",
    "    for _ in range(n):\n",
    "        if fast:\n",
    "            fast = fast.next\n",
    "        else:\n",
    "            return -1\n",
    "\n",
    "    while fast:\n",
    "        fast = fast.next\n",
    "        slow = slow.next\n",
    "\n",
    "    return slow.data if slow else -1"
   ]
  }
 ],
 "metadata": {
  "kernelspec": {
   "display_name": "base",
   "language": "python",
   "name": "python3"
  },
  "language_info": {
   "codemirror_mode": {
    "name": "ipython",
    "version": 3
   },
   "file_extension": ".py",
   "mimetype": "text/x-python",
   "name": "python",
   "nbconvert_exporter": "python",
   "pygments_lexer": "ipython3",
   "version": "3.9.16"
  }
 },
 "nbformat": 4,
 "nbformat_minor": 2
}
