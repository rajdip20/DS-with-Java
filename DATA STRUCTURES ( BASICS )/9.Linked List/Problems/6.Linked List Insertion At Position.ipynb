{
 "cells": [
  {
   "cell_type": "markdown",
   "metadata": {},
   "source": [
    "You are given a linked list of size n. You need to **insert** an **element data** just **after** the **given position pos**.<br>\n",
    "The position of **first** element is **1**. If the given position is **greater** than n, then don't insert anything as it is not possible.\n",
    "\n",
    "<br>\n",
    "\n",
    "**Example 1:**\n",
    ">**Input:**<br>\n",
    ">LinkedList: 1->2->3->4->5<br>\n",
    ">position = 6, data = 10<br>\n",
    ">**Output:** 1 2 3 4 5<br>\n",
    ">**Explanation:**<br>\n",
    ">The given linked list is 1 2 3 4 5. The data 10 is to be inserted after position 6. However, the linked list only contains 5 elements so we cannot insert the data.\n",
    "\n",
    "**Example 2:**\n",
    ">**Input:**<br>\n",
    ">LinkedList: 2->4->6->7->5->1->0<br>\n",
    ">position = 7, data = 99<br>\n",
    ">**Output:** 2 4 6 7 5 1 0 99\n",
    "\n",
    "<br>\n",
    "\n",
    "**Your Task:**<br>\n",
    "This is a **function** problem. You only need to complete the function **insertAtPosition** that takes **head, pos, and data** as parameters.  The **printing** is done **automatically** by the **driver code**.\n",
    "\n",
    "**Expected Time Complexity:** O(N).<br>\n",
    "**Expected Auxiliary Space:** O(1).\n",
    "\n",
    "**Constraints:**\n",
    "- >1 <= n, pos <= 10<sup>3</sup>"
   ]
  },
  {
   "cell_type": "code",
   "execution_count": 1,
   "metadata": {},
   "outputs": [],
   "source": [
    "'''\n",
    "class Node:\n",
    "    def __init__(self, data):\n",
    "        self.data = data\n",
    "        self.next = None\n",
    "'''\n",
    "def insertAtPosition(head, pos, data):\n",
    "    # code here\n",
    "    if pos < 1:\n",
    "        return head\n",
    "\n",
    "    new_node = Node(data)\n",
    "    if pos == 1:\n",
    "        new_node.next = head.next\n",
    "        head.next = new_node\n",
    "        return head\n",
    "\n",
    "    current = head\n",
    "    while pos > 1 and current.next:\n",
    "        current = current.next\n",
    "        pos -= 1\n",
    "    \n",
    "    if pos == 1:\n",
    "        new_node.next = current.next\n",
    "        current.next = new_node\n",
    "\n",
    "    return head"
   ]
  }
 ],
 "metadata": {
  "kernelspec": {
   "display_name": "base",
   "language": "python",
   "name": "python3"
  },
  "language_info": {
   "codemirror_mode": {
    "name": "ipython",
    "version": 3
   },
   "file_extension": ".py",
   "mimetype": "text/x-python",
   "name": "python",
   "nbconvert_exporter": "python",
   "pygments_lexer": "ipython3",
   "version": "3.9.16"
  }
 },
 "nbformat": 4,
 "nbformat_minor": 2
}
