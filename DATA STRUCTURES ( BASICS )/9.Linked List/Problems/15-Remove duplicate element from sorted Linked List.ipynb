{
 "cells": [
  {
   "cell_type": "markdown",
   "metadata": {},
   "source": [
    "Given a singly linked list consisting of **N** nodes. The task is to remove duplicates (nodes with duplicate values) from the given list (if exists).<br>\n",
    "**Note:** Try not to use extra space. The nodes are arranged in a **sorted** way.\n",
    "\n",
    "<br>\n",
    "\n",
    "**Example 1:**\n",
    ">**Input:**<br>\n",
    ">LinkedList: 2->2->4->5<br>\n",
    ">**Output:** 2 4 5<br>\n",
    ">**Explanation:** In the given linked list 2 ->2 -> 4-> 5, only 2 occurs more than 1 time. So we need to remove it once.\n",
    "\n",
    "**Example 2:**\n",
    ">**Input:**<br>\n",
    ">LinkedList: 2->2->2->2->2<br>\n",
    ">**Output:** 2<br>\n",
    ">**Explanation:** In the given linked list 2 ->2 ->2 ->2 ->2, 2 is the only element and is repeated 5 times. So we need to remove any four 2.\n",
    "\n",
    "<br>\n",
    "\n",
    "**Your Task:**<br>\n",
    "The task is to complete the function **removeDuplicates()** which takes the head of input linked list as input. The function should remove the duplicates from linked list and return the head of the linkedlist.\n",
    "\n",
    "**Expected Time Complexity :** O(N)<br>\n",
    "**Expected Auxilliary Space :** O(1)\n",
    "\n",
    "**Constraints:**\n",
    "- >1 <= Number of nodes <= 10<sup>5</sup>"
   ]
  },
  {
   "cell_type": "code",
   "execution_count": 1,
   "metadata": {},
   "outputs": [],
   "source": [
    "'''\n",
    "\tYour task is to remove duplicates from given \n",
    "\tsorted linked list.\n",
    "\t\n",
    "\tFunction Arguments: head (head of the given linked list) \n",
    "\tReturn Type: none, just remove the duplicates from the list.\n",
    "\n",
    "\t{\n",
    "\t\t# Node Class\n",
    "\t\tclass Node:\n",
    "\t\t    def __init__(self, data):   # data -> value stored in node\n",
    "\t\t        self.data = data\n",
    "\t\t        self.next = None\n",
    "\t}\n",
    "'''\n",
    "# Function to remove duplicates from sorted linked list.\n",
    "def removeDuplicates(head):\n",
    "    # code here\n",
    "    if not head:\n",
    "        return head\n",
    "\n",
    "    current = head\n",
    "    while current and current.next:\n",
    "        if current.data == current.next.data:\n",
    "            current.next = current.next.next\n",
    "        else:\n",
    "            current = current.next\n",
    "\n",
    "    return head"
   ]
  }
 ],
 "metadata": {
  "kernelspec": {
   "display_name": "base",
   "language": "python",
   "name": "python3"
  },
  "language_info": {
   "codemirror_mode": {
    "name": "ipython",
    "version": 3
   },
   "file_extension": ".py",
   "mimetype": "text/x-python",
   "name": "python",
   "nbconvert_exporter": "python",
   "pygments_lexer": "ipython3",
   "version": "3.9.16"
  }
 },
 "nbformat": 4,
 "nbformat_minor": 2
}
