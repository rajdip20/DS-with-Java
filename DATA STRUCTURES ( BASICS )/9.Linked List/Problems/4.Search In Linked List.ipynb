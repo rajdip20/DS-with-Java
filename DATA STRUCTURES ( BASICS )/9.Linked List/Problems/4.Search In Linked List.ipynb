{
 "cells": [
  {
   "cell_type": "markdown",
   "metadata": {},
   "source": [
    "You are given a singly linked list of N elements, and also an element x. You need to find if x is present in the linked list or not.\n",
    "\n",
    "<br>\n",
    "\n",
    "**Example 1:**\n",
    ">**Input:**<br>\n",
    ">LinkedList: 1->2->3->4->5<br>\n",
    ">x = 4<br>\n",
    ">**Output:** 1\n",
    "\n",
    "**Example 2:**\n",
    ">**Input:**<br>\n",
    ">LinkedList: 2->4->6->7->5->1->0<br>\n",
    ">x = 10<br>\n",
    ">**Output:** 0\n",
    "\n",
    "<br>\n",
    "\n",
    "**Your Task:**<br>\n",
    "Your task is to complete the given function **searchLinkedList()** which takes head reference and x as arguments and returns **true** if x is present else returns **false**. (1 is printed by the driver code if the returned value is true, otherwise 0)\n",
    "\n",
    "**Constraints:**\n",
    "- >1 <= n <= 100\n",
    "- >1 <= x, value <= 10<sup>3</sup>\n",
    "\n",
    "**Expected Time Complexity:** O(N).<br>\n",
    "**Expected Auxiliary Space:** O(1)."
   ]
  },
  {
   "cell_type": "code",
   "execution_count": 1,
   "metadata": {},
   "outputs": [],
   "source": [
    "'''\n",
    "class Node:\n",
    "    def __init__(self, data):\n",
    "        self.data = data\n",
    "        self.next = None\n",
    "'''\n",
    "def searchLinkedList(head, x):\n",
    "    # code here\n",
    "    current = head\n",
    "    \n",
    "    while current:\n",
    "        if current.data == x:\n",
    "            return 1\n",
    "        current = current.next\n",
    "    \n",
    "    return 0"
   ]
  }
 ],
 "metadata": {
  "kernelspec": {
   "display_name": "base",
   "language": "python",
   "name": "python3"
  },
  "language_info": {
   "codemirror_mode": {
    "name": "ipython",
    "version": 3
   },
   "file_extension": ".py",
   "mimetype": "text/x-python",
   "name": "python",
   "nbconvert_exporter": "python",
   "pygments_lexer": "ipython3",
   "version": "3.9.16"
  }
 },
 "nbformat": 4,
 "nbformat_minor": 2
}
