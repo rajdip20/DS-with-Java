{
 "cells": [
  {
   "cell_type": "markdown",
   "metadata": {},
   "source": [
    "Create a link list of size N according to the given input literals. Each integer input is accompanied by an indicator which can either be 0 or 1. If it is 0, insert the integer in the beginning of the link list. If it is 1, insert the integer at the end of the link list. <br>\n",
    "**Hint:** When inserting at the end, make sure that you handle NULL explicitly.\n",
    "\n",
    "<br>\n",
    "\n",
    "**Example 1:**\n",
    ">**Input:**<br>\n",
    ">LinkedList: 9->0->5->1->6->1->2->0->5->0<br>\n",
    ">**Output:** 5 2 9 5 6<br>\n",
    ">**Explanation:**<br>\n",
    ">Length of Link List = N = 5<br>\n",
    ">9 0 indicated that 9 should be inserted in the beginning. Modified Link List = 9.<br>\n",
    ">5 1 indicated that 5 should be inserted in the end. Modified Link List = 9,5.<br>\n",
    ">6 1 indicated that 6 should be inserted in the end. Modified Link List = 9,5,6.<br>\n",
    ">2 0 indicated that 2 should be inserted in the beginning. Modified Link List = 2,9,5,6.<br>\n",
    ">5 0 indicated that 5 should be inserted in the beginning. Modified Link List = 5,2,9,5,6. <br>\n",
    ">Final linked list = 5, 2, 9, 5, 6.\n",
    "\n",
    "**Example 2:**\n",
    ">**Input:**<br>\n",
    ">LinkedList: 5->1->6->1->9->1<br>\n",
    ">**Output:** 5 6 9\n",
    "\n",
    "<br>\n",
    "\n",
    "**Your Task:**\n",
    "You only need to complete the **functions insertAtBeginning()** and **insertAtEnd()** that takes the head of link list and integer value of the data to be inserted as inputs and returns the head of the modified link list. \n",
    "\n",
    "**Expected Time Complexity:** O(1) for **insertAtBeginning()** and O(N) for **insertAtEnd()**.<br>\n",
    "**Expected Auxiliary Space:** O(1) for both.\n",
    "\n",
    "**Constraints:**\n",
    "- >1 <= N <= 10<sup>4</sup>"
   ]
  },
  {
   "cell_type": "code",
   "execution_count": 1,
   "metadata": {},
   "outputs": [],
   "source": [
    "'''    \n",
    "class Node:\n",
    "    def __init__(self,data):\n",
    "        self.data=data\n",
    "        self.next=None\n",
    "'''\n",
    "class Solution:\n",
    "    # Function to insert a node at the beginning of the linked list.\n",
    "    def insertAtBegining(self, head, x):\n",
    "        # code here\n",
    "        new_node = Node(x)\n",
    "        new_node.next = head\n",
    "        return new_node\n",
    "    \n",
    "    # Function to insert a node at the end of the linked list.\n",
    "    def insertAtEnd(self, head, x):\n",
    "        # code here\n",
    "        new_node = Node(x)\n",
    "        if not head:\n",
    "            return new_node\n",
    "        current = head\n",
    "        \n",
    "        while current.next:\n",
    "            current = current.next\n",
    "        current.next = new_node\n",
    "        \n",
    "        return head"
   ]
  }
 ],
 "metadata": {
  "kernelspec": {
   "display_name": "base",
   "language": "python",
   "name": "python3"
  },
  "language_info": {
   "codemirror_mode": {
    "name": "ipython",
    "version": 3
   },
   "file_extension": ".py",
   "mimetype": "text/x-python",
   "name": "python",
   "nbconvert_exporter": "python",
   "pygments_lexer": "ipython3",
   "version": "3.9.16"
  }
 },
 "nbformat": 4,
 "nbformat_minor": 2
}
