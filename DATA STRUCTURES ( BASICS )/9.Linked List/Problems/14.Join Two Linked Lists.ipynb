{
 "cells": [
  {
   "cell_type": "markdown",
   "metadata": {},
   "source": [
    "Given two linked lists of size **n1** and **n2** respectively, you have to **join** the **head** of second list to the tail of first so that we can traverse both the lists using head of 1st list.\n",
    "\n",
    "<br>\n",
    "\n",
    "**Example 1:**\n",
    ">**Input:**<br>\n",
    ">LinkedList1: 5<br>\n",
    ">LinkedList2: 1->2<br>\n",
    ">**Output:** 5 1 2\n",
    "\n",
    "**Example 2:**\n",
    ">**Input:**<br>\n",
    ">LinkedList1: 1->2->9->6->5->7<br>\n",
    ">LinkedList2: 99->8->4<br>\n",
    ">**Output:** 1 2 9 6 5 7 99 8 4\n",
    "\n",
    "<br>\n",
    "\n",
    "**Your Task:**<br>\n",
    "The task is to complete the function **joinTheLists()** which takes **head1 and head2 references** as arguments. The **function returns head of the first list** after joining both lists. The **printing** is done **automatically** by the **driver code**.\n",
    "\n",
    "**Expected Time Complexity:** O(n1).<br>\n",
    "**Expected Auxiliary Space:** O(1).\n",
    "\n",
    "**Constraints:**\n",
    "- >1 <= number of nodes in a linkedlist <= 10<sup>3</sup>"
   ]
  },
  {
   "cell_type": "code",
   "execution_count": 1,
   "metadata": {},
   "outputs": [],
   "source": [
    "'''\n",
    "class Node:\n",
    "    def __init__(self, data):\n",
    "        self.data = data\n",
    "        self.next = None\n",
    "'''\n",
    "def joinTheLists(head1, head2):\n",
    "    # code here\n",
    "    if not head1:\n",
    "        return head2\n",
    "    if not head2:\n",
    "        return head1\n",
    "    \n",
    "    current = head1\n",
    "    while current.next:\n",
    "        current = current.next\n",
    "    \n",
    "    current.next = head2\n",
    "    \n",
    "    return head1"
   ]
  }
 ],
 "metadata": {
  "kernelspec": {
   "display_name": "base",
   "language": "python",
   "name": "python3"
  },
  "language_info": {
   "codemirror_mode": {
    "name": "ipython",
    "version": 3
   },
   "file_extension": ".py",
   "mimetype": "text/x-python",
   "name": "python",
   "nbconvert_exporter": "python",
   "pygments_lexer": "ipython3",
   "version": "3.9.16"
  }
 },
 "nbformat": 4,
 "nbformat_minor": 2
}
