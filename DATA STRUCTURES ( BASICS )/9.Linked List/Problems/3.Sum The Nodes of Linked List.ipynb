{
 "cells": [
  {
   "cell_type": "markdown",
   "metadata": {},
   "source": [
    "Given a singly linked list of size N. The task is to sum the elements of the linked list.\n",
    "\n",
    "<br>\n",
    "\n",
    "**Example 1:**\n",
    ">**Input:**<br>\n",
    ">LinkedList: 1->2->3->4->5<br>\n",
    ">**Output:** 15\n",
    "\n",
    "**Example 2:**\n",
    ">**Input:**<br>\n",
    ">LinkedList: 2->4->6->7->5->1->0<br>\n",
    ">**Output:** 25\n",
    "\n",
    "<br>\n",
    "\n",
    "**Your Task:**<br>\n",
    "Your task is to complete the given function **sumOfElements()**, which takes head reference as argument and should return the sum of all the nodes in the Linked List. \n",
    "\n",
    "**Constraints:**\n",
    "- >1 <= n <= 100\n",
    "- >1 <= value <= 103\n",
    "\n",
    "**Expected Time Complexity:** O(N).<br>\n",
    "**Expected Auxiliary Space:** O(1)."
   ]
  },
  {
   "cell_type": "code",
   "execution_count": 1,
   "metadata": {},
   "outputs": [],
   "source": [
    "'''\n",
    "class Node:\n",
    "    def __init__(self, data):\n",
    "        self.data = data\n",
    "        self.next = None\n",
    "'''\n",
    "\n",
    "def sumOfElements(head):\n",
    "    # code here\n",
    "    total_sum = 0\n",
    "    current = head\n",
    "\n",
    "    while current:\n",
    "        total_sum += current.data\n",
    "        current = current.next\n",
    "    \n",
    "    return total_sum"
   ]
  }
 ],
 "metadata": {
  "kernelspec": {
   "display_name": "base",
   "language": "python",
   "name": "python3"
  },
  "language_info": {
   "codemirror_mode": {
    "name": "ipython",
    "version": 3
   },
   "file_extension": ".py",
   "mimetype": "text/x-python",
   "name": "python",
   "nbconvert_exporter": "python",
   "pygments_lexer": "ipython3",
   "version": "3.9.16"
  }
 },
 "nbformat": 4,
 "nbformat_minor": 2
}
