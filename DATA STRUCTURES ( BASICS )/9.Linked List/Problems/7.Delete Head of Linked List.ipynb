{
 "cells": [
  {
   "cell_type": "markdown",
   "metadata": {},
   "source": [
    "Given a linked list of size **n**, you have to **delete the head** of the linked list and return the new head.<br>\n",
    "**Note:** Please also set the next of the original head to null.\n",
    "\n",
    "<br>\n",
    "\n",
    "**Example 1:**\n",
    ">**Input:**<br>\n",
    ">LinkedList: 1->2<br>\n",
    ">**Output:** 2\n",
    "\n",
    "**Example 2:**\n",
    ">**Input:**<br>\n",
    ">LinkedList: 2->5->7->8->99->100<br>\n",
    ">**Output:** 5 7 8 99 100\n",
    "\n",
    "<br>\n",
    "\n",
    "**Your Task:**<br>\n",
    "The task is to complete the function **deleteHead()** which takes **head referenceand returns** reference to the **new head** node, which is then used to display the list. The **printing** is done **automatically** by the **driver code**.\n",
    "\n",
    "**Expected Time Complexity:** O(1).<br>\n",
    "**Expected Auxiliary Space:** O(1).\n",
    "\n",
    "**Constraints:**\n",
    "- >2 <= number of nodes <= 10<sup>3</sup>"
   ]
  },
  {
   "cell_type": "code",
   "execution_count": 1,
   "metadata": {},
   "outputs": [],
   "source": [
    "'''\n",
    "class Node:\n",
    "    def __init__(self, data):\n",
    "        self.data = data\n",
    "        self.next = None\n",
    "'''\n",
    "\n",
    "def deleteHead(head):\n",
    "    # code here\n",
    "    if not head:\n",
    "        return None\n",
    "    \n",
    "    new_head = head.next\n",
    "    head.next = None\n",
    "    return new_head"
   ]
  }
 ],
 "metadata": {
  "kernelspec": {
   "display_name": "base",
   "language": "python",
   "name": "python3"
  },
  "language_info": {
   "codemirror_mode": {
    "name": "ipython",
    "version": 3
   },
   "file_extension": ".py",
   "mimetype": "text/x-python",
   "name": "python",
   "nbconvert_exporter": "python",
   "pygments_lexer": "ipython3",
   "version": "3.9.16"
  }
 },
 "nbformat": 4,
 "nbformat_minor": 2
}
