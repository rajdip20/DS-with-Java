{
 "cells": [
  {
   "cell_type": "markdown",
   "metadata": {},
   "source": [
    "Given a linked list of size **n**, you have to **delete the node at position pos** of the linked list and return the new head. The position of initial node is 1.\n",
    "\n",
    "<br>\n",
    "\n",
    "**Example 1:**\n",
    ">**Input:**<br>\n",
    ">LinkedList: 1->2->3->4->5<br>\n",
    ">pos = 4<br>\n",
    ">**Output:** 1 2 3 5\n",
    "\n",
    "**Example 2:**\n",
    ">**Input:**<br>\n",
    ">LinkedList: 2->5->7->8->99->100<br>\n",
    ">pos = 6<br>\n",
    ">**Output:** 2 5 7 8 99\n",
    "\n",
    "<br>\n",
    "\n",
    "**Your Task:**<br>\n",
    "The task is to complete the function **deleteAtPosition()** which takes **head reference** and **pos** as argument **and returns** reference to the **new head** node, which is then used to display the list. The **printing** is done **automatically** by the driver code.\n",
    "\n",
    "**Expected Time Complexity:** O(pos).<br>\n",
    "**Expected Auxiliary Space:** O(1).\n",
    "\n",
    "**Constraints:**\n",
    "- >2 <= number of nodes <= 10<sup>3</sup>\n",
    "- >1 <= pos <= n"
   ]
  },
  {
   "cell_type": "code",
   "execution_count": 1,
   "metadata": {},
   "outputs": [],
   "source": [
    "'''\n",
    "class Node:\n",
    "    def __init__(self, data):\n",
    "        self.data = data\n",
    "        self.next = None\n",
    "'''\n",
    "def deleteAtPosition(head, pos):\n",
    "    # code here\n",
    "    if not head or pos < 1:\n",
    "        return None\n",
    "    \n",
    "    if pos == 1:\n",
    "        return head.next\n",
    "    \n",
    "    current = head\n",
    "    while pos > 2 and current.next:\n",
    "        current = current.next\n",
    "        pos -= 1\n",
    "    \n",
    "    if not current.next:\n",
    "        return head\n",
    "    \n",
    "    current.next = current.next.next\n",
    "    \n",
    "    return head"
   ]
  }
 ],
 "metadata": {
  "kernelspec": {
   "display_name": "base",
   "language": "python",
   "name": "python3"
  },
  "language_info": {
   "codemirror_mode": {
    "name": "ipython",
    "version": 3
   },
   "file_extension": ".py",
   "mimetype": "text/x-python",
   "name": "python",
   "nbconvert_exporter": "python",
   "pygments_lexer": "ipython3",
   "version": "3.9.16"
  }
 },
 "nbformat": 4,
 "nbformat_minor": 2
}
