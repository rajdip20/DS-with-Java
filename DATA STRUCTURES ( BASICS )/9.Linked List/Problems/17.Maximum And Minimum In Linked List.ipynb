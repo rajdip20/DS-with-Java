{
 "cells": [
  {
   "cell_type": "markdown",
   "metadata": {},
   "source": [
    "Given a singly linked list of N elements. The task is to find the maximum and minimum element.\n",
    "\n",
    "<br>\n",
    "\n",
    "**Example 1:**\n",
    ">**Input:**<br>\n",
    ">LinkedList: 1->2->3->4->5<br>\n",
    ">**Output:** 5 1\n",
    "\n",
    "**Example 2:**\n",
    ">**Input:**<br>\n",
    ">LinkedList: 2->4->6->7->5->1->0<br>\n",
    ">**Output:** 7 0\n",
    "\n",
    "<br>\n",
    "\n",
    "**Your Task:**<br>\n",
    "Your task is to complete the given functions both of which take head reference as argument and return maximum and minimum element as mentioned. The printing is done by driver code.\n",
    "\n",
    "**Constraints:**\n",
    "- >1 <= n <= 100\n",
    "- >1 <= value <= 10<sup>3</sup>\n",
    "\n",
    "**Expected Time Complexity:** O(N).<br>\n",
    "**Expected Auxiliary Space:** O(1)."
   ]
  },
  {
   "cell_type": "code",
   "execution_count": 1,
   "metadata": {},
   "outputs": [],
   "source": [
    "'''\n",
    "class Node:\n",
    "    def __init__(self, data):\n",
    "        self.data = data\n",
    "        self.next = None\n",
    "'''\n",
    "def maximum(head):\n",
    "    # code here\n",
    "    if not head:\n",
    "        return None\n",
    "\n",
    "    max_val = float('-inf')\n",
    "\n",
    "    current = head\n",
    "    while current:\n",
    "        max_val = max(max_val, current.data)\n",
    "        current = current.next\n",
    "\n",
    "    return max_val\n",
    "    \n",
    "    \n",
    "def minimum(head):\n",
    "    # code here\n",
    "    if not head:\n",
    "        return None\n",
    "\n",
    "    min_val = float('inf')\n",
    "\n",
    "    current = head\n",
    "    while current:\n",
    "        min_val = min(min_val, current.data)\n",
    "        current = current.next\n",
    "\n",
    "    return min_val"
   ]
  }
 ],
 "metadata": {
  "kernelspec": {
   "display_name": "base",
   "language": "python",
   "name": "python3"
  },
  "language_info": {
   "codemirror_mode": {
    "name": "ipython",
    "version": 3
   },
   "file_extension": ".py",
   "mimetype": "text/x-python",
   "name": "python",
   "nbconvert_exporter": "python",
   "pygments_lexer": "ipython3",
   "version": "3.9.16"
  }
 },
 "nbformat": 4,
 "nbformat_minor": 2
}
