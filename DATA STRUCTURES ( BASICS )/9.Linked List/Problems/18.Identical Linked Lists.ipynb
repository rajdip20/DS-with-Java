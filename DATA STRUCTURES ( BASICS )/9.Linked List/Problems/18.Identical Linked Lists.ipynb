{
 "cells": [
  {
   "cell_type": "markdown",
   "metadata": {},
   "source": [
    "Given two Singly Linked List of **N** and **M** nodes respectively. The task is to check whether two linked lists are identical or not. <br>\n",
    "Two Linked Lists are identical when they have same data and with same arrangement too.\n",
    "\n",
    "<br>\n",
    "\n",
    "Example 1:\n",
    "Input:<br>\n",
    "LinkedList1: 1->2->3->4->5->6<br>\n",
    "LinkedList2: 99->59->42->20<br>\n",
    "Output: Not identical \n",
    "\n",
    "Example 2:\n",
    "Input:<br>\n",
    "LinkedList1: 1->2->3->4->5<br>\n",
    "LinkedList2: 1->2->3->4->5<br>\n",
    "Output: Identical\n",
    "\n",
    "<br>\n",
    "\n",
    "**Your Task:**<br>\n",
    "The task is to complete the function **areIdentical()** which takes the head of both linked lists as arguments and returns True or False.\n",
    "\n",
    "**Constraints:**\n",
    "- >1 <= N <= 10<sup>3</sup>\n",
    "\n",
    "**Expected Time Complexity :** O(N)<br>\n",
    "**Expected Auxilliary Space :** O(1)"
   ]
  },
  {
   "cell_type": "code",
   "execution_count": 1,
   "metadata": {},
   "outputs": [],
   "source": [
    "'''\n",
    "# Node Class    \n",
    "class node:\n",
    "    def __init__(self, val):\n",
    "        self.data = val\n",
    "        self.next = None\n",
    "        \n",
    "'''\n",
    "\n",
    "# Function to check whether two linked lists are identical or not.\n",
    "def areIdentical(head1, head2):\n",
    "    # Code here\n",
    "    current1 = head1\n",
    "    current2 = head2\n",
    "\n",
    "    while current1 and current2:\n",
    "        if current1.data != current2.data:\n",
    "            return False\n",
    "        current1 = current1.next\n",
    "        current2 = current2.next\n",
    "\n",
    "    return current1 is None and current2 is None"
   ]
  }
 ],
 "metadata": {
  "kernelspec": {
   "display_name": "base",
   "language": "python",
   "name": "python3"
  },
  "language_info": {
   "codemirror_mode": {
    "name": "ipython",
    "version": 3
   },
   "file_extension": ".py",
   "mimetype": "text/x-python",
   "name": "python",
   "nbconvert_exporter": "python",
   "pygments_lexer": "ipython3",
   "version": "3.9.16"
  }
 },
 "nbformat": 4,
 "nbformat_minor": 2
}
