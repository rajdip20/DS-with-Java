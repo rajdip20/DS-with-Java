{
 "cells": [
  {
   "cell_type": "markdown",
   "metadata": {},
   "source": [
    "Given a sorted **(non decreasing)** linked list of size **n**, you have to insert the given **data** at appropriate position in the linked list.\n",
    "\n",
    "<br>\n",
    "\n",
    "**Example 1:**\n",
    ">**Input:**<br>\n",
    ">LinkedList: 1->2->3->4->5<br>\n",
    ">data = 10<br>\n",
    ">**Output:** 1 2 3 4 5 10\n",
    "\n",
    "**Example 2:**\n",
    ">**Input:**<br>\n",
    ">LinkedList: 2->5->7->8->99->100<br>\n",
    ">data = 100<br>\n",
    ">**Output:** 2 5 7 8 99 100 100\n",
    "\n",
    "<br>\n",
    "\n",
    "**Your Task:**<br>\n",
    "The task is to complete the function **insertInSorted()** which takes head reference and **data** to be inserted as the arguments. The **function returns** reference to the **head** node, which is then used to display the list.\n",
    "\n",
    "**Expected Time Complexity:** O(N).<br>\n",
    "**Expected Auxiliary Space:** O(1).\n",
    "\n",
    "**Constraints:**\n",
    "- >1 <= number of nodes <= 10<sup>3</sup>"
   ]
  },
  {
   "cell_type": "code",
   "execution_count": 1,
   "metadata": {},
   "outputs": [],
   "source": [
    "'''\n",
    "class Node:\n",
    "    def __init__(self, data):\n",
    "        self.data = data\n",
    "        self.next = None\n",
    "'''\n",
    "\n",
    "def insertInSorted(head, data):\n",
    "    # code here\n",
    "    new_node = Node(data)\n",
    "    if not head or data < head.data:\n",
    "        new_node.next = head\n",
    "        return new_node\n",
    "\n",
    "    current = head\n",
    "    while current.next and current.next.data < data:\n",
    "        current = current.next\n",
    "    \n",
    "    new_node.next = current.next\n",
    "    current.next = new_node\n",
    "\n",
    "    return head"
   ]
  }
 ],
 "metadata": {
  "kernelspec": {
   "display_name": "base",
   "language": "python",
   "name": "python3"
  },
  "language_info": {
   "codemirror_mode": {
    "name": "ipython",
    "version": 3
   },
   "file_extension": ".py",
   "mimetype": "text/x-python",
   "name": "python",
   "nbconvert_exporter": "python",
   "pygments_lexer": "ipython3",
   "version": "3.9.16"
  }
 },
 "nbformat": 4,
 "nbformat_minor": 2
}
