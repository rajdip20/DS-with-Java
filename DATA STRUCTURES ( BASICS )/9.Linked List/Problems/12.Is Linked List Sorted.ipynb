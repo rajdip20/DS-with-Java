{
 "cells": [
  {
   "cell_type": "markdown",
   "metadata": {},
   "source": [
    "Given a linked list of size **n**, you have to find whether the given linked list is **sorted** or **not**.<br>\n",
    "The sorting can either be **non-increasing** or **non-decreasing**.\n",
    "\n",
    "<br>\n",
    "\n",
    "**Example 1:**\n",
    ">**Input:**<br>\n",
    ">LinkedList: 5->5->6->7->8<br>\n",
    ">**Output:** 1\n",
    "\n",
    "**Example 2:**\n",
    ">**Input:**<br>\n",
    ">LinkedList: 2->5->7->8->99->7<br>\n",
    ">**Output:** 0\n",
    "\n",
    "<br>\n",
    "\n",
    "**Your Task:**<br>\n",
    "The task is to complete the function **isSorted()** which takes **head reference** as argument. The **function returns true** if the LL is **sorted**, else it **returns false**. (The driver code prints 1 when the returned value is true, otherwise 0)\n",
    "\n",
    "**Expected Time Complexity:** O(N).<br>\n",
    "**Expected Auxiliary Space:** O(1).\n",
    "\n",
    "**Constraints:**\n",
    "- >1 <= number of nodes <= 10<sup>3</sup>"
   ]
  },
  {
   "cell_type": "code",
   "execution_count": 1,
   "metadata": {},
   "outputs": [],
   "source": [
    "'''\n",
    "class Node:\n",
    "    def __init__(self, data):\n",
    "        self.data = data\n",
    "        self.next = None\n",
    "'''\n",
    "def isSorted(head):\n",
    "    # code here\n",
    "    if not head or not head.next:\n",
    "        return True\n",
    "\n",
    "    sorting_order = None\n",
    "    current = head\n",
    "    while current.next and current.data == current.next.data:\n",
    "        current = current.next\n",
    "    \n",
    "    if current.next:\n",
    "        sorting_order = 'non-decreasing' if current.data <= current.next.data else 'non-increasing'\n",
    "\n",
    "    while current.next:\n",
    "        if sorting_order == 'non-decreasing' and current.data > current.next.data:\n",
    "            return False\n",
    "        if sorting_order == 'non-increasing' and current.data < current.next.data:\n",
    "            return False\n",
    "        current = current.next\n",
    "\n",
    "    return True"
   ]
  }
 ],
 "metadata": {
  "kernelspec": {
   "display_name": "base",
   "language": "python",
   "name": "python3"
  },
  "language_info": {
   "codemirror_mode": {
    "name": "ipython",
    "version": 3
   },
   "file_extension": ".py",
   "mimetype": "text/x-python",
   "name": "python",
   "nbconvert_exporter": "python",
   "pygments_lexer": "ipython3",
   "version": "3.9.16"
  }
 },
 "nbformat": 4,
 "nbformat_minor": 2
}
