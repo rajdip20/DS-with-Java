{
 "cells": [
  {
   "cell_type": "markdown",
   "metadata": {},
   "source": [
    "Quick Sort is a Divide and Conquer algorithm. It picks an element as a pivot and partitions the given array around the picked pivot.<br>\n",
    "Given an array arr[], its starting position is low (the index of the array) and its ending position is high(the index of the array).\n",
    "\n",
    "**Note:** The **low** and **high** are inclusive.\n",
    "\n",
    "Implement the partition() and quickSort() functions to sort the array.\n",
    "\n",
    "<br>\n",
    "\n",
    "**Example 1:**\n",
    ">**Input:** <br>\n",
    ">N = 5 <br>\n",
    ">arr[] = { 4, 1, 3, 9, 7}<br>\n",
    ">**Output:**<br>\n",
    ">1 3 4 7 9\n",
    "\n",
    "**Example 2:**\n",
    ">**Input:** <br>\n",
    ">N = 9<br>\n",
    ">arr[] = { 2, 1, 6, 10, 4, 1, 3, 9, 7}<br>\n",
    ">**Output:**<br>\n",
    ">1 1 2 3 4 6 7 9 10\n",
    "\n",
    "<br>\n",
    "\n",
    "**Your Task:** <br>\n",
    "You don't need to read input or print anything. Your task is to complete the functions **partition()**  and **quickSort()** which takes the array arr[], low and high as input parameters and partitions the array. Consider the last element as the pivot such that all the elements less than(or equal to) the pivot lie before it and the elements greater than it lie after the pivot.\n",
    "\n",
    "**Expected Time Complexity:** O(N*logN)<br>\n",
    "**Expected Auxiliary Space:** O(logN)\n",
    "\n",
    "**Constraints:**\n",
    "- >1 <= N <= 10<sup>3</sup>\n",
    "- >1 <= arr[i] <= 10<sup>4</sup>"
   ]
  },
  {
   "cell_type": "code",
   "execution_count": 1,
   "metadata": {},
   "outputs": [],
   "source": [
    "class Solution:\n",
    "    # Function to sort a list using quick sort algorithm.\n",
    "    def quickSort(self, arr, low, high):\n",
    "        # code here\n",
    "        if low < high:\n",
    "            p = self.partition(arr, low, high)\n",
    "            self.quickSort(arr, low, p)\n",
    "            self.quickSort(arr, p + 1, high)\n",
    "    \n",
    "    def partition(self, arr, low, high):\n",
    "        # code here\n",
    "        pivot = arr[low]\n",
    "        i = low - 1\n",
    "        j = high + 1\n",
    "\n",
    "        while True:\n",
    "            i = i + 1\n",
    "            while arr[i] < pivot:\n",
    "                i = i + 1\n",
    "            \n",
    "            j = j - 1\n",
    "            while arr[j] > pivot:\n",
    "                j = j - 1\n",
    "            \n",
    "            if i >= j:\n",
    "                return j\n",
    "            \n",
    "            arr[i], arr[j] = arr[j], arr[i]"
   ]
  }
 ],
 "metadata": {
  "kernelspec": {
   "display_name": "base",
   "language": "python",
   "name": "python3"
  },
  "language_info": {
   "codemirror_mode": {
    "name": "ipython",
    "version": 3
   },
   "file_extension": ".py",
   "mimetype": "text/x-python",
   "name": "python",
   "nbconvert_exporter": "python",
   "pygments_lexer": "ipython3",
   "version": "3.9.16"
  }
 },
 "nbformat": 4,
 "nbformat_minor": 2
}
