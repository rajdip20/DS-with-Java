{
 "cells": [
  {
   "cell_type": "markdown",
   "metadata": {},
   "source": [
    "Given an Integer **N** and a list **arr**. Sort the array using bubble sort algorithm.\n",
    "\n",
    "<br>\n",
    "\n",
    "**Example 1:**\n",
    ">**Input:** <br>\n",
    ">N = 5<br>\n",
    ">arr[] = {4, 1, 3, 9, 7}<br>\n",
    ">**Output:** <br>\n",
    ">1 3 4 7 9\n",
    "\n",
    "**Example 2:**\n",
    ">**Input:**<br>\n",
    ">N = 10 <br>\n",
    ">arr[] = {10, 9, 8, 7, 6, 5, 4, 3, 2, 1}<br>\n",
    ">**Output:** <br>\n",
    ">1 2 3 4 5 6 7 8 9 10\n",
    "\n",
    "<br>\n",
    "\n",
    "**Your Task:** <br>\n",
    "You don't have to read input or print anything. Your task is to complete the function **bubblesort()** which takes the array and it's size as input and sorts the array using bubble sort algorithm.\n",
    "\n",
    "**Expected Time Complexity:** O(N^2).<br>\n",
    "**Expected Auxiliary Space:** O(1).\n",
    "\n",
    "**Constraints:**\n",
    "- >1 <= N <= 10<sup>3</sup>\n",
    "- >1 <= arr[i] <= 10<sup>3</sup>"
   ]
  },
  {
   "cell_type": "code",
   "execution_count": 1,
   "metadata": {},
   "outputs": [],
   "source": [
    "class Solution:\n",
    "    # Function to sort the array using bubble sort algorithm.\n",
    "    def bubbleSort(self, arr, n):\n",
    "        # code here\n",
    "        for i in range(n - 1):\n",
    "            for j in range(n - 1 - i):\n",
    "                if arr[j] > arr[j + 1]:\n",
    "                    arr[j], arr[j + 1] = arr[j + 1], arr[j]\n",
    "                \n",
    "        return arr"
   ]
  }
 ],
 "metadata": {
  "kernelspec": {
   "display_name": "base",
   "language": "python",
   "name": "python3"
  },
  "language_info": {
   "codemirror_mode": {
    "name": "ipython",
    "version": 3
   },
   "file_extension": ".py",
   "mimetype": "text/x-python",
   "name": "python",
   "nbconvert_exporter": "python",
   "pygments_lexer": "ipython3",
   "version": "3.9.16"
  }
 },
 "nbformat": 4,
 "nbformat_minor": 2
}
