{
 "cells": [
  {
   "cell_type": "markdown",
   "metadata": {},
   "source": [
    "Given a binary array **A[]** of size **N**. The task is to arrange the array in increasing order.<br>\n",
    "**Note:** The binary array contains only 0  and 1.\n",
    " \n",
    "<br>\n",
    "\n",
    "**Example 1:**\n",
    ">**Input:** <br>\n",
    ">5<br>\n",
    ">1 0 1 1 0<br>\n",
    ">**Output:** <br>\n",
    ">0 0 1 1 1<br>\n",
    ">**Explanation:** <br>\n",
    "After arranging the elements in increasing order, elements will be as 0 0 1 1 1.\n",
    "\n",
    "**Example 2:**\n",
    ">**Input:**<br>\n",
    ">10<br>\n",
    ">1 0 1 1 1 1 1 0 0 0<br>\n",
    ">**Output:** <br>\n",
    ">0 0 0 0 1 1 1 1 1 1<br>\n",
    ">**Explanation:** <br>\n",
    "After arranging the elements in increasing order, elements will be 0 0 0 0 1 1 1 1 1 1.\n",
    "\n",
    "<br>\n",
    "\n",
    "**Your Task:**<br>\n",
    "This is a function problem. You only need to complete the function **binSort()** that takes the array **A[]** and it's size **N** as parameters and sorts the array. The **printing** is done **automatically** by the driver code.\n",
    "\n",
    "**Expected Time Complexity:** O(N)<br>\n",
    "**Expected Auxilliary Space:** O(1)\n",
    "\n",
    "**Constraints:**\n",
    "- >1 <= N <= 10<sup>6</sup>\n",
    "- >0 <= A[i] <= 1"
   ]
  },
  {
   "cell_type": "code",
   "execution_count": 1,
   "metadata": {},
   "outputs": [],
   "source": [
    "class Solution: \n",
    "    # Function to sort the binary array.\n",
    "    def binSort(self, A, N): \n",
    "        # Your code here\n",
    "        # No need to print the array\n",
    "        j = -1\n",
    "        \n",
    "        for i in range(N):\n",
    "            if A[i] < 1:\n",
    "                j = j + 1\n",
    "                A[i], A[j] = A[j], A[i]"
   ]
  }
 ],
 "metadata": {
  "kernelspec": {
   "display_name": "base",
   "language": "python",
   "name": "python3"
  },
  "language_info": {
   "codemirror_mode": {
    "name": "ipython",
    "version": 3
   },
   "file_extension": ".py",
   "mimetype": "text/x-python",
   "name": "python",
   "nbconvert_exporter": "python",
   "pygments_lexer": "ipython3",
   "version": "3.9.16"
  }
 },
 "nbformat": 4,
 "nbformat_minor": 2
}
