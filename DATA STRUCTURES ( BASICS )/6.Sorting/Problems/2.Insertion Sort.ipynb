{
 "cells": [
  {
   "cell_type": "markdown",
   "metadata": {},
   "source": [
    "The task is to complete the **insert()** function which is used to implement Insertion Sort.\n",
    "\n",
    "<br>\n",
    "\n",
    "**Example 1:**\n",
    ">**Input:**<br>\n",
    ">N = 5<br>\n",
    ">arr[] = { 4, 1, 3, 9, 7}<br>\n",
    ">**Output:**<br>\n",
    ">1 3 4 7 9\n",
    "\n",
    "**Example 2:**\n",
    ">**Input:**<br>\n",
    ">N = 10<br>\n",
    ">arr[] = {10, 9, 8, 7, 6, 5, 4, 3, 2, 1}<br>\n",
    ">**Output:**<br>\n",
    ">1 2 3 4 5 6 7 8 9 10\n",
    "\n",
    "<br>\n",
    "\n",
    "**Your Task:** <br>\n",
    "You don't have to read input or print anything. Your task is to complete the function **insert()** and **insertionSort()** where **insert()** takes the array, it's size and an index i and **insertionSort()** uses insert function to sort the array in ascending order using insertion sort algorithm. \n",
    "\n",
    "**Expected Time Complexity:** O(N*N).<br>\n",
    "**Expected Auxiliary Space:** O(1).\n",
    "\n",
    "**Constraints:**\n",
    "- >1 <= N <= 1000\n",
    "- >1 <= arr[i] <= 1000"
   ]
  },
  {
   "cell_type": "code",
   "execution_count": 1,
   "metadata": {},
   "outputs": [],
   "source": [
    "class Solution:\n",
    "    def insert(self, alist, index, n):\n",
    "        # code here\n",
    "        alist[index] = n\n",
    "        return alist\n",
    "        \n",
    "    # Function to sort the list using insertion sort algorithm.    \n",
    "    def insertionSort(self, alist, n):\n",
    "        # code here\n",
    "        for i in range(1, n):\n",
    "            x = alist[i]\n",
    "            j = i - 1\n",
    "            while j >= 0 and x <= alist[j]:\n",
    "                self.insert(alist, j + 1, alist[j])\n",
    "                j = j - 1\n",
    "\n",
    "            self.insert(alist, j + 1, x)"
   ]
  }
 ],
 "metadata": {
  "kernelspec": {
   "display_name": "base",
   "language": "python",
   "name": "python3"
  },
  "language_info": {
   "codemirror_mode": {
    "name": "ipython",
    "version": 3
   },
   "file_extension": ".py",
   "mimetype": "text/x-python",
   "name": "python",
   "nbconvert_exporter": "python",
   "pygments_lexer": "ipython3",
   "version": "3.9.16"
  }
 },
 "nbformat": 4,
 "nbformat_minor": 2
}
