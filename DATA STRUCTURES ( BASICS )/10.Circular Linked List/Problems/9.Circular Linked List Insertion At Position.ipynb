{
 "cells": [
  {
   "cell_type": "markdown",
   "metadata": {},
   "source": [
    "You are given a circular linked list of size N. You need to **insert** an **element data** just **after** the **given position pos**.<br>\n",
    "The position of **first** element is **1**. If the given position is **greater** than N, then don't insert anything as it is not possible.<br>\n",
    "As the given linked list is circular, it means that the tail is connected to the head of the list.\n",
    "\n",
    "<br>\n",
    "\n",
    "**Example 1:**\n",
    ">**Input:**<br>\n",
    ">LinkedList: 1->2->3->4->5<br>\n",
    ">(the first and last node is connected, i.e. 5 --> 1)<br>\n",
    ">position = 6, element = 10<br>\n",
    ">**Output:** 1 2 3 4 5 \n",
    "\n",
    "**Example 2:**\n",
    ">**Input:**<br>\n",
    ">LinkedList: 2->4->6->7->5->1->0<br>\n",
    ">(the first and last node is connected, i.e. 0 --> 2)<br>\n",
    ">position = 7,data = 99<br>\n",
    ">**Output:** 2 4 6 7 5 1 0 99\n",
    "\n",
    "<br>\n",
    "\n",
    "**Your Task:**<br>\n",
    "You only need to complete the function **insertAtPosition** that takes **head, pos, and data** as parameters. The **printing** is done **automatically** by the **driver code**.\n",
    "\n",
    "**Expected Time Complexity:** O(N).<br>\n",
    "**Expected Auxiliary Space:** O(1).\n",
    "\n",
    "**Constraints:**\n",
    "- >1 <= N, pos <= 10<sup>3</sup>"
   ]
  },
  {
   "cell_type": "code",
   "execution_count": 1,
   "metadata": {},
   "outputs": [],
   "source": [
    "'''\n",
    "class Node:\n",
    "    def __init__(self, data):\n",
    "        self.data = data\n",
    "        self.next = None\n",
    "'''\n",
    "def insertAtPosition(head, pos, data):\n",
    "    # code here\n",
    "    if not head:\n",
    "        return None\n",
    "\n",
    "    newNode = Node(data)\n",
    "    current = head\n",
    "    count = 1\n",
    "\n",
    "    while count < pos and current.next != head:\n",
    "        current = current.next\n",
    "        count += 1\n",
    "\n",
    "    if current.next == head and count < pos:\n",
    "        return head\n",
    "\n",
    "    newNode.next = current.next\n",
    "    current.next = newNode\n",
    "    \n",
    "    return head"
   ]
  }
 ],
 "metadata": {
  "kernelspec": {
   "display_name": "base",
   "language": "python",
   "name": "python3"
  },
  "language_info": {
   "codemirror_mode": {
    "name": "ipython",
    "version": 3
   },
   "file_extension": ".py",
   "mimetype": "text/x-python",
   "name": "python",
   "nbconvert_exporter": "python",
   "pygments_lexer": "ipython3",
   "version": "3.9.16"
  }
 },
 "nbformat": 4,
 "nbformat_minor": 2
}
