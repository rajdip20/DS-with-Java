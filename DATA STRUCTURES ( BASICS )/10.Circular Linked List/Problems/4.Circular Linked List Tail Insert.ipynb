{
 "cells": [
  {
   "cell_type": "markdown",
   "metadata": {},
   "source": [
    "Given a circular **linked list** of size **N**, you need to insert an **element data after the tail**.<br>\n",
    "The tail of the linked list is connected to head.\n",
    "\n",
    "<br>\n",
    "\n",
    "**Example 1:**\n",
    ">**Input:**<br>\n",
    ">LinkedList: 1->2->3->4<br>\n",
    ">(the first and last node is connected, i.e. 4 --> 1)<br>\n",
    ">data = 10<br>\n",
    ">**Output:** 1 2 3 4 10\n",
    "\n",
    "**Example 2:**\n",
    ">**Input:**<br>\n",
    ">LinkedList: 1 2<br>\n",
    ">(the first and last node is connected, i.e. 2 --> 1)<br>\n",
    ">data = 5<br>\n",
    ">**Output:** 1 2 5\n",
    "\n",
    "<br>\n",
    "\n",
    "**Your Task:**<br>\n",
    "The task is to complete the function **insertInTail()** which takes **head** reference and **data** as **arguments** and **returns** the **head** of the updated list. The **printing** is done by the **driver** code.\n",
    "\n",
    "**Expected Time Complexity:** O(N).<br>\n",
    "**Expected Auxiliary Space:** O(1).\n",
    "\n",
    "**Constraints:**\n",
    "- >1 <= Number of nodes <= 1000"
   ]
  },
  {
   "cell_type": "code",
   "execution_count": 1,
   "metadata": {},
   "outputs": [],
   "source": [
    "'''\n",
    "class Node:\n",
    "    def __init__(self, data):\n",
    "        self.data = data\n",
    "        self.next = None\n",
    "'''\n",
    "\n",
    "def insertInTail(head, x):\n",
    "    # code here\n",
    "    new_node = Node(x)\n",
    "    if not head:\n",
    "        new_node.next = new_node\n",
    "        return new_node\n",
    "    \n",
    "    tail = head\n",
    "    while tail.next != head:\n",
    "        tail = tail.next\n",
    "    \n",
    "    tail.next = new_node\n",
    "    new_node.next = head\n",
    "    \n",
    "    return head"
   ]
  }
 ],
 "metadata": {
  "kernelspec": {
   "display_name": "base",
   "language": "python",
   "name": "python3"
  },
  "language_info": {
   "codemirror_mode": {
    "name": "ipython",
    "version": 3
   },
   "file_extension": ".py",
   "mimetype": "text/x-python",
   "name": "python",
   "nbconvert_exporter": "python",
   "pygments_lexer": "ipython3",
   "version": "3.9.16"
  }
 },
 "nbformat": 4,
 "nbformat_minor": 2
}
