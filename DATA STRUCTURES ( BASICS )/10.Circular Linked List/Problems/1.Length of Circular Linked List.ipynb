{
 "cells": [
  {
   "cell_type": "markdown",
   "metadata": {},
   "source": [
    "Given a circular linked list of size **n**, you need to find the **length** of the list (total number of nodes). The tail of the linked list is connected to head.\n",
    "\n",
    "<br>\n",
    "\n",
    "**Example 1:**\n",
    ">**Input:**<br>\n",
    ">LinkedList: 1->2->3->4->5<br>\n",
    ">(the first and the last node is connected, i.e 5 --> 1)<br>\n",
    ">**Output:** 5\n",
    "\n",
    "**Example 2:**\n",
    ">**Input:**<br>\n",
    ">LinkedList: 2->5->7->8->99->100<br>\n",
    ">(the first and the last node is connected, i.e 100 --> 2)<br>\n",
    ">**Output:** 6\n",
    "\n",
    "<br>\n",
    "\n",
    "**Your Task:**<br>\n",
    "The task is to complete the function **getLength()** which takes **head reference** as argument and **returns** the total number of **nodes in the list**. The printing is done by the driver code.\n",
    "\n",
    "**Expected Time Complexity:** O(N).<br>\n",
    "**Expected Auxiliary Space:** O(1).\n",
    "\n",
    "**Constraints:**\n",
    "- >1 <= number of nodes <= 1000"
   ]
  },
  {
   "cell_type": "code",
   "execution_count": 1,
   "metadata": {},
   "outputs": [],
   "source": [
    "'''\n",
    "class Node:\n",
    "    def __init__(self, data):\n",
    "        self.data = data\n",
    "        self.next = None\n",
    "'''\n",
    "\n",
    "def getLength(head):\n",
    "    # code here\n",
    "    if not head:\n",
    "        return 0\n",
    "    \n",
    "    length = 1\n",
    "    current = head.next\n",
    "    \n",
    "    while current != head:\n",
    "        length += 1\n",
    "        current = current.next\n",
    "    \n",
    "    return length"
   ]
  }
 ],
 "metadata": {
  "kernelspec": {
   "display_name": "base",
   "language": "python",
   "name": "python3"
  },
  "language_info": {
   "codemirror_mode": {
    "name": "ipython",
    "version": 3
   },
   "file_extension": ".py",
   "mimetype": "text/x-python",
   "name": "python",
   "nbconvert_exporter": "python",
   "pygments_lexer": "ipython3",
   "version": "3.9.16"
  }
 },
 "nbformat": 4,
 "nbformat_minor": 2
}
