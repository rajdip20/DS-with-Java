{
 "cells": [
  {
   "cell_type": "markdown",
   "metadata": {},
   "source": [
    "Given a circular linked list of size **n**, you need to display the linked list. The tail of the linked list is connected to head.\n",
    "\n",
    "<br>\n",
    "\n",
    "**Example 1:**\n",
    ">**Input:**<br>\n",
    ">LinkedList: 1->2->3->4<br>\n",
    ">(the last and the first node are connected, i.e. 4 -> 1)<br>\n",
    ">**Output:** 1 2 3 4\n",
    "\n",
    "**Example 2:**\n",
    ">**Input:**<br>\n",
    ">LinkedList: 1->2<br>\n",
    ">(the last and the first node are connected, i.e. 2 -> 1)<br>\n",
    ">**Output:** 1 2\n",
    "\n",
    "<br>\n",
    "\n",
    "**Your Task:**<br>\n",
    "The task is to complete the function **displayList()** which takes head reference as argument and returns the circular linked list as a list.\n",
    "\n",
    "**Expected Time Complexity:** O(N).<br>\n",
    "**Expected Auxiliary Space:** O(N).\n",
    "\n",
    "**Constraints:**\n",
    "- >1 <= number of nodes <= 1000"
   ]
  },
  {
   "cell_type": "code",
   "execution_count": 1,
   "metadata": {},
   "outputs": [],
   "source": [
    "'''\n",
    "class Node:\n",
    "    def __init__(self, data):\n",
    "        self.data = data\n",
    "        self.next = None\n",
    "'''\n",
    "\n",
    "def displayList(head):\n",
    "    # code here\n",
    "    if not head:\n",
    "        return []\n",
    "    \n",
    "    result = []\n",
    "    current = head\n",
    "    \n",
    "    while True:\n",
    "        result.append(current.data)\n",
    "        current = current.next\n",
    "        if current == head:\n",
    "            break\n",
    "    \n",
    "    return result"
   ]
  }
 ],
 "metadata": {
  "kernelspec": {
   "display_name": "base",
   "language": "python",
   "name": "python3"
  },
  "language_info": {
   "codemirror_mode": {
    "name": "ipython",
    "version": 3
   },
   "file_extension": ".py",
   "mimetype": "text/x-python",
   "name": "python",
   "nbconvert_exporter": "python",
   "pygments_lexer": "ipython3",
   "version": "3.9.16"
  }
 },
 "nbformat": 4,
 "nbformat_minor": 2
}
