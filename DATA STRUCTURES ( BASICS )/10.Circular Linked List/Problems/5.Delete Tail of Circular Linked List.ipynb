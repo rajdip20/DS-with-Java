{
 "cells": [
  {
   "cell_type": "markdown",
   "metadata": {},
   "source": [
    "Given a circular linked list of size **n**, you have to **delete the tail (last element)** in the linked list.<br>\n",
    "In a circular linked list, the tail is connect to the head using the next pointer.\n",
    "\n",
    "<br>\n",
    "\n",
    "**Example 1:**\n",
    ">**Input:**<br>\n",
    ">LinkedList: 1->2<br>\n",
    ">(the first and last node are connected, i.e. 2 --> 1)<br>\n",
    ">**Output:** 1\n",
    "\n",
    "**Example 2:**\n",
    ">**Input:**<br>\n",
    ">LinkedList: 2->5->7->8->99->100<br>\n",
    ">(the first and last node are connected, i.e. 100 --> 2)<br>\n",
    ">**Output:** 2 5 7 8 99\n",
    "\n",
    "<br>\n",
    "\n",
    "**Your Task:**<br>\n",
    "The task is to complete the function **deleteTail()** which takes **head reference and returns** reference to the **head** node, which is then used to display the list. The **printing** is done **automatically** by the **driver code**.\n",
    "\n",
    "**Expected Time Complexity:** O(n).<br>\n",
    "**Expected Auxiliary Space:** O(1).\n",
    "\n",
    "**Constraints:**\n",
    "- >2 <= number of nodes <= 10<sup>3</sup>"
   ]
  },
  {
   "cell_type": "code",
   "execution_count": 1,
   "metadata": {},
   "outputs": [],
   "source": [
    "'''\n",
    "class Node:\n",
    "    def __init__(self, data):\n",
    "        self.data = data\n",
    "        self.next = None\n",
    "'''\n",
    "\n",
    "def deleteTail(head):\n",
    "    # code here\n",
    "    if not head or not head.next:\n",
    "        return None\n",
    "    \n",
    "    prev = None\n",
    "    current = head\n",
    "    while current.next != head:\n",
    "        prev = current\n",
    "        current = current.next\n",
    "    \n",
    "    prev.next = head\n",
    "    \n",
    "    return head"
   ]
  }
 ],
 "metadata": {
  "kernelspec": {
   "display_name": "base",
   "language": "python",
   "name": "python3"
  },
  "language_info": {
   "codemirror_mode": {
    "name": "ipython",
    "version": 3
   },
   "file_extension": ".py",
   "mimetype": "text/x-python",
   "name": "python",
   "nbconvert_exporter": "python",
   "pygments_lexer": "ipython3",
   "version": "3.9.16"
  }
 },
 "nbformat": 4,
 "nbformat_minor": 2
}
