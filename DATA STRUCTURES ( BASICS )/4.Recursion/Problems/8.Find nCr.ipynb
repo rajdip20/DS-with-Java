{
 "cells": [
  {
   "cell_type": "markdown",
   "metadata": {},
   "source": [
    "You are given **two numbers n and r**. You need to find <sup>n</sup>C<sub>r</sub>.<br>\n",
    "<sup>n</sup>C<sub>r</sub> = (n!) / ((n-r)!*(r!))\n",
    "\n",
    "**In recursive way**, we can write <sup>n</sup>C<sub>r</sub> as <sup>n</sup>C<sub>r</sub> = <sup>(n-1)</sup>C<sub>(r-1)</sub> + <sup>(n-1)</sup>C<sub>r</sub>\n",
    "\n",
    "<br>\n",
    "\n",
    "**Example 1:**\n",
    ">**Input:**<br>\n",
    ">n = 5, r = 2<br>\n",
    ">**Output:** 10\n",
    "\n",
    "**Example 2:**\n",
    ">**Input:**<br>\n",
    ">n = 4, r = 1<br>\n",
    ">**Output:** 4\n",
    "\n",
    "<br>\n",
    "\n",
    "**Your Task:**<br>\n",
    "You only need to complete the function **<sup>n</sup>C<sub>r</sub>** that takes **n** and **r** as **parameters** and **returns** the **<sup>n</sup>C<sub>r</sub>**.\n",
    "\n",
    "**Expected Time Complexity:** O(2<sup>N</sup>).<br>\n",
    "**Expected Auxiliary Space:** O(2<sup>N</sup>) (Recursive).\n",
    "\n",
    "**Constraints:**\n",
    "- >1 <= r <= n <= 30"
   ]
  },
  {
   "cell_type": "code",
   "execution_count": 1,
   "metadata": {},
   "outputs": [],
   "source": [
    "def nCr(n, r):\n",
    "    # code here\n",
    "    if n < r:\n",
    "        return 0\n",
    "    elif r == 0:\n",
    "        return 1\n",
    "    elif r == 1:\n",
    "        return n\n",
    "    elif n == 1:\n",
    "        return 1\n",
    "    \n",
    "    return nCr(n - 1, r - 1) + nCr(n - 1, r)"
   ]
  }
 ],
 "metadata": {
  "kernelspec": {
   "display_name": "base",
   "language": "python",
   "name": "python3"
  },
  "language_info": {
   "codemirror_mode": {
    "name": "ipython",
    "version": 3
   },
   "file_extension": ".py",
   "mimetype": "text/x-python",
   "name": "python",
   "nbconvert_exporter": "python",
   "pygments_lexer": "ipython3",
   "version": "3.9.16"
  }
 },
 "nbformat": 4,
 "nbformat_minor": 2
}
