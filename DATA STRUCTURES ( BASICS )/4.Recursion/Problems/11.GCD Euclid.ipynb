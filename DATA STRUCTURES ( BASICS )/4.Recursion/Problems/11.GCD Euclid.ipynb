{
 "cells": [
  {
   "cell_type": "markdown",
   "metadata": {},
   "source": [
    "You are given a two numbers a and b. Find their GCD using recursion.\n",
    "\n",
    "<br>\n",
    "\n",
    "**Example 1:**\n",
    ">**Input:**<br>\n",
    ">a = 7, b = 8<br>\n",
    ">**Output:** 1\n",
    "\n",
    "**Example 2:**\n",
    ">**Input:**<br>\n",
    ">a = 2, b = 4<br>\n",
    ">**Output:** 2\n",
    "\n",
    "<br>\n",
    "\n",
    "**Your Task:**<br>\n",
    "Complete the function GCD that takes a and b as parameters and returns the GCD.\n",
    "\n",
    "**Expected Time Complexity:** O(Log(N)).<br>\n",
    "**Expected Auxiliary Space:** O(Log(N)) (Recursive).\n",
    "\n",
    "**Constraints:**\n",
    "- >1 <= a, b <= 100"
   ]
  },
  {
   "cell_type": "code",
   "execution_count": 1,
   "metadata": {},
   "outputs": [],
   "source": [
    "class Solution:\n",
    "    def GCD(self, a, b):\n",
    "        # code here\n",
    "        if b == 0:\n",
    "            return a\n",
    "        \n",
    "        return self.GCD(b, a % b)"
   ]
  }
 ],
 "metadata": {
  "kernelspec": {
   "display_name": "base",
   "language": "python",
   "name": "python3"
  },
  "language_info": {
   "codemirror_mode": {
    "name": "ipython",
    "version": 3
   },
   "file_extension": ".py",
   "mimetype": "text/x-python",
   "name": "python",
   "nbconvert_exporter": "python",
   "pygments_lexer": "ipython3",
   "version": "3.9.16"
  }
 },
 "nbformat": 4,
 "nbformat_minor": 2
}
