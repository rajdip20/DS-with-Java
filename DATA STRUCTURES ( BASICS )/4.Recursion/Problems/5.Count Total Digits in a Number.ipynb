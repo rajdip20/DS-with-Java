{
 "cells": [
  {
   "cell_type": "markdown",
   "metadata": {},
   "source": [
    "You are given a number **n**. You need to find the **count of digits** in n.\n",
    "\n",
    "<br>\n",
    "\n",
    "**Example 1:**\n",
    ">**Input:**<br>\n",
    ">n = 1<br>\n",
    ">**Output:** 1<br>\n",
    ">**Explanation:** Number of digit in 1 is 1.\n",
    "\n",
    "**Example 2:**\n",
    ">**Input:**<br>\n",
    ">n  = 99999<br>\n",
    ">**Output:** 5<br>\n",
    ">**Explanation:** Number of digit in 99999 is 5\n",
    "\n",
    "<br>\n",
    "\n",
    "**Your Task:**<br>\n",
    "You don't need to read input or print anything. Your task is to complete the function **countDigits()** that takes **n** as **parameter** and **returns** the **count of digits** in n.\n",
    "\n",
    "**Expected Time Complexity:** O(Logn).<br>\n",
    "**Expected Auxiliary Space:** O(Logn).\n",
    "\n",
    "**Constraints:**\n",
    "- >1 <= n <= 10<sup>7</sup>"
   ]
  },
  {
   "cell_type": "code",
   "execution_count": 1,
   "metadata": {},
   "outputs": [],
   "source": [
    "class Solution:\n",
    "    def countDigits(self, n):\n",
    "        '''\n",
    "        :param n: given number\n",
    "        :return: count of digits of n.\n",
    "        '''\n",
    "        # code here\n",
    "        if n < 10:\n",
    "            return 1\n",
    "\n",
    "        return 1 + self.countDigits(n // 10)"
   ]
  }
 ],
 "metadata": {
  "kernelspec": {
   "display_name": "base",
   "language": "python",
   "name": "python3"
  },
  "language_info": {
   "codemirror_mode": {
    "name": "ipython",
    "version": 3
   },
   "file_extension": ".py",
   "mimetype": "text/x-python",
   "name": "python",
   "nbconvert_exporter": "python",
   "pygments_lexer": "ipython3",
   "version": "3.9.16"
  }
 },
 "nbformat": 4,
 "nbformat_minor": 2
}
