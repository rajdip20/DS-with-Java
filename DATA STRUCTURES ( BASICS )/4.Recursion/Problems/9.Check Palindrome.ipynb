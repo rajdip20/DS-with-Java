{
 "cells": [
  {
   "cell_type": "markdown",
   "metadata": {},
   "source": [
    "You are given a number n. You need to see if the number is a palindrome or not (recursively)\n",
    "\n",
    "<br>\n",
    "\n",
    "**Example 1:**\n",
    ">**Input:**<br>\n",
    ">n = 100<br>\n",
    "**Output:** 0\n",
    "\n",
    "**Example 2:**\n",
    ">**Input:**<br>\n",
    ">n = 101<br>\n",
    "**Output:** 1\n",
    "\n",
    "<br>\n",
    "\n",
    "**Your Task:**<br>\n",
    "Complete the function isPalin that takes n as parameter and returns true or false . (In case of true, 1 will be printed by the driver code, otherwise 0)\n",
    "\n",
    "**Expected Time Complexity:** O(Log(N)).<br>\n",
    "**Expected Auxiliary Space:** O(Log(N)) (Recursive).\n",
    "\n",
    "**Constraints:**\n",
    "- >1 <= n <= 10<sup>8</sup>"
   ]
  },
  {
   "cell_type": "code",
   "execution_count": 1,
   "metadata": {},
   "outputs": [],
   "source": [
    "class Solution:\n",
    "    def isPalin(self, N):\n",
    "        # code here\n",
    "        def reverse(N, rev):\n",
    "            if N == 0:\n",
    "                return rev\n",
    "\n",
    "            rev = (rev * 10) + (N % 10)\n",
    "            return reverse(N // 10, rev)\n",
    "        \n",
    "        if N == reverse(N, 0):\n",
    "            return 1\n",
    "        else:\n",
    "            return 0"
   ]
  }
 ],
 "metadata": {
  "kernelspec": {
   "display_name": "base",
   "language": "python",
   "name": "python3"
  },
  "language_info": {
   "codemirror_mode": {
    "name": "ipython",
    "version": 3
   },
   "file_extension": ".py",
   "mimetype": "text/x-python",
   "name": "python",
   "nbconvert_exporter": "python",
   "pygments_lexer": "ipython3",
   "version": "3.9.16"
  }
 },
 "nbformat": 4,
 "nbformat_minor": 2
}
