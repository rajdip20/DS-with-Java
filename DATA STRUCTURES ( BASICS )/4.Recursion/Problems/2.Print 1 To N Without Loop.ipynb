{
 "cells": [
  {
   "cell_type": "markdown",
   "metadata": {},
   "source": [
    "Print numbers from **1 to N** without the help of loops.\n",
    "\n",
    "<br>\n",
    "\n",
    "**Example 1:**\n",
    ">**Input:**<br>\n",
    ">N = 10<br>\n",
    ">**Output:** 1 2 3 4 5 6 7 8 9 10\n",
    "\n",
    "**Example 2:**\n",
    ">**Input:**<br>\n",
    ">N = 5<br>\n",
    ">**Output:** 1 2 3 4 5\n",
    "\n",
    "<br>\n",
    "\n",
    "**Your Task:**<br>\n",
    "This is a function problem. You only need to complete the **function printNos()** that takes **N as parameter** and prints number from **1 to N** recursively. Don't print newline, it will be added by the driver code.\n",
    "\n",
    "**Expected Time Complexity:** O(N).<br>\n",
    "**Expected Auxiliary Space:** O(N) (Recursive).\n",
    "\n",
    "**Constraints:**\n",
    "- >1 <= N <= 1000"
   ]
  },
  {
   "cell_type": "code",
   "execution_count": 1,
   "metadata": {},
   "outputs": [],
   "source": [
    "class Solution:    \n",
    "    # Complete this function\n",
    "    def printNos(self, N):\n",
    "        # Your code here\n",
    "        if N == 0:\n",
    "            return\n",
    "        \n",
    "        self.printNos(N - 1)\n",
    "        \n",
    "        print(N, end=\" \")"
   ]
  }
 ],
 "metadata": {
  "kernelspec": {
   "display_name": "base",
   "language": "python",
   "name": "python3"
  },
  "language_info": {
   "codemirror_mode": {
    "name": "ipython",
    "version": 3
   },
   "file_extension": ".py",
   "mimetype": "text/x-python",
   "name": "python",
   "nbconvert_exporter": "python",
   "pygments_lexer": "ipython3",
   "version": "3.9.16"
  }
 },
 "nbformat": 4,
 "nbformat_minor": 2
}
