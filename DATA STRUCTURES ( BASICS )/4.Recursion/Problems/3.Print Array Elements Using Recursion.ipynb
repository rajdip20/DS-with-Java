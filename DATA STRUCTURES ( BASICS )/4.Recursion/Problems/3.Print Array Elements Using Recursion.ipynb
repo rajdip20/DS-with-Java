{
 "cells": [
  {
   "cell_type": "markdown",
   "metadata": {},
   "source": [
    "You are given an array arr of size n. You need to print the array elements from start to end using given recursive function.\n",
    "\n",
    "<br>\n",
    "\n",
    "**Example 1:**\n",
    ">**Input:**<br>\n",
    ">n = 5<br>\n",
    ">arr[] = {1,2,3,4,5}<br>\n",
    ">**Output:** 1 2 3 4 5\n",
    "\n",
    "**Example 2:**\n",
    ">**Input:**<br>\n",
    ">n = 4<br>\n",
    ">arr[] = {5,4,2,1}<br>\n",
    ">**Output:** 5 4 2 1\n",
    "\n",
    "<br>\n",
    "\n",
    "**Your Task:**<br>\n",
    "Complete the function **printArrayRecursively()** that takes array and size n as parameters and prints the array elements recursively. The newline is provided by driver code.\n",
    "\n",
    "**Expected Time Complexity:** O(N).<br>\n",
    "**Expected Auxiliary Space:** O(N) (Recursive).\n",
    "\n",
    "**Constraints:**\n",
    "- >1 <= n <= 100"
   ]
  },
  {
   "cell_type": "code",
   "execution_count": 1,
   "metadata": {},
   "outputs": [],
   "source": [
    "class Solution:\n",
    "    def printArrayRecursively(self, arr, n):\n",
    "        # code here\n",
    "        if n == 0:\n",
    "            return\n",
    "        \n",
    "        self.printArrayRecursively(arr, n - 1)\n",
    "        print(arr[n - 1], end=\" \")"
   ]
  }
 ],
 "metadata": {
  "kernelspec": {
   "display_name": "base",
   "language": "python",
   "name": "python3"
  },
  "language_info": {
   "codemirror_mode": {
    "name": "ipython",
    "version": 3
   },
   "file_extension": ".py",
   "mimetype": "text/x-python",
   "name": "python",
   "nbconvert_exporter": "python",
   "pygments_lexer": "ipython3",
   "version": "3.9.16"
  }
 },
 "nbformat": 4,
 "nbformat_minor": 2
}
