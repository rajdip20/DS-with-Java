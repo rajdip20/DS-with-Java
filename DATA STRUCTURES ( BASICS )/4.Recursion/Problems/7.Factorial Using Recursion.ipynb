{
 "cells": [
  {
   "cell_type": "markdown",
   "metadata": {},
   "source": [
    "You are given a number n. You need to recursively find the factorial of n and return it.\n",
    "\n",
    "<br>\n",
    "\n",
    "**Example 1:**\n",
    ">**Input:**<br>\n",
    ">n = 5<br>\n",
    ">**Output:** 120\n",
    "\n",
    "**Example 2:**\n",
    ">**Input:**<br>\n",
    ">n = 0<br>\n",
    ">**Output:** 1\n",
    "\n",
    "<br>\n",
    "\n",
    "**Your Task:**<br>\n",
    "Complete the function factorial that takes n as parameter and returns the factorial. \n",
    "\n",
    "**Expected Time Complexity:** O(N).<br>\n",
    "**Expected Auxiliary Space:** O(N) (Recursive).\n",
    "\n",
    "**Constraints:**\n",
    "- >0 <= n <= 10"
   ]
  },
  {
   "cell_type": "code",
   "execution_count": 1,
   "metadata": {},
   "outputs": [],
   "source": [
    "class Solution:\n",
    "    def factorial(self, n):\n",
    "        # code here\n",
    "        if n == 0:\n",
    "            return 1\n",
    "        return n * self.factorial(n - 1)"
   ]
  }
 ],
 "metadata": {
  "kernelspec": {
   "display_name": "base",
   "language": "python",
   "name": "python3"
  },
  "language_info": {
   "codemirror_mode": {
    "name": "ipython",
    "version": 3
   },
   "file_extension": ".py",
   "mimetype": "text/x-python",
   "name": "python",
   "nbconvert_exporter": "python",
   "pygments_lexer": "ipython3",
   "version": "3.9.16"
  }
 },
 "nbformat": 4,
 "nbformat_minor": 2
}
