{
 "cells": [
  {
   "cell_type": "markdown",
   "metadata": {},
   "source": [
    "You are given a number **n**. You need to find **nth** Fibonacci number.<br>\n",
    "F(n)=F(n-1)+F(n-2); where F(1)=1 and F(2)=1\n",
    "\n",
    "<br>\n",
    "\n",
    "**Example 1:**\n",
    ">**Input:**<br>\n",
    ">n = 1<br>\n",
    ">**Output:** 1<br>\n",
    ">**Explanation:** The first fibonacci number is 1\n",
    "\n",
    "**Example 2:**\n",
    ">**Input:**<br>\n",
    ">n = 20<br>\n",
    ">**Output:** 6765<br>\n",
    ">**Explanation:** The 20th fibonacci number is 6765\n",
    "\n",
    "<br>\n",
    "\n",
    "**Your Task:**<br>\n",
    "You don't need to read input or print anything. You only need to complete the function **fibonacci** that takes **n** as **parameters** and **returns** the n-th fibonacci number.\n",
    "\n",
    "**Expected Time Complexity:** O(2<sup>n</sup>).<br>\n",
    "**Expected Auxiliary Space:** O(N).\n",
    "\n",
    "**Constraints:**\n",
    "- >1 <= n <= 20"
   ]
  },
  {
   "cell_type": "code",
   "execution_count": 1,
   "metadata": {},
   "outputs": [],
   "source": [
    "class Solution:\n",
    "    def fibonacci(self, n):\n",
    "        # code here\n",
    "        if n == 0:\n",
    "            return 0\n",
    "        elif n == 1:\n",
    "            return 1\n",
    "        else:\n",
    "            return self.fibonacci(n - 1) + self.fibonacci(n - 2)"
   ]
  }
 ],
 "metadata": {
  "kernelspec": {
   "display_name": "base",
   "language": "python",
   "name": "python3"
  },
  "language_info": {
   "codemirror_mode": {
    "name": "ipython",
    "version": 3
   },
   "file_extension": ".py",
   "mimetype": "text/x-python",
   "name": "python",
   "nbconvert_exporter": "python",
   "pygments_lexer": "ipython3",
   "version": "3.9.16"
  }
 },
 "nbformat": 4,
 "nbformat_minor": 2
}
