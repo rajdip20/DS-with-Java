{
 "cells": [
  {
   "cell_type": "markdown",
   "metadata": {},
   "source": [
    "Given two strings **a** and **b** consisting of lowercase characters. The task is to check whether two given strings are an anagram of each other or not. An anagram of a string is another string that contains the same characters, only the order of characters can be different. For example, act and tac are an anagram of each other.\n",
    "\n",
    "**Note:-**\n",
    "- If the strings are anagrams you have to **return True or else return False**\n",
    "- |s| represents the length of string s.\n",
    "\n",
    "<br>\n",
    "\n",
    "**Example 1:**\n",
    ">**Input:** a = geeksforgeeks, b = forgeeksgeeks<br>\n",
    ">**Output:** YES<br>\n",
    ">**Explanation:** Both the string have same characters with same frequency. So, both are anagrams.\n",
    "\n",
    "**Example 2:**\n",
    ">**Input:** a = allergy, b = allergic<br>\n",
    ">**Output:** NO<br>\n",
    ">**Explanation:** Characters in both the strings are not same, so they are not anagrams.\n",
    "\n",
    "<br>\n",
    "\n",
    "**Your Task:**<br>\n",
    "You don't need to read input or print anything. Your task is to complete the function **isAnagram()** which takes the string **a** and string **b** as input parameter and check if the two strings are an anagram of each other. The function returns true if the strings are anagram else it returns false.\n",
    "\n",
    "**Expected Time Complexity:** O(|a|+|b|).<br>\n",
    "**Expected Auxiliary Space:** O(Number of distinct characters).\n",
    "\n",
    "**Constraints:**\n",
    "- >1 ≤ |a|,|b| ≤ 10<sup>5</sup>"
   ]
  },
  {
   "cell_type": "code",
   "execution_count": 1,
   "metadata": {},
   "outputs": [],
   "source": [
    "class Solution:\n",
    "    \n",
    "    # Function is to check whether two strings are anagram of each other or not.\n",
    "    def isAnagram(self, a, b):\n",
    "        # code here\n",
    "        count_a = {}\n",
    "\n",
    "        for char in a:\n",
    "            count_a[char] = count_a.get(char, 0) + 1\n",
    "        \n",
    "        count_b = {}\n",
    "        for char in b:\n",
    "            count_b[char] = count_b.get(char, 0) + 1\n",
    "        \n",
    "        return count_a == count_b"
   ]
  }
 ],
 "metadata": {
  "kernelspec": {
   "display_name": "base",
   "language": "python",
   "name": "python3"
  },
  "language_info": {
   "codemirror_mode": {
    "name": "ipython",
    "version": 3
   },
   "file_extension": ".py",
   "mimetype": "text/x-python",
   "name": "python",
   "nbconvert_exporter": "python",
   "pygments_lexer": "ipython3",
   "version": "3.9.16"
  }
 },
 "nbformat": 4,
 "nbformat_minor": 2
}
