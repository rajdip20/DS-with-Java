{
 "cells": [
  {
   "cell_type": "markdown",
   "metadata": {},
   "source": [
    "You are given a string s. You need to find the missing characters in the string to make a panagram ( a sentence using every letter of english alphabet at least once ).<br>\n",
    "**Note:** The output characters will be lowercase and lexicographically sorted.\n",
    "\n",
    "<br>\n",
    "\n",
    "**Example 1:**\n",
    ">**Input:**<br>\n",
    ">s = Abcdefghijklmnopqrstuvwxy<br>\n",
    ">**Output:** z\n",
    "\n",
    "**Example 2:**\n",
    ">**Input:**<br>\n",
    ">s = Abc<br>\n",
    ">**Output:** defghijklmnopqrstuvwxyz\n",
    "\n",
    "<br>\n",
    "\n",
    "**Your Task:**<br>\n",
    "You only need to complete the function **misssingPanagram()** that takes s as parameter and returns -1 if the string is a panagram, else it returns a string that consists missing characters.\n",
    "\n",
    "\n",
    "**Expected Time Complexity:** O(|S|).<br>\n",
    "**Expected Auxiliary Space:** O(1).\n",
    "\n",
    "**Constraints:**\n",
    "- >1 <= |s| <= 10000"
   ]
  },
  {
   "cell_type": "code",
   "execution_count": 1,
   "metadata": {},
   "outputs": [],
   "source": [
    "\"\"\"\n",
    "input - \n",
    "@s = given string \n",
    "\n",
    "output - \n",
    "return -1 or required ans\n",
    "\"\"\"\n",
    "class Solution:\n",
    "    def missingPanagram(self, s):\n",
    "        present_chars = set(s.lower())\n",
    "        missing_chars = []\n",
    "        \n",
    "        for char in 'abcdefghijklmnopqrstuvwxyz':\n",
    "            if char not in present_chars:\n",
    "                missing_chars.append(char)\n",
    "        \n",
    "        if not missing_chars:\n",
    "            return -1\n",
    "        else:\n",
    "            return ''.join(missing_chars)"
   ]
  }
 ],
 "metadata": {
  "kernelspec": {
   "display_name": "base",
   "language": "python",
   "name": "python3"
  },
  "language_info": {
   "codemirror_mode": {
    "name": "ipython",
    "version": 3
   },
   "file_extension": ".py",
   "mimetype": "text/x-python",
   "name": "python",
   "nbconvert_exporter": "python",
   "pygments_lexer": "ipython3",
   "version": "3.9.16"
  }
 },
 "nbformat": 4,
 "nbformat_minor": 2
}
