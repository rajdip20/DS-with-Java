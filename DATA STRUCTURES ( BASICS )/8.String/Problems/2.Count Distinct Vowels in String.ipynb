{
 "cells": [
  {
   "cell_type": "markdown",
   "metadata": {},
   "source": [
    "You are given a string s. You need to count the total distinct vowels in the string. The string s contains lowercase letters only.\n",
    "\n",
    "<br>\n",
    "\n",
    "**Example 1:**\n",
    ">**Input:**<br>\n",
    ">geeks<br>\n",
    ">**Output:** <br>\n",
    ">1\n",
    "\n",
    "**Example 2:**\n",
    ">**Input:**<br>\n",
    ">world<br>\n",
    ">**Output:**<br>\n",
    ">1\n",
    "\n",
    "<br>\n",
    "\n",
    "**Your Task:**<br>\n",
    "You only need to complete the function **countVowels()** that takes s as parameter and returns the count of distinct vowels in the string. \n",
    "\n",
    "**Expected Time Complexity:** O(|S|).<br>\n",
    "**Expected Auxiliary Space:** O(1).\n",
    "\n",
    "**Constraints:**\n",
    "- >1 <= |s| <= 10000"
   ]
  },
  {
   "cell_type": "code",
   "execution_count": 1,
   "metadata": {},
   "outputs": [],
   "source": [
    "class Solution:\n",
    "    def countVowels(self, s):\n",
    "        # code here\n",
    "        vowels = set('aeiou')\n",
    "        dist_vowel = set()\n",
    "\n",
    "        for char in s:\n",
    "            if char in vowels:\n",
    "                dist_vowel.add(char)\n",
    "        \n",
    "        return len(dist_vowel)"
   ]
  }
 ],
 "metadata": {
  "kernelspec": {
   "display_name": "base",
   "language": "python",
   "name": "python3"
  },
  "language_info": {
   "codemirror_mode": {
    "name": "ipython",
    "version": 3
   },
   "file_extension": ".py",
   "mimetype": "text/x-python",
   "name": "python",
   "nbconvert_exporter": "python",
   "pygments_lexer": "ipython3",
   "version": "3.9.16"
  }
 },
 "nbformat": 4,
 "nbformat_minor": 2
}
