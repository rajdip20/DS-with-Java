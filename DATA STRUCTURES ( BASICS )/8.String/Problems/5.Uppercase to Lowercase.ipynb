{
 "cells": [
  {
   "cell_type": "markdown",
   "metadata": {},
   "source": [
    "You are given a string s. You need to convert the case of uppercase letters to lowercase letters.\n",
    "\n",
    "<br>\n",
    "\n",
    "**Example 1:**\n",
    ">**Input:**<br>\n",
    ">GeekS<br>\n",
    ">**Output:** <br>\n",
    ">geeks\n",
    "\n",
    "**Example 2:**\n",
    ">**Input:**<br>\n",
    ">FOR<br>\n",
    ">**Output:** <br>\n",
    ">for\n",
    "\n",
    "<br>\n",
    "\n",
    "**Your Task:**<br>\n",
    "You only need to complete the function **caseConversion()** that takes s as parameter and returns the converted string. \n",
    "\n",
    "**Expected Time Complexity:** O(|S|).<br>\n",
    "**Expected Auxiliary Space:** O(1).\n",
    "\n",
    "**Constraints:**\n",
    "- >1 <= |s| <= 10000"
   ]
  },
  {
   "cell_type": "code",
   "execution_count": 1,
   "metadata": {},
   "outputs": [],
   "source": [
    "\"\"\"\n",
    "input -\n",
    "@s :- string to be converted\n",
    "\n",
    "output - \n",
    "return converted string \n",
    "\"\"\"\n",
    "class Solution:\n",
    "    def caseConversion(self, s):\n",
    "       # your code here\n",
    "        return s.lower()"
   ]
  }
 ],
 "metadata": {
  "kernelspec": {
   "display_name": "base",
   "language": "python",
   "name": "python3"
  },
  "language_info": {
   "codemirror_mode": {
    "name": "ipython",
    "version": 3
   },
   "file_extension": ".py",
   "mimetype": "text/x-python",
   "name": "python",
   "nbconvert_exporter": "python",
   "pygments_lexer": "ipython3",
   "version": "3.9.16"
  }
 },
 "nbformat": 4,
 "nbformat_minor": 2
}
