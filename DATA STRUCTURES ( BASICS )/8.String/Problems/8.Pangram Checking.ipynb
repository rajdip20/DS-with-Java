{
 "cells": [
  {
   "cell_type": "markdown",
   "metadata": {},
   "source": [
    "You are given a string s. You need to find if the string is a panagram or not.<br>\n",
    "**A panagram contains all the letters of english alphabet at least once.**\n",
    "\n",
    "<br>\n",
    "\n",
    "**Example 1:**\n",
    ">**Input:**<br>\n",
    ">s = Thequickbrownfoxjumpsoverthelazydog<br>\n",
    ">**Output:** 1\n",
    "\n",
    "**Example 2:**\n",
    ">**Input:**<br>\n",
    ">s = HeavyDuty<br>\n",
    ">**Output:** 0\n",
    "\n",
    "<br>\n",
    "\n",
    "**Your Task:**<br>\n",
    "You only need to complete the function **isPanagram()** that takes s as parameter and returns either true or false. (the driver's code print 1 if the returned value is true, otherwise 0)\n",
    "\n",
    "**Expected Time Complexity:** O(|S|).<br>\n",
    "**Expected Auxiliary Space:** O(1).\n",
    "\n",
    "**Constraints:**\n",
    "- >1 <= |s| <= 10000"
   ]
  },
  {
   "cell_type": "code",
   "execution_count": 1,
   "metadata": {},
   "outputs": [],
   "source": [
    "\"\"\"\n",
    "input - \n",
    "s - given string \n",
    "\n",
    "output - \n",
    "return 0 if not panagram else return 1\n",
    "\"\"\"\n",
    "class Solution:\n",
    "    def isPanagram(self, s):\n",
    "        # your code here\n",
    "        alphabet = set('abcdefghijklmnopqrstuvwxyz')\n",
    "      \n",
    "        for char in s.lower():\n",
    "            if char.isalpha():\n",
    "                alphabet.discard(char)\n",
    "            if not alphabet:\n",
    "                return True\n",
    "      \n",
    "        return False"
   ]
  }
 ],
 "metadata": {
  "kernelspec": {
   "display_name": "base",
   "language": "python",
   "name": "python3"
  },
  "language_info": {
   "codemirror_mode": {
    "name": "ipython",
    "version": 3
   },
   "file_extension": ".py",
   "mimetype": "text/x-python",
   "name": "python",
   "nbconvert_exporter": "python",
   "pygments_lexer": "ipython3",
   "version": "3.9.16"
  }
 },
 "nbformat": 4,
 "nbformat_minor": 2
}
