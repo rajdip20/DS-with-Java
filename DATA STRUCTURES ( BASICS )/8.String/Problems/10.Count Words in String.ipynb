{
 "cells": [
  {
   "cell_type": "markdown",
   "metadata": {},
   "source": [
    "You are given a string s consisting of multiple words. You need to count the total words in the string. Words are separated by a single space.<br>\n",
    "**Note:** It is guaranteed that the last character of the given string is not a white space.\n",
    "\n",
    "<br>\n",
    "\n",
    "**Example 1:**\n",
    ">**Input:**<br>\n",
    ">s = Geeks<br>\n",
    ">**Output:** <br>\n",
    ">1\n",
    "\n",
    "**Example 2:**\n",
    ">**Input:**<br>\n",
    ">s = World is hello<br>\n",
    ">**Output:** <br>\n",
    ">3\n",
    "\n",
    "<br>\n",
    "\n",
    "**Your Task:**<br>\n",
    "You only need to complet the function **countWords()** that takes s as parameter and returns the count of words in the string. \n",
    "\n",
    "**Expected Time Complexity:** O(|S|).<br>\n",
    "**Expected Auxiliary Space:** O(1).\n",
    "\n",
    "**Constraints:**\n",
    "- >1 <= |s| <= 10000"
   ]
  },
  {
   "cell_type": "code",
   "execution_count": 1,
   "metadata": {},
   "outputs": [],
   "source": [
    "class Solution:\n",
    "    def countWords(self, s):\n",
    "        # code here\n",
    "        count = 1\n",
    "        \n",
    "        for char in s:\n",
    "            if char == ' ':\n",
    "                count += 1\n",
    "        \n",
    "        return count"
   ]
  }
 ],
 "metadata": {
  "kernelspec": {
   "display_name": "base",
   "language": "python",
   "name": "python3"
  },
  "language_info": {
   "codemirror_mode": {
    "name": "ipython",
    "version": 3
   },
   "file_extension": ".py",
   "mimetype": "text/x-python",
   "name": "python",
   "nbconvert_exporter": "python",
   "pygments_lexer": "ipython3",
   "version": "3.9.16"
  }
 },
 "nbformat": 4,
 "nbformat_minor": 2
}
