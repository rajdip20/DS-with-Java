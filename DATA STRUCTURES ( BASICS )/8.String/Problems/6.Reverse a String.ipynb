{
 "cells": [
  {
   "cell_type": "markdown",
   "metadata": {},
   "source": [
    "You are given a string s. You need to reverse the string.\n",
    "\n",
    "<br>\n",
    "\n",
    "**Example 1:**\n",
    ">**Input:**<br>\n",
    ">s = Geeks<br>\n",
    ">**Output:** skeeG\n",
    "\n",
    "**Example 2:**\n",
    ">**Input:**<br>\n",
    ">s = for<br>\n",
    ">**Output:** rof\n",
    "\n",
    "<br>\n",
    "\n",
    "**Your Task:**<br>\n",
    "You only need to complete the function **reverseWord()** that takes s as parameter and returns the reversed string.\n",
    "\n",
    "**Expected Time Complexity:** O(|S|).<br>\n",
    "**Expected Auxiliary Space:** O(1).\n",
    "\n",
    "**Constraints:**\n",
    "- >1 <= |s| <= 10000"
   ]
  },
  {
   "cell_type": "code",
   "execution_count": 1,
   "metadata": {},
   "outputs": [],
   "source": [
    "class Solution:\n",
    "     def reverseWord(self, str: str) -> str:\n",
    "        # your code here\n",
    "        return str[-1::-1]"
   ]
  }
 ],
 "metadata": {
  "kernelspec": {
   "display_name": "base",
   "language": "python",
   "name": "python3"
  },
  "language_info": {
   "codemirror_mode": {
    "name": "ipython",
    "version": 3
   },
   "file_extension": ".py",
   "mimetype": "text/x-python",
   "name": "python",
   "nbconvert_exporter": "python",
   "pygments_lexer": "ipython3",
   "version": "3.9.16"
  }
 },
 "nbformat": 4,
 "nbformat_minor": 2
}
