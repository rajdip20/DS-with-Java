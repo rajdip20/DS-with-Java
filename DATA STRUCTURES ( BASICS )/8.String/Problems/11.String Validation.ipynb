{
 "cells": [
  {
   "cell_type": "markdown",
   "metadata": {},
   "source": [
    "Given a **string s** representing a password, you need to check if the string is **valid** or not. A **valid** string has the **following** properties:\n",
    "- String must have the length greater than or equal to 10.\n",
    "- String must contain at least 1 numeric character.\n",
    "- String must contain at least 1 uppercase character.\n",
    "- String must contain at least 1 lowercase character.\n",
    "- String must contain at least 1 special character from @#$-*.\n",
    "\n",
    "<br>\n",
    "\n",
    "**Example 1:**\n",
    ">**Input:** eHello123@<br>\n",
    ">**Output:** 1<br>\n",
    ">**Explanation:** String is valid.\n",
    "\n",
    "**Example 2:**\n",
    ">**Input:** hella<br>\n",
    ">**Output:** 0<br>\n",
    ">**Explanation:** String is not valid.\n",
    "\n",
    "<br>\n",
    "\n",
    "**Your Task:**<br>\n",
    "You don't need to read input or print anything. Complete the function **validate()** which takes **string s** as input parameter and **returns true** if the **string is valid**, else it **returns false**.\n",
    "\n",
    "**Expected Time Complexity:** O(|S|).<br>\n",
    "**Expected Auxiliary Space:** O(1).\n",
    "\n",
    "**Constraints:**\n",
    "- >1 ≤ |s| ≤ 10<sup>3</sup>"
   ]
  },
  {
   "cell_type": "code",
   "execution_count": 1,
   "metadata": {},
   "outputs": [],
   "source": [
    "\"\"\"\n",
    "input - \n",
    "s = string given \n",
    "\n",
    "output - \n",
    "return 0 if not validated else return true\n",
    "\"\"\"\n",
    "\n",
    "def validate(s):\n",
    "    # your code here\n",
    "    uppercase_chars = set('ABCDEFGHIJKLMNOPQRSTUVWXYZ')\n",
    "    lowercase_chars = set('abcdefghijklmnopqrstuvwxyz')\n",
    "    numeric_chars = set('0123456789')\n",
    "    special_chars = set('@#$-*')\n",
    "\n",
    "    has_uppercase = False\n",
    "    has_lowercase = False\n",
    "    has_numeric = False\n",
    "    has_special = False\n",
    "\n",
    "    for char in s:\n",
    "        if char in uppercase_chars:\n",
    "            has_uppercase = True\n",
    "        elif char in lowercase_chars:\n",
    "            has_lowercase = True\n",
    "        elif char in numeric_chars:\n",
    "            has_numeric = True\n",
    "        elif char in special_chars:\n",
    "            has_special = True\n",
    "\n",
    "    if len(s) >= 10 and has_uppercase and has_lowercase and has_numeric and has_special:\n",
    "        return 1\n",
    "    else:\n",
    "        return 0"
   ]
  }
 ],
 "metadata": {
  "kernelspec": {
   "display_name": "base",
   "language": "python",
   "name": "python3"
  },
  "language_info": {
   "codemirror_mode": {
    "name": "ipython",
    "version": 3
   },
   "file_extension": ".py",
   "mimetype": "text/x-python",
   "name": "python",
   "nbconvert_exporter": "python",
   "pygments_lexer": "ipython3",
   "version": "3.9.16"
  }
 },
 "nbformat": 4,
 "nbformat_minor": 2
}
