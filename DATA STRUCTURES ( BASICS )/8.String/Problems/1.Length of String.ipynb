{
 "cells": [
  {
   "cell_type": "markdown",
   "metadata": {},
   "source": [
    "You are given a string **s**. You need to find the length of the string.\n",
    "\n",
    "<br>\n",
    "\n",
    "**Example 1:**\n",
    ">**Input:**<br>\n",
    ">s = Geeks<br>\n",
    ">**Output:** <br>\n",
    ">5\n",
    "\n",
    "**Example 2:**\n",
    ">**Input:**<br>\n",
    ">s = Hello1234<br>\n",
    ">**Output:** <br>\n",
    ">9\n",
    "\n",
    "<br>\n",
    "\n",
    "**Your Task:**<br>\n",
    "You only need to complete the function **lengthString()** that takes s as parameter and returns the length of the string. \n",
    "\n",
    "**Expected Time Complexity:** O(1).<br>\n",
    "**Expected Auxiliary Space:** O(1).\n",
    "\n",
    "**Constraints:**\n",
    "- >1 <= |s| <= 100000"
   ]
  },
  {
   "cell_type": "code",
   "execution_count": 1,
   "metadata": {},
   "outputs": [],
   "source": [
    "class Solution:\n",
    "    def lengthString(self, str):\n",
    "        # code here\n",
    "        return len(str)"
   ]
  }
 ],
 "metadata": {
  "kernelspec": {
   "display_name": "base",
   "language": "python",
   "name": "python3"
  },
  "language_info": {
   "codemirror_mode": {
    "name": "ipython",
    "version": 3
   },
   "file_extension": ".py",
   "mimetype": "text/x-python",
   "name": "python",
   "nbconvert_exporter": "python",
   "pygments_lexer": "ipython3",
   "version": "3.9.16"
  }
 },
 "nbformat": 4,
 "nbformat_minor": 2
}
