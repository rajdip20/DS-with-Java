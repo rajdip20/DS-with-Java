{
 "cells": [
  {
   "cell_type": "markdown",
   "metadata": {},
   "source": [
    "Given two integers **‘a’** and **‘m’**. The task is to find the smallest modular multiplicative inverse of **‘a’** under modulo **‘m’**. if it does not exist then return -1.\n",
    "\n",
    "<br> \n",
    "\n",
    "**Example 1:**\n",
    ">**Input:**<br>\n",
    ">a = 3<br>\n",
    ">m = 11<br>\n",
    ">**Output:** 4<br>\n",
    ">**Explanation:** Since (4*3) mod 11 = 1, 4 <br>\n",
    ">is modulo inverse of 3. One might think,<br>\n",
    ">15 also as a valid output as \"(15*3)<br>\n",
    ">mod 11\"  is also 1, but 15 is not in <br>\n",
    ">ring {0, 1, 2, ... 10}, so not valid.\n",
    " \n",
    "\n",
    "**Example 2:**\n",
    ">**Input:**<br>\n",
    ">a = 10<br>\n",
    ">m = 17<br>\n",
    ">**Output:** 12<br>\n",
    ">**Explanation:** Since (12*10) mod 17 = 1,<br>\n",
    ">12 is the modulo inverse of 10.\n",
    " \n",
    "<br>\n",
    "\n",
    "**Your Task:**<br>\n",
    "You don't need to read input or print anything. Your task is to complete the function **function modInverse()** that takes **a and m as input parameters** and **returns** modular multiplicative inverse of **‘a’** under modulo **‘m’**. If the modular multiplicative inverse doesn't exist **return -1**.\n",
    " \n",
    "\n",
    "**Expected Time Complexity :** O(m)<br>\n",
    "**Expected Auxilliary Space:** O(1)\n",
    "\n",
    "**Constraints:**\n",
    "- >1 <= a <= 10<sup>4</sup>\n",
    "- >1 <= m <= 10<sup>4</sup>"
   ]
  },
  {
   "cell_type": "code",
   "execution_count": 1,
   "metadata": {},
   "outputs": [],
   "source": [
    "class Solution:    \n",
    "    ## Complete this function\n",
    "    def modInverse(self, a, m):\n",
    "        ## Your code here\n",
    "        def extendedEuclidean(a, b):\n",
    "            if a == 0:\n",
    "                return b, 0, 1\n",
    "            \n",
    "            gcd, x1, y1 = extendedEuclidean(b % a, a)\n",
    "            x = y1 - (b // a) * x1\n",
    "            y = x1\n",
    "            \n",
    "            return gcd, x, y\n",
    "    \n",
    "        if m == 1:\n",
    "            return -1\n",
    "    \n",
    "        gcd, x, y = extendedEuclidean(a, m)\n",
    "        \n",
    "        if gcd != 1:\n",
    "            return -1\n",
    "    \n",
    "        result = x % m\n",
    "        if result < 0:\n",
    "            result += m\n",
    "    \n",
    "        return result"
   ]
  }
 ],
 "metadata": {
  "kernelspec": {
   "display_name": "base",
   "language": "python",
   "name": "python3"
  },
  "language_info": {
   "codemirror_mode": {
    "name": "ipython",
    "version": 3
   },
   "file_extension": ".py",
   "mimetype": "text/x-python",
   "name": "python",
   "nbconvert_exporter": "python",
   "pygments_lexer": "ipython3",
   "version": "3.9.16"
  }
 },
 "nbformat": 4,
 "nbformat_minor": 2
}
