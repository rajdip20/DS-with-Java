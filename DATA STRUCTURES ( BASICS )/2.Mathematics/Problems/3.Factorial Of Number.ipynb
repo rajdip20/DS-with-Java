{
 "cells": [
  {
   "cell_type": "markdown",
   "metadata": {},
   "source": [
    "Given a positive integer **N**. The task is to find factorial of **N**.\n",
    "\n",
    "<br>\n",
    "\n",
    "**Example 1:**\n",
    ">**Input:**<br>\n",
    ">N = 4<br>\n",
    ">**Output:** 24<br>\n",
    ">**Explanation:**<br>\n",
    ">4! = 4 * 3 * 2 * 1 = 24\n",
    "\n",
    "**Example 2:**\n",
    ">**Input:**<br>\n",
    ">N = 13<br>\n",
    ">**Output:** 6227020800<br>\n",
    ">**Explanation:** <br>\n",
    ">13! = 13 * 12 * .. * 1 = 6227020800\n",
    "\n",
    "<br>\n",
    "\n",
    "**Your Task:**<br>\n",
    "You don't need to read input or print anything. Your task is to complete the function **factorial()** that takes **N** as parameter and **returns** factorial of **N**.\n",
    "\n",
    "**Expected Time Complexity :** O(N)<br>\n",
    "**Expected Auxilliary Space:** O(1)\n",
    "\n",
    "**Constraints:**\n",
    "- >0 <= N <= 18"
   ]
  },
  {
   "cell_type": "code",
   "execution_count": 1,
   "metadata": {},
   "outputs": [],
   "source": [
    "class Solution:\n",
    "    # You need to complete this function\n",
    "    def factorial(self, N):\n",
    "        # Your code here\n",
    "        if N == 0:\n",
    "            return 1\n",
    "        elif N == 1:\n",
    "            return 1\n",
    "        else:\n",
    "            return N * self.factorial(N - 1)"
   ]
  }
 ],
 "metadata": {
  "kernelspec": {
   "display_name": "base",
   "language": "python",
   "name": "python3"
  },
  "language_info": {
   "codemirror_mode": {
    "name": "ipython",
    "version": 3
   },
   "file_extension": ".py",
   "mimetype": "text/x-python",
   "name": "python",
   "nbconvert_exporter": "python",
   "pygments_lexer": "ipython3",
   "version": "3.9.16"
  }
 },
 "nbformat": 4,
 "nbformat_minor": 2
}
