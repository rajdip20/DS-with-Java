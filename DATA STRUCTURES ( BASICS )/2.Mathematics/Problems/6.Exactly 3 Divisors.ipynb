{
 "cells": [
  {
   "cell_type": "markdown",
   "metadata": {},
   "source": [
    "Given a positive integer value **N**. The task is to find how many numbers **less than or equal to N** have numbers of divisors exactly equal to **3**.\n",
    "\n",
    "<br>\n",
    "\n",
    "**Example 1:**\n",
    ">**Input:**<br>\n",
    ">N = 6<br>\n",
    ">**Output:** 1<br>\n",
    ">**Explanation:** The only number less than 6 with <br>\n",
    ">3 divisors is 4 which has 1, 2 and 4 as divisors.\n",
    "\n",
    "**Example 2:**\n",
    ">**Input:**<br>\n",
    ">N = 10<br>\n",
    ">**Output:** 2<br>\n",
    ">**Explanation:** 4 and 9 have 3 divisors.\n",
    " \n",
    "<br>\n",
    "\n",
    "**Your Task:**<br>\n",
    "You don't need to read input or print anything. Your task is to complete the function **exactly3Divisors()** that takes **N** as input parameter and **returns** count of numbers **less than or equal to N** with exactly **3 divisors**.\n",
    "\n",
    "\n",
    "**Expected Time Complexity :** O(N<sup>1/2</sup> * N<sup>1/4</sup>)<br>\n",
    "**Expected Auxilliary Space:**  O(1)\n",
    "\n",
    "\n",
    "**Constraints:**\n",
    "- >1 <= N <= 10<sup>9</sup>"
   ]
  },
  {
   "cell_type": "code",
   "execution_count": 1,
   "metadata": {},
   "outputs": [],
   "source": [
    "class Solution:\n",
    "    def exactly3Divisors(self, N):\n",
    "        # code here\n",
    "        def isPrime(n):\n",
    "            if n == 1:\n",
    "                return False\n",
    "            if n == 2 or n == 3:\n",
    "                return True\n",
    "            if n % 2 == 0 or n % 3 == 0:\n",
    "                return False\n",
    "            \n",
    "            i = 5\n",
    "            while (i * i <= n):\n",
    "                if n % i == 0 or n % (i + 2) == 0:\n",
    "                    return False\n",
    "                i += 6\n",
    "\n",
    "            return True\n",
    "        \n",
    "        count = 0\n",
    "        for i in range(1, int(N ** 0.5) + 1):\n",
    "            if isPrime(i):\n",
    "                count += 1\n",
    "        \n",
    "        return count"
   ]
  }
 ],
 "metadata": {
  "kernelspec": {
   "display_name": "base",
   "language": "python",
   "name": "python3"
  },
  "language_info": {
   "codemirror_mode": {
    "name": "ipython",
    "version": 3
   },
   "file_extension": ".py",
   "mimetype": "text/x-python",
   "name": "python",
   "nbconvert_exporter": "python",
   "pygments_lexer": "ipython3",
   "version": "3.9.16"
  }
 },
 "nbformat": 4,
 "nbformat_minor": 2
}
