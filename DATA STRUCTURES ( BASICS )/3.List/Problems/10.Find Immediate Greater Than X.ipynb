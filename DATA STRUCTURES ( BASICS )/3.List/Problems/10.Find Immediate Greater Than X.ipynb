{
 "cells": [
  {
   "cell_type": "markdown",
   "metadata": {},
   "source": [
    "Given an array **arr[]** of size **N** containing positive integers and an integer **X**. You need to find the value in the array which is **greater than X and closest to it**. ( if no such value exists the answer should be -1)\n",
    "\n",
    "<br>\n",
    "\n",
    "**Example 1:**\n",
    ">**Input:**<br>\n",
    ">N = 5<br>\n",
    ">arr[] = {4 67 13 12 15}<br>\n",
    ">X = 16<br>\n",
    ">**Output:** 67<br>\n",
    ">**Explanation:** For a given value 16, there is only one value 67 that greater than it and so it is the answer.\n",
    "\n",
    "**Example 2:**\n",
    ">**Input:**<br>\n",
    ">N = 5<br>\n",
    ">arr[] = {1 2 3 4 5}<br>\n",
    ">X = 1<br>\n",
    ">**Output:** 2<br>\n",
    ">**Explanation:** For a given value 1, there are 4 values greater than it 2 3 4 5. But 2 is closest to 1 so it is the answer.\n",
    "\n",
    "<br>\n",
    "\n",
    "**Your Task:**<br>\n",
    "Since this is a functional problem, you need to complete the given function **immediateGreater()** which takes 3 arguments(array arr, N and X) and returns the answer. The printing is done by the driver code.\n",
    "\n",
    "**Expected Time Complexity:** O(N).<br>\n",
    "**Expected Auxiliary Space:** O(1).\n",
    "\n",
    "**Constraints:**\n",
    "- >1 <= **N** <= 10<sup>3</sup>\n",
    "- >1 <= **arr[i]**, **X** <= 10<sup>4</sup>"
   ]
  },
  {
   "cell_type": "code",
   "execution_count": 1,
   "metadata": {},
   "outputs": [],
   "source": [
    "class Solution:\n",
    "    # inf has been imported in driver code\n",
    "    def immediateGreater(self, arr, n, x):\n",
    "        # return required ans\n",
    "        # code here\n",
    "        greater = -1\n",
    "    \n",
    "        for num in arr:\n",
    "            if num > x and (greater == -1 or num - x < greater - x):\n",
    "                greater = num\n",
    "        \n",
    "        return greater"
   ]
  }
 ],
 "metadata": {
  "kernelspec": {
   "display_name": "base",
   "language": "python",
   "name": "python3"
  },
  "language_info": {
   "codemirror_mode": {
    "name": "ipython",
    "version": 3
   },
   "file_extension": ".py",
   "mimetype": "text/x-python",
   "name": "python",
   "nbconvert_exporter": "python",
   "pygments_lexer": "ipython3",
   "version": "3.9.16"
  }
 },
 "nbformat": 4,
 "nbformat_minor": 2
}
