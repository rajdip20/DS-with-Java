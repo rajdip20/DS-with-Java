{
 "cells": [
  {
   "cell_type": "markdown",
   "metadata": {},
   "source": [
    "Given an array **arr of size n**, find **maximum** and **minimum** elements in the array.\n",
    "\n",
    "<br>\n",
    "\n",
    "**Example 1:**\n",
    ">**Input:**<br>\n",
    ">N = 4<br>\n",
    ">arr[] = {5 4 2 1}<br>\n",
    ">**Output:** 5 1\n",
    "\n",
    "\n",
    "**Example 2:**\n",
    ">**Input:**<br>\n",
    ">N = 1<br>\n",
    ">arr[] = {8}<br>\n",
    ">**Output:** 8 8\n",
    "\n",
    "<br>\n",
    "\n",
    "**Your Task:**<br>\n",
    "You only need to complete the provided functions **maximumElement()** and **minimumElement()** which takes 2 arguments(array arr and n) and returns the corresponding answers. The **printing** is done by the **driver code**.\n",
    "\n",
    "**Expected Time Complexity:** O(n).<br>\n",
    "**Expected Auxiliary Space:** O(1).\n",
    "\n",
    "**Constraints:**\n",
    "- >1 ≤ n ≤ 10<sup>3</sup>\n",
    "- >0 ≤ arr < 10<sup>6</sup>"
   ]
  },
  {
   "cell_type": "code",
   "execution_count": 1,
   "metadata": {},
   "outputs": [],
   "source": [
    "def maximumElement(arr, n):\n",
    "    # return required result\n",
    "    # code here\n",
    "    return max(arr)\n",
    "\n",
    "\n",
    "\n",
    "def minimumElement(arr, n):\n",
    "    # return required result\n",
    "    # code here\n",
    "    return min(arr)"
   ]
  }
 ],
 "metadata": {
  "kernelspec": {
   "display_name": "base",
   "language": "python",
   "name": "python3"
  },
  "language_info": {
   "codemirror_mode": {
    "name": "ipython",
    "version": 3
   },
   "file_extension": ".py",
   "mimetype": "text/x-python",
   "name": "python",
   "nbconvert_exporter": "python",
   "pygments_lexer": "ipython3",
   "version": "3.9.16"
  }
 },
 "nbformat": 4,
 "nbformat_minor": 2
}
