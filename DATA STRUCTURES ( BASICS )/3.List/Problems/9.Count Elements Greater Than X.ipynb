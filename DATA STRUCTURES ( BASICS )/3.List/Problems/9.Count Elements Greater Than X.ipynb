{
 "cells": [
  {
   "cell_type": "markdown",
   "metadata": {},
   "source": [
    "Given an unsorted array **arr[]** of size **N** containing non-negative integers. You will also be given an integer **X**, the task is to count the number of elements which are **strictly greater than X**. The given integer may or not be present in the array given.\n",
    "\n",
    "<br>\n",
    "\n",
    "**Example 1:**\n",
    "**Input:**<br>\n",
    ">N = 5<br>\n",
    ">arr[] = {4 5 3 1 2}<br>\n",
    ">X = 3<br>\n",
    ">**Output:** 2<br>\n",
    ">**Explanation:** Here X is 3. The elements greater than X are 4 and 5.\n",
    "\n",
    "**Example 2:**\n",
    "**Input:**<br>\n",
    ">N = 6<br>\n",
    ">arr[] = {2 2 2 2 2 2}<br>\n",
    ">X = 3<br>\n",
    ">**Output:** 0<br>\n",
    ">**Explanation:** Here X is 3. There are no elements greater than X.\n",
    "\n",
    "<br>\n",
    "\n",
    "**Yout Task:**<br>\n",
    "You just have to complete the given function **greaterThanX()** which takes 3 arguments(array arr, N and X) and returns the count of elements greater than X. The printing is done by the driver code.\n",
    "\n",
    "**Expected Time Complexity:** O(N).<br>\n",
    "**Expected Auxiliary Space:** O(1).\n",
    "\n",
    "**Constraints:**\n",
    "- >1 <= **N** <= 10<sup>6</sup>\n",
    "- >1 <= **arr[i]**, **X** <= 10<sup>5</sup>"
   ]
  },
  {
   "cell_type": "code",
   "execution_count": 1,
   "metadata": {},
   "outputs": [],
   "source": [
    "class Solution:\n",
    "    def greaterThanX(self, arr, n, x):\n",
    "        # return required result\n",
    "        # code here\n",
    "        count = 0\n",
    "        \n",
    "        for i in range(n):\n",
    "            if arr[i] > x:\n",
    "                count += 1\n",
    "        \n",
    "        return count"
   ]
  }
 ],
 "metadata": {
  "kernelspec": {
   "display_name": "base",
   "language": "python",
   "name": "python3"
  },
  "language_info": {
   "codemirror_mode": {
    "name": "ipython",
    "version": 3
   },
   "file_extension": ".py",
   "mimetype": "text/x-python",
   "name": "python",
   "nbconvert_exporter": "python",
   "pygments_lexer": "ipython3",
   "version": "3.9.16"
  }
 },
 "nbformat": 4,
 "nbformat_minor": 2
}
