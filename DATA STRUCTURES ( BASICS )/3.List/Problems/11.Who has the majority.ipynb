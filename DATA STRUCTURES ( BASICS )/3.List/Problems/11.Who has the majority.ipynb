{
 "cells": [
  {
   "cell_type": "markdown",
   "metadata": {},
   "source": [
    "Given an array **arr[]** of size **N** and two elements **x** and **y**, use counter variables to find which element appears most in the array. If both elements have the same frequency, then return the smaller element.<br>\n",
    "**Note:** We need to return the element, not its count.\n",
    "\n",
    "<br>\n",
    "\n",
    "**Example 1:**\n",
    ">**Input:**<br>\n",
    ">N = 11<br>\n",
    ">arr[] = {1,1,2,2,3,3,4,4,4,4,5}<br>\n",
    ">x = 4, y = 5<br>\n",
    ">**Output:** 4<br>\n",
    ">**Explanation:** <br>\n",
    ">frequency of 4 is 4.<br>\n",
    ">frequency of 5 is 1.\n",
    " \n",
    "\n",
    "**Example 2:**\n",
    ">**Input:**<br>\n",
    ">N = 8<br>\n",
    ">arr[] = {1,2,3,4,5,6,7,8}<br>\n",
    ">x = 1, y = 7<br>\n",
    ">**Output:** 1<br>\n",
    ">**Explanation:** <br>\n",
    ">frequency of 1 is 1.<br>\n",
    ">frequency of 7 is 1.<br>\n",
    ">Since 1 < 7, return 1.\n",
    "\n",
    "<br>\n",
    "\n",
    "**Your Task:**<br>\n",
    "You don't need to read input or print anything. Complete the function **majorityWins()** that takes **array, n, x, y** as input parameters and return the element with higher frequency.\n",
    "\n",
    "\n",
    "**Expected Time Complexity:** O(N)<br>\n",
    "**Expected Auxiliary Space:** O(1)\n",
    " \n",
    "\n",
    "**Constraints:**\n",
    "- >1 <= n <= 10<sup>3</sup>\n",
    "- >0 <= arr<sub>i</sub> , x , y <= 10<sup>8</sup>"
   ]
  },
  {
   "cell_type": "code",
   "execution_count": 1,
   "metadata": {},
   "outputs": [],
   "source": [
    "class Solution:\n",
    "    # Function to find element with more appearances between two elements in an array.    \n",
    "    def majorityWins(self, arr, n, x, y):\n",
    "        # code here\n",
    "        countx = 0\n",
    "        county = 0\n",
    "\n",
    "        for ele in arr:\n",
    "            if ele == x:\n",
    "                countx += 1\n",
    "            elif ele == y:\n",
    "                county += 1\n",
    "\n",
    "        if countx > county:\n",
    "            return x\n",
    "        elif county > countx:\n",
    "            return y\n",
    "        elif countx == county:\n",
    "            return x if x < y else y"
   ]
  }
 ],
 "metadata": {
  "kernelspec": {
   "display_name": "base",
   "language": "python",
   "name": "python3"
  },
  "language_info": {
   "codemirror_mode": {
    "name": "ipython",
    "version": 3
   },
   "file_extension": ".py",
   "mimetype": "text/x-python",
   "name": "python",
   "nbconvert_exporter": "python",
   "pygments_lexer": "ipython3",
   "version": "3.9.16"
  }
 },
 "nbformat": 4,
 "nbformat_minor": 2
}
