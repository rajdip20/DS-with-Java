{
 "cells": [
  {
   "cell_type": "markdown",
   "metadata": {},
   "source": [
    "*Insertion is a basic but frequently used operation. Arrays in most languages cannnot be dynamically shrinked or expanded. Here, we will work with such arrays and try to insert an element at some index.*\n",
    "\n",
    "You are given an array **arr**(0-based index). The size of the array is given by **sizeOfArray**. You need to **insert** an **element** at given **index**.\n",
    "\n",
    "<br>\n",
    "\n",
    "**Example 1:**\n",
    ">**Input:**<br>\n",
    ">sizeOfArray = 6<br>\n",
    ">arr[] = {1, 2, 3, 4, 5}<br>\n",
    ">index = 5, element = 90<br>\n",
    ">**Output:** 1 2 3 4 5 90<br>\n",
    ">**Explanation:** 90 is inserted at index 5(0-based indexing).<br>\n",
    ">After inserting, array elements are like 1, 2, 3, 4, 5, 90.\n",
    "\n",
    "**Example 2:**\n",
    ">**Input:**<br>\n",
    ">sizeOfArray = 6<br>\n",
    ">arr[] = {1, 2, 3, 4, 5}<br>\n",
    ">index = 2, element = 90<br>\n",
    ">**Output:** 1 2 90 3 4 5<br>\n",
    ">**Explanation:** 90 is inserted at index 2(0-based indexing).<br>\n",
    ">After inserting, array elements are like 1, 2, 90, 3, 4, 5.\n",
    "\n",
    "<br>\n",
    "\n",
    "**Your Task:**<br>\n",
    "You don't need to read input or print anything.. The input is already taken care of by the driver code. You only need to complete the function **insertAtIndex()** that takes arr, sizeOfArray, index, element as input and modifies the array arr as per requirements. The **printing** is done by **driver code**.\n",
    "\n",
    "**Expected Time Complexity:** O(N).<br>\n",
    "**Expected Auxiliary Space:** O(1).\n",
    "\n",
    "**Constraints:**\n",
    "- >1 <= sizeOfArray <= 10000\n",
    "- >0 <= element, arr<sub>i</sub> <= 10<sup>6</sup>\n",
    "- >0 <= index <= sizeOfArray-1"
   ]
  },
  {
   "cell_type": "code",
   "execution_count": 1,
   "metadata": {},
   "outputs": [],
   "source": [
    "class Solution:\n",
    "    '''You need to insert the given element at the given index. \n",
    "    After inserting the elements at index, elements\n",
    "    from index onward should be shifted one position ahead\n",
    "     You may assume that the array already has sizeOfArray - 1\n",
    "    elements.'''\n",
    "    \n",
    "    def insertAtIndex(self, arr, sizeOfArray, index, element):\n",
    "        #Your code here\n",
    "        arr.insert(index, element)\n",
    "        return arr"
   ]
  }
 ],
 "metadata": {
  "kernelspec": {
   "display_name": "base",
   "language": "python",
   "name": "python3"
  },
  "language_info": {
   "codemirror_mode": {
    "name": "ipython",
    "version": 3
   },
   "file_extension": ".py",
   "mimetype": "text/x-python",
   "name": "python",
   "nbconvert_exporter": "python",
   "pygments_lexer": "ipython3",
   "version": "3.9.16"
  }
 },
 "nbformat": 4,
 "nbformat_minor": 2
}
