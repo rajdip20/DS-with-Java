{
 "cells": [
  {
   "cell_type": "markdown",
   "metadata": {},
   "source": [
    "Given an unsorted array **arr[]** of size **N**. Rotate the array to the left (counter-clockwise direction) by **D** steps, where **D** is a positive integer. \n",
    "\n",
    "<br> \n",
    "\n",
    "**Example 1:**\n",
    ">**Input:**<br>\n",
    ">N = 5, D = 2<br>\n",
    ">arr[] = {1,2,3,4,5}<br>\n",
    ">**Output:** 3 4 5 1 2<br>\n",
    ">**Explanation:** 1 2 3 4 5  when rotated<br>\n",
    ">by 2 elements, it becomes 3 4 5 1 2.\n",
    "\n",
    "\n",
    "**Example 2:**\n",
    ">**Input:**<br>\n",
    ">N = 10, D = 3<br>\n",
    ">arr[] = {2,4,6,8,10,12,14,16,18,20}<br>\n",
    ">**Output:** 8 10 12 14 16 18 20 2 4 6<br>\n",
    ">**Explanation:** 2 4 6 8 10 12 14 16 18 20 <br>\n",
    ">when rotated by 3 elements, it becomes 8 10 12 14 16 18 20 2 4 6.\n",
    "\n",
    "<br>\n",
    "\n",
    "**Your Task:**<br>\n",
    "You need not print or read anything. You need to complete the function **rotateArr()** which takes the array, D and N as input parameters and rotates the array by D elements. The array must be modified in-place without using extra space. \n",
    "\n",
    "**Expected Time Complexity:** O(N)<br>\n",
    "**Expected Auxiliary Space:** O(1)\n",
    "\n",
    "**Constraints:**\n",
    "- >1 <= N <= 10<sup>6</sup>\n",
    "- >1 <= D <= 10<sup>6</sup>\n",
    "- >0 <= arr[i] <= 10<sup>5</sup>"
   ]
  },
  {
   "cell_type": "code",
   "execution_count": 1,
   "metadata": {},
   "outputs": [],
   "source": [
    "class Solution:\n",
    "    # Function to rotate an array by d elements in counter-clockwise direction.\n",
    "    def rotateArr(self, A, D, N):\n",
    "        # Your code here\n",
    "        def reverse(arr, start, end):\n",
    "            while start < end:\n",
    "                arr[start], arr[end] = arr[end], arr[start]\n",
    "                start += 1\n",
    "                end -= 1\n",
    "                \n",
    "        \n",
    "        D = D % N\n",
    "\n",
    "        reverse(A, 0, D - 1)\n",
    "    \n",
    "        reverse(A, D, N - 1)\n",
    "    \n",
    "        reverse(A, 0, N - 1)"
   ]
  }
 ],
 "metadata": {
  "kernelspec": {
   "display_name": "base",
   "language": "python",
   "name": "python3"
  },
  "language_info": {
   "codemirror_mode": {
    "name": "ipython",
    "version": 3
   },
   "file_extension": ".py",
   "mimetype": "text/x-python",
   "name": "python",
   "nbconvert_exporter": "python",
   "pygments_lexer": "ipython3",
   "version": "3.9.16"
  }
 },
 "nbformat": 4,
 "nbformat_minor": 2
}
