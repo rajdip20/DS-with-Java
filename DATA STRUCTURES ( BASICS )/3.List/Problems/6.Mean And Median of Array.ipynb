{
 "cells": [
  {
   "cell_type": "markdown",
   "metadata": {},
   "source": [
    "Given an array **a[]** of size **N**. The task is to find the **median** and **mean** of the array elements. Mean is average of the numbers and median is the element which is smaller than half of the elements and greater than remaining half.  If there are odd elements, the median is simply the middle element in the sorted array. If there are even elements, then the median is floor of average of two middle numbers in the sorted array. If mean is floating point number, then we need to print floor of it.\n",
    "\n",
    "**Note:** To find the **median**, you might need to **sort** the array. Since sorting is covered in later tracks, we have already provided the sort function to you in the code.\n",
    "\n",
    "<br>\n",
    "\n",
    "**Example 1:**\n",
    ">**Input:**<br>\n",
    ">N = 5<br>\n",
    ">a[] = {1, 2, 19, 28, 5}<br>\n",
    ">**Output:** 11 5<br>\n",
    ">**Explanation:** For array of 5 elements,<br>\n",
    ">mean is (1 + 2 + 19  + 28  + 5)/5 = 11.<br>\n",
    ">Median is 5 (middle element after sorting)\n",
    "\n",
    "**Example 2:**\n",
    ">**Input:**<br>\n",
    ">N = 4<br>\n",
    ">a[] = {2, 8, 3, 4}<br>\n",
    ">**Output:** 4 3<br>\n",
    ">**Explanation:** For array of 4 elements,<br>\n",
    ">mean is floor((2 + 8 + 3 + 4)/4) = 4.<br>\n",
    ">Median is floor((4 + 3)/2) = 3\n",
    "\n",
    "<br>\n",
    "\n",
    "**Your Task:**\n",
    "You don't need to read input or print anything.. You just need to complete the following two function:\n",
    "- **mean():** It takes the **array** and its **size** N as **parameters** and **returns** the **mean** as an **integer**.\n",
    "- **median():** It takes the **array** and its **size** N as parameters and **returns** the **median** as an **integer**.\n",
    "\n",
    "\n",
    "**Expected Time Complexity:** O(N log(N)).<br>\n",
    "**Expected Auxiliary Space:** O(1).\n",
    "\n",
    "**Constraints:**\n",
    "- >1 <= N <= 10<sup>6</sup>\n",
    "- >1 <= a[i] <= 10<sup>6</sup>"
   ]
  },
  {
   "cell_type": "code",
   "execution_count": 1,
   "metadata": {},
   "outputs": [],
   "source": [
    "class Solution:\n",
    "    ## Complete the below codes\n",
    "    # Function to find median of the array elements.\n",
    "    def median(self, A, N):\n",
    "        \n",
    "        A.sort()\n",
    "\n",
    "        if N % 2 != 0:\n",
    "            return A[N//2]\n",
    "        else:\n",
    "            return int((A[N//2] + A[(N//2) - 1]) / 2)\n",
    "        \n",
    "        ## Your code here\n",
    "        # If median is fraction then convert the median to integer and return\n",
    "     \n",
    "    # Function to find mean of the array elements.   \n",
    "    def mean(self, A, N):\n",
    "        ## Your code here\n",
    "        return int(sum(A)/N)"
   ]
  }
 ],
 "metadata": {
  "kernelspec": {
   "display_name": "base",
   "language": "python",
   "name": "python3"
  },
  "language_info": {
   "codemirror_mode": {
    "name": "ipython",
    "version": 3
   },
   "file_extension": ".py",
   "mimetype": "text/x-python",
   "name": "python",
   "nbconvert_exporter": "python",
   "pygments_lexer": "ipython3",
   "version": "3.9.16"
  }
 },
 "nbformat": 4,
 "nbformat_minor": 2
}
