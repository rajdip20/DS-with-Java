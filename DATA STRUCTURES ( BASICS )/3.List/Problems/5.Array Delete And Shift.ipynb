{
 "cells": [
  {
   "cell_type": "markdown",
   "metadata": {},
   "source": [
    "You are given an array **arr**(0-based indexing). The size of the array is given by **n**. You need to **delete** an **element** at given **index** and print the **modified** array. The arr[i] of array is initially set to i+1.<br>\n",
    "Deletion means you need to shift all the elements after that index to the left by 1 position and set the last element as zero.\n",
    "\n",
    "<br>\n",
    "\n",
    "**Example 1:**\n",
    ">**Input:**<br>\n",
    ">n = 5<br>\n",
    ">index = 0<br>\n",
    ">**Output:** 2 3 4 5 0<br>\n",
    "\n",
    "**Example 2:**\n",
    ">**Input:**<br>\n",
    ">n = 6<br>\n",
    ">index = 3<br>\n",
    ">**Output:** 1 2 3 5 6 0\n",
    "\n",
    "<br>\n",
    "\n",
    "**Your Task:**<br>\n",
    "This is a function problem. The input is already taken care of by the driver code. You only need to complete the function **deleteFromArray()** that takes arr, n, index as parameters and modifies the array arr as per requirements. \n",
    "\n",
    "**Expected Time Complexity:** O(n).<br>\n",
    "**Expected Auxiliary Space:** O(1).\n",
    "\n",
    "**Constraints:**\n",
    "- >1 <= n <= 10<sup>3</sup>\n",
    "- >0 <= index <= n-1"
   ]
  },
  {
   "cell_type": "code",
   "execution_count": 1,
   "metadata": {},
   "outputs": [],
   "source": [
    "def deleteFromArray(arr, n, idx):\n",
    "    # code here\n",
    "    arr.pop(idx)\n",
    "    arr.append(0)\n",
    "    return arr"
   ]
  }
 ],
 "metadata": {
  "kernelspec": {
   "display_name": "base",
   "language": "python",
   "name": "python3"
  },
  "language_info": {
   "codemirror_mode": {
    "name": "ipython",
    "version": 3
   },
   "file_extension": ".py",
   "mimetype": "text/x-python",
   "name": "python",
   "nbconvert_exporter": "python",
   "pygments_lexer": "ipython3",
   "version": "3.9.16"
  }
 },
 "nbformat": 4,
 "nbformat_minor": 2
}
