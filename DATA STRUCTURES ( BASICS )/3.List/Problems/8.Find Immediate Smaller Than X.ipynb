{
 "cells": [
  {
   "cell_type": "markdown",
   "metadata": {},
   "source": [
    "Given an array arr[] of size N containing positive integers and an integer X, find the element in the array which is smaller than X and closest to it.\n",
    "\n",
    "<br>\n",
    "\n",
    "**Example 1:**\n",
    ">**Input:**<br>\n",
    ">N = 5<br>\n",
    ">arr[] = {4 67 13 12 15}<br>\n",
    ">X = 16<br>\n",
    ">**Output:** 15<br>\n",
    ">**Explanation:** For a given value 16, there are four values which are smaller than it.<br>\n",
    ">But 15 is the number which is smaller and closest to it with minimum difference of 1.\n",
    "\n",
    "\n",
    "**Example 2:**\n",
    ">**Input:**<br>\n",
    ">N = 5<br>\n",
    ">arr[] = {1 2 3 4 5}<br>\n",
    ">X = 1<br>\n",
    ">**Output:** -1<br>\n",
    ">**Explanation:** No value is smaller than 1.\n",
    "\n",
    "<br>\n",
    "\n",
    "**Your Task:**<br>\n",
    "You don't need to read input or print anything. You need to complete the given function **immediateSmaller()** which takes arr, N and X as input parameters and returns the closest element that is smaller than X. If no such element exists, return -1.\n",
    "\n",
    "\n",
    "**Expected Time Complexity:** O(N)<br>\n",
    "**Expected Auxiliary Space:** O(1)\n",
    "\n",
    "\n",
    "**Constraints:**\n",
    "- >1 <= **N** <= 10<sup>3</sup>\n",
    "- >1 <= **arr[i]**, **X** <= 10<sup>4</sup>"
   ]
  },
  {
   "cell_type": "code",
   "execution_count": 1,
   "metadata": {},
   "outputs": [],
   "source": [
    "class Solution:\n",
    "    def immediateSmaller(self, arr, n, x):\n",
    "        # return required ans\n",
    "        # code here\n",
    "        smaller = -1\n",
    "    \n",
    "        for num in arr:\n",
    "            if num < x and (smaller == -1 or x - num < x - smaller):\n",
    "                smaller = num\n",
    "        \n",
    "        return smaller"
   ]
  }
 ],
 "metadata": {
  "kernelspec": {
   "display_name": "base",
   "language": "python",
   "name": "python3"
  },
  "language_info": {
   "codemirror_mode": {
    "name": "ipython",
    "version": 3
   },
   "file_extension": ".py",
   "mimetype": "text/x-python",
   "name": "python",
   "nbconvert_exporter": "python",
   "pygments_lexer": "ipython3",
   "version": "3.9.16"
  }
 },
 "nbformat": 4,
 "nbformat_minor": 2
}
