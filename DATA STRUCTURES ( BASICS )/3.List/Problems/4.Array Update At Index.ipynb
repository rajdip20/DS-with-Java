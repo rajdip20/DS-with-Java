{
 "cells": [
  {
   "cell_type": "markdown",
   "metadata": {},
   "source": [
    "You are given an array **arr**(0-based indexing). The size of the array is given by **n**. You need to **update** an **element** at the given **index**. The arr[i] of the array is initially set to i+1.\n",
    "\n",
    "**NOTE THAT:** You only have to update elements, you don't need to print or return anything. \n",
    "\n",
    "<br>\n",
    "\n",
    "**Example 1:**\n",
    ">**Input:**<br>\n",
    ">n = 5<br>\n",
    ">index = 4,element = 8<br>\n",
    ">**Explanation:** Element at 4th index updated to 8\n",
    "\n",
    "**Example 2:**\n",
    ">**Input:**<br>\n",
    ">n = 2<br>\n",
    ">index = 0,element = 99<br>\n",
    ">**Explanation:** Element at 0th index updated to 99\n",
    "\n",
    "<br>\n",
    "\n",
    "**Your Task:**<br>\n",
    "This is a function problem. The input is already taken care of by the driver code. You only need to complete the function **updateArray()** that takes arr, n, index, element as parameters and modifies the array arr as per requirements. (element at **index** is printed by the driver's code)\n",
    "\n",
    "**Expected Time Complexity:** O(1).<br>\n",
    "**Expected Auxiliary Space:** O(1).\n",
    "\n",
    "**Constraints:**\n",
    "- >1 <= n <= 10<sup>3</sup>\n",
    "- >0 <= element <= 10<sup>6</sup>\n",
    "- >0 <= index <= n-1"
   ]
  },
  {
   "cell_type": "code",
   "execution_count": 1,
   "metadata": {},
   "outputs": [],
   "source": [
    "def updateArray(arr, n, idx, element):\n",
    "    # code here\n",
    "    arr[idx] = element\n",
    "    return arr"
   ]
  }
 ],
 "metadata": {
  "kernelspec": {
   "display_name": "base",
   "language": "python",
   "name": "python3"
  },
  "language_info": {
   "codemirror_mode": {
    "name": "ipython",
    "version": 3
   },
   "file_extension": ".py",
   "mimetype": "text/x-python",
   "name": "python",
   "nbconvert_exporter": "python",
   "pygments_lexer": "ipython3",
   "version": "3.9.16"
  }
 },
 "nbformat": 4,
 "nbformat_minor": 2
}
