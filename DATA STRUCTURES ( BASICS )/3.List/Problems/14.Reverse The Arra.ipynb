{
 "cells": [
  {
   "cell_type": "markdown",
   "metadata": {},
   "source": [
    "Given an array **arr** of size **n**. You need to reverse the array.\n",
    "\n",
    "<br>\n",
    "\n",
    "**Example 1:**\n",
    ">**Input:**<br>\n",
    ">n = 5<br>\n",
    ">arr[] = {1 1 2 2 3}<br>\n",
    ">**Output:** 3 2 2 1 1\n",
    "\n",
    "\n",
    "**Example 2:**\n",
    ">**Input:**<br>\n",
    ">n = 2<br>\n",
    ">arr[] = {4 2}<br>\n",
    ">**Output:** 2 4\n",
    "\n",
    "<br>\n",
    "\n",
    "**Your Task:**<br>\n",
    "You just need to complete the function **reverseArray()** that takes **arr and n** as **parameters** and reverses **arr**. The driver code then prints arr.\n",
    "\n",
    "**Expected Time Complexity:** O(n).<br>\n",
    "**Expected Auxiliary Space:** O(1).\n",
    "\n",
    "**Constraints:**\n",
    "- >1 <= n  <= 10<sup>6</sup>\n",
    "- >1 <= arr<sub>i</sub> <= 10<sup>6</sup>"
   ]
  },
  {
   "cell_type": "code",
   "execution_count": 1,
   "metadata": {},
   "outputs": [],
   "source": [
    "def reverseArray(arr, n):\n",
    "    # code here\n",
    "    start = 0\n",
    "    end = n - 1\n",
    "    \n",
    "    while start < end:\n",
    "        arr[start], arr[end] = arr[end], arr[start]\n",
    "        start += 1\n",
    "        end -= 1"
   ]
  }
 ],
 "metadata": {
  "kernelspec": {
   "display_name": "base",
   "language": "python",
   "name": "python3"
  },
  "language_info": {
   "codemirror_mode": {
    "name": "ipython",
    "version": 3
   },
   "file_extension": ".py",
   "mimetype": "text/x-python",
   "name": "python",
   "nbconvert_exporter": "python",
   "pygments_lexer": "ipython3",
   "version": "3.9.16"
  }
 },
 "nbformat": 4,
 "nbformat_minor": 2
}
