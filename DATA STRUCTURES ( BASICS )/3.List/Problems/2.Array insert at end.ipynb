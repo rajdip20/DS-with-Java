{
 "cells": [
  {
   "cell_type": "markdown",
   "metadata": {},
   "source": [
    "*Insertion is a basic but frequently used operation. Arrays in most languages can not be dynamically shrinked or expanded. Here, we will work with such arrays and try to insert an element at the end of the array.*\n",
    "\n",
    "You are given an array **arr**. The size of the array is given by **sizeOfArray**. You need to **insert** an **element** at the **end**.<br>\n",
    "Array already have the sizeofarray **-1** elements.\n",
    "\n",
    "<br>\n",
    "\n",
    "**Example 1:**\n",
    ">**Input:**<br>\n",
    ">sizeOfArray = 6<br>\n",
    ">arr[] = {1, 2, 3, 4, 5}<br>\n",
    ">element = 90<br>\n",
    ">**Output:** 1 2 3 4 5 90<br>\n",
    ">**Explanation:** After inserting 90 at the end,<br>\n",
    ">we have array elements as 1 2 3 4 5 90.\n",
    "\n",
    "**Example 2:**\n",
    ">**Input:**<br>\n",
    ">sizeOfArray = 4<br>\n",
    ">arr[] = {1, 2, 3}<br>\n",
    ">element = 50<br>\n",
    ">**Output:** 1 2 3 50<br>\n",
    ">**Explanation:** After inserting 50 at the end,<br>\n",
    ">we have array elements as 1 2 3 50.\n",
    "\n",
    "<br>\n",
    "\n",
    "**Your Task:**<br>\n",
    "You don't need to read input or print anything. You only need to complete the function **insertAtEnd()** that takes arr, sizeOfArray, element as input and modifies arr as per requirements. The **driver code** takes care of the **printing**.\n",
    "\n",
    "**Expected Time Complexity:** O(1).<br>\n",
    "**Expected Auxiliary Space:** O(1).\n",
    "\n",
    "**Constraints:**\n",
    "- >1 <= sizeOfArray <= 1000\n",
    "- >0 <= element, arr<sub>i</sub> <= 10<sup>6</sup>"
   ]
  },
  {
   "cell_type": "code",
   "execution_count": 1,
   "metadata": {},
   "outputs": [],
   "source": [
    "def insertAtEnd(arr, sizeOfArray, element):\n",
    "    ## Your code here\n",
    "    arr.append(element)\n",
    "    return arr"
   ]
  }
 ],
 "metadata": {
  "kernelspec": {
   "display_name": "base",
   "language": "python",
   "name": "python3"
  },
  "language_info": {
   "codemirror_mode": {
    "name": "ipython",
    "version": 3
   },
   "file_extension": ".py",
   "mimetype": "text/x-python",
   "name": "python",
   "nbconvert_exporter": "python",
   "pygments_lexer": "ipython3",
   "version": "3.9.16"
  }
 },
 "nbformat": 4,
 "nbformat_minor": 2
}
