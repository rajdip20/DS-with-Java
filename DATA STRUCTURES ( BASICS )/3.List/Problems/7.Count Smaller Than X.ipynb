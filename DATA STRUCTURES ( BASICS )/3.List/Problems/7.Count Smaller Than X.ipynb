{
 "cells": [
  {
   "cell_type": "markdown",
   "metadata": {},
   "source": [
    "Given an unsorted array **arr[]** of size **N** containing **non-negative integers**. You will also be given an integer **X**, the task is to count the number of elements which are **strictly smaller** than X. The given integer may or not be present in the array given.\n",
    "\n",
    "<br>\n",
    "\n",
    "**Example 1:**\n",
    ">**Input:**<br>\n",
    ">N = 5<br>\n",
    ">arr[] = {4 5 3 1 2}<br>\n",
    ">X = 3<br>\n",
    ">**Output:** 2<br>\n",
    ">**Explanation:** Here X = 3, and elements that<br>\n",
    ">are smaller than X are 1 and 2.\n",
    "\n",
    "**Example 2:**\n",
    ">**Input:**<br>\n",
    ">N = 6<br>\n",
    ">arr[] = {2 2 2 2 2 2}<br>\n",
    ">X = 3<br>\n",
    ">**Output:** 6<br>\n",
    ">**Explanation:** Here X = 3, and elements that<br>\n",
    ">are smaller than X are 2 2 2 2 2 2.\n",
    "\n",
    "<br>\n",
    "\n",
    "**Your Task:**<br>\n",
    "Since this is a functional problem you don't have to worry about the input, you just have to complete the given function **smallerThanX()** which takes 3 arguments(array arr, N, and X) and returns the count of elements smaller than X. The printing is done by the driver code.\n",
    "\n",
    "**Expected Time Complexity:** O(N).<br>\n",
    "**Expected Auxiliary Space:** O(1).\n",
    "\n",
    "**Constraints:**\n",
    "- >1 <= **N** <= 10<sup>6</sup>\n",
    "- >1 <= **arr[i]**, **X** <= 10<sup>5</sup>"
   ]
  },
  {
   "cell_type": "code",
   "execution_count": 1,
   "metadata": {},
   "outputs": [],
   "source": [
    "class Solution:\n",
    "    def smallerThanX(self, arr, n, x):\n",
    "        # return required ans\n",
    "        # code here\n",
    "        count = 0\n",
    "\n",
    "        for i in range(n):\n",
    "            if arr[i] < x:\n",
    "                count += 1\n",
    "        \n",
    "        return count"
   ]
  }
 ],
 "metadata": {
  "kernelspec": {
   "display_name": "base",
   "language": "python",
   "name": "python3"
  },
  "language_info": {
   "codemirror_mode": {
    "name": "ipython",
    "version": 3
   },
   "file_extension": ".py",
   "mimetype": "text/x-python",
   "name": "python",
   "nbconvert_exporter": "python",
   "pygments_lexer": "ipython3",
   "version": "3.9.16"
  }
 },
 "nbformat": 4,
 "nbformat_minor": 2
}
