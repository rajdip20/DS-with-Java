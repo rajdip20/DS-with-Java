{
 "cells": [
  {
   "cell_type": "markdown",
   "metadata": {},
   "source": [
    "You are given an array **arr**(0-based indexing). The size of the array is given by **n**. You need to **get** the element at **index i** and return it. If **no** element exists at **i** then return **-1**.\n",
    "\n",
    "<br>\n",
    "\n",
    "**Example 1:**\n",
    ">**Input:**<br>\n",
    ">n = 6<br>\n",
    ">arr[] = {1 2 3 4 5 6}<br>\n",
    ">index = 0<br>\n",
    ">**Output:** 1<br>\n",
    ">**Explanation:** The array is {1 2 3 4 5 6}.<br>\n",
    ">The index given is 0. so element at 0<sup>th</sup> index is 1.\n",
    "\n",
    "**Example 2:**\n",
    ">**Input:**<br>\n",
    ">n = 4<br>\n",
    ">arr[] = {1 2 3 4}<br>\n",
    ">index = 4<br>\n",
    ">**Output:** -1<br>\n",
    ">**Explanation:** The array is {1 2 3 4}.<br>\n",
    ">The index given is 4. Here no element exists at the 4<sup>th</sup> index, so the answer is -1.\n",
    "\n",
    "<br>\n",
    "\n",
    "**Your Task:**<br>\n",
    "This is a function problem. The input is already taken care of by the driver code. You only need to complete the function **getByIndex()** that takes arr, n, i as input and **return** the required result. The **driver code** takes care of the **printing**.\n",
    "\n",
    "**Expected Time Complexity:** O(1).<br>\n",
    "**Expected Auxiliary Space:** O(1).\n",
    "\n",
    "**Constraints:**\n",
    "- >1 <= n<= 10<sup>3</sup>\n",
    "- >0 <= arr<sub>i</sub> <= 10<sup>6</sup>\n",
    "- >1 <= index <= 10<sup>6</sup>"
   ]
  },
  {
   "cell_type": "code",
   "execution_count": 1,
   "metadata": {},
   "outputs": [],
   "source": [
    "def getByIndex(arr, n, idx):\n",
    "    # return required ans\n",
    "    if idx >= n:\n",
    "        return -1\n",
    "    else:\n",
    "        return arr[idx]"
   ]
  }
 ],
 "metadata": {
  "kernelspec": {
   "display_name": "base",
   "language": "python",
   "name": "python3"
  },
  "language_info": {
   "codemirror_mode": {
    "name": "ipython",
    "version": 3
   },
   "file_extension": ".py",
   "mimetype": "text/x-python",
   "name": "python",
   "nbconvert_exporter": "python",
   "pygments_lexer": "ipython3",
   "version": "3.9.16"
  }
 },
 "nbformat": 4,
 "nbformat_minor": 2
}
