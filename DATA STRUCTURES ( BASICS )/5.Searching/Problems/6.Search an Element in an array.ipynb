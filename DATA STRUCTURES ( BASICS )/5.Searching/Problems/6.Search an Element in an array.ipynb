{
 "cells": [
  {
   "cell_type": "markdown",
   "metadata": {},
   "source": [
    "Given an integer array and another integer element. The task is to find if the given element is present in array or not.\n",
    "\n",
    "<br>\n",
    "\n",
    "**Example 1:**\n",
    ">**Input:**<br>\n",
    ">n = 4<br>\n",
    ">arr[] = {1,2,3,4}<br>\n",
    ">x = 3<br>\n",
    ">**Output:** 2<br>\n",
    ">**Explanation:** There is one test case with array as {1, 2, 3 4} and element to be searched as 3.  Since 3 is present at index 2, output is 2.\n",
    "\n",
    "**Example 2:**\n",
    ">**Input:**<br>\n",
    ">n = 5<br>\n",
    ">arr[] = {1,2,3,4,5}<br>\n",
    ">x = 5<br>\n",
    ">**Output:** 4<br>\n",
    ">**Explanation:** For array elements {1,2,3,4,5} element to be searched is 5 and it is at index 4. So, the output is 4.\n",
    "\n",
    "<br>\n",
    "\n",
    "**Your Task:**<br>\n",
    "The task is to complete the function **search()** which takes the array arr[], its size N and the element X as inputs and returns the index of first occurrence of X in the given array. If the element X does not exist in the array, the function should return -1.\n",
    "\n",
    "**Expected Time Complexity:** O(n).<br>\n",
    "**Expected Auxiliary Space:** O(1). \n",
    "\n",
    "**Constraints:**\n",
    "- >1 <= n <= 10<sup>6</sup>\n",
    "- >0 <= arr[i] <= 10<sup>6</sup>\n",
    "- >0 <= x <= 10<sup>5</sup>"
   ]
  },
  {
   "cell_type": "code",
   "execution_count": 1,
   "metadata": {},
   "outputs": [],
   "source": [
    "class Solution:\n",
    "    # Complete the below function\n",
    "    def search(self, arr, N, X):\n",
    "        # Your code here\n",
    "        for i in range(N):\n",
    "            if arr[i] == X:\n",
    "                return i\n",
    "            \n",
    "        return -1"
   ]
  }
 ],
 "metadata": {
  "kernelspec": {
   "display_name": "base",
   "language": "python",
   "name": "python3"
  },
  "language_info": {
   "codemirror_mode": {
    "name": "ipython",
    "version": 3
   },
   "file_extension": ".py",
   "mimetype": "text/x-python",
   "name": "python",
   "nbconvert_exporter": "python",
   "pygments_lexer": "ipython3",
   "version": "3.9.16"
  }
 },
 "nbformat": 4,
 "nbformat_minor": 2
}
