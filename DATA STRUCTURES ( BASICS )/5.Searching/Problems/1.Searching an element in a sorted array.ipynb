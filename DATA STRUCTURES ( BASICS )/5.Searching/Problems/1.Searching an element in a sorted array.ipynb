{
 "cells": [
  {
   "cell_type": "markdown",
   "metadata": {},
   "source": [
    "Given an array **arr[]** sorted in ascending order of size **N** and an integer **K**. Check if K is present in the array or not.\n",
    "\n",
    "<br>\n",
    "\n",
    "**Example 1:**\n",
    ">**Input:**<br>\n",
    ">N = 5, K = 6<br>\n",
    ">arr[] = {1,2,3,4,6}<br>\n",
    ">**Output:** 1<br>\n",
    ">**Exlpanation:** Since, 6 is present in the array at index 4 (0-based indexing), output is 1.\n",
    " \n",
    "**Example 2:**\n",
    ">**Input:**<br>\n",
    ">N = 5, K = 2<br>\n",
    ">arr[] = {1,3,4,5,6}<br>\n",
    ">**Output:** -1<br>\n",
    ">**Exlpanation:** Since, 2 is not present in the array, output is -1.\n",
    "\n",
    "<br>\n",
    "\n",
    "**Your Task:**<br>\n",
    "You don't need to read input or print anything. Complete the function **searchInSorted()** which takes the sorted array arr[], its size N and the element K as input parameters and returns 1 if K is present in the array, else it returns -1. \n",
    "\n",
    "**Expected Time Complexity:** O(Log N)<br>\n",
    "**Expected Auxiliary Space:** O(1)\n",
    "\n",
    "**Constraints:**\n",
    "- >1 <= N <= 10<sup>6</sup>\n",
    "- >1 <= K <= 10<sup>6</sup>\n",
    "- >1 <= arr[i] <= 10<sup>6</sup>"
   ]
  },
  {
   "cell_type": "code",
   "execution_count": 1,
   "metadata": {},
   "outputs": [],
   "source": [
    "class Solution:\n",
    "    ## Complete this function\n",
    "    def searchInSorted(self, arr, N, K):\n",
    "        # Your code here\n",
    "        low = 0\n",
    "        high = N - 1\n",
    "        \n",
    "        while low <= high:\n",
    "            mid = (low + high) // 2\n",
    "            \n",
    "            if arr[mid] == K:\n",
    "                return 1\n",
    "            elif arr[mid] > K:\n",
    "                high = mid - 1\n",
    "            else:\n",
    "                low = mid + 1\n",
    "        \n",
    "        return -1"
   ]
  }
 ],
 "metadata": {
  "kernelspec": {
   "display_name": "base",
   "language": "python",
   "name": "python3"
  },
  "language_info": {
   "codemirror_mode": {
    "name": "ipython",
    "version": 3
   },
   "file_extension": ".py",
   "mimetype": "text/x-python",
   "name": "python",
   "nbconvert_exporter": "python",
   "pygments_lexer": "ipython3",
   "version": "3.9.16"
  }
 },
 "nbformat": 4,
 "nbformat_minor": 2
}
