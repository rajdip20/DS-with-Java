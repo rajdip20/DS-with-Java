{
 "cells": [
  {
   "cell_type": "markdown",
   "metadata": {},
   "source": [
    "Given a sorted array of integers of size N and a number X. Find the leftmost index of X in the array arr[].\n",
    "\n",
    "<br>\n",
    "\n",
    "**Example 1:**\n",
    ">**Input:**<br>\n",
    ">N = 10<br>\n",
    ">arr[] = {1, 1, 2, 2, 3, 4, 5, 5, 6, 7}<br>\n",
    ">X = 1<br>\n",
    ">**Output:** 0 <br>\n",
    ">**Explanation:** Because the element 1 appears twice and its left most occurrence is at index 0.\n",
    "\n",
    "**Example 2:**\n",
    ">**Input:**<br>\n",
    ">N = 5<br>\n",
    ">arr[] = {2, 2, 3, 3, 4}<br>\n",
    ">X = 4<br>\n",
    ">**Output:** 4<br>\n",
    ">**Explanation:** Because element 4 appears only once at index 4.\n",
    "\n",
    "<br>\n",
    "\n",
    "**Your Task:**<br>  \n",
    "You don't need to read input or print anything. Your task is to complete the function **leftIndex()** which takes the array arr[], its size N and an integer X as input parameters and returns the leftmost occurrence of X in arr[]. If X is not present in the array, return -1.\n",
    "\n",
    "**Expected Time Complexity:** O(LogN)<br>\n",
    "**Expected Auxiliary Space:** O(1)\n",
    "\n",
    "**Constraints:**\n",
    "- >1 <= N <= 10<sup>6</sup>\n",
    "- >-10<sup>5</sup> <= arr[i] <= 10<sup>5</sup>\n",
    "- >Array may contain duplicate elements."
   ]
  },
  {
   "cell_type": "code",
   "execution_count": 1,
   "metadata": {},
   "outputs": [],
   "source": [
    "class Solution:\n",
    "    def leftIndex (self, N, arr, X):\n",
    "        # code here\n",
    "        low = 0\n",
    "        high = N - 1\n",
    "        \n",
    "        while low <= high:\n",
    "            mid = (low + high) // 2\n",
    "        \n",
    "            if arr[mid] > X:\n",
    "                high = mid - 1\n",
    "            elif arr[mid] < X:\n",
    "                low = mid + 1\n",
    "            else:\n",
    "                if mid == 0 or arr[mid - 1] != arr[mid]:\n",
    "                    return mid\n",
    "                else:\n",
    "                    high = mid - 1\n",
    "        \n",
    "        return -1"
   ]
  }
 ],
 "metadata": {
  "kernelspec": {
   "display_name": "base",
   "language": "python",
   "name": "python3"
  },
  "language_info": {
   "codemirror_mode": {
    "name": "ipython",
    "version": 3
   },
   "file_extension": ".py",
   "mimetype": "text/x-python",
   "name": "python",
   "nbconvert_exporter": "python",
   "pygments_lexer": "ipython3",
   "version": "3.9.16"
  }
 },
 "nbformat": 4,
 "nbformat_minor": 2
}
