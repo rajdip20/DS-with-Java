{
 "cells": [
  {
   "cell_type": "markdown",
   "metadata": {},
   "source": [
    "Given a binary sorted non-increasing array of 1s and 0s. You need to print the **count of 1s** in the binary array.\n",
    "\n",
    "<br>\n",
    "\n",
    "**Example 1:**\n",
    ">**Input:**<br>\n",
    ">N = 8<br>\n",
    ">arr[] = {1,1,1,1,1,0,0,0}<br>\n",
    ">**Output:** 5<br>\n",
    ">**Explanation:** Number of 1's in given binary array : 1 1 1 1 1 0 0 0 is 5.\n",
    "\n",
    "**Example 2:**\n",
    ">**Input:**<br>\n",
    ">N = 8<br>\n",
    ">arr[] = {1,1,0,0,0,0,0,0}<br>\n",
    ">**Output:** 2<br>\n",
    ">**Explanation:** Number of 1's in given binary array : 1 1 0 0 0 0 0 0 is 2.\n",
    "\n",
    "<br>\n",
    "\n",
    "**Your Task:**<br>\n",
    "The task is to complete the function **countOne()** which takes the array arr[] and its size N as inputs and returns the count of 1s in the input array.\n",
    "\n",
    "**Expected Time Complexity:** O(LogN).<br>\n",
    "**Expected Auxiliary Space:** O(1).\n",
    "\n",
    "**Constraint:**\n",
    "- >1 <= N <= 5*10<sup>6</sup>\n",
    "- >arr[i] = 0,1"
   ]
  },
  {
   "cell_type": "code",
   "execution_count": 1,
   "metadata": {},
   "outputs": [],
   "source": [
    "class Solution:\n",
    "    ## Complete this code\n",
    "    def countOnes(self, arr, N):\n",
    "        # Your code here\n",
    "        low = 0\n",
    "        high = N - 1\n",
    "        occurrence = -1\n",
    "\n",
    "        while low <= high:\n",
    "            mid = (low + high) // 2\n",
    "\n",
    "            if arr[mid] == 1:\n",
    "                occurrence = mid\n",
    "                low = mid + 1\n",
    "            else:\n",
    "                high = mid - 1\n",
    "        \n",
    "        return occurrence + 1 if occurrence != -1 else 0"
   ]
  }
 ],
 "metadata": {
  "kernelspec": {
   "display_name": "base",
   "language": "python",
   "name": "python3"
  },
  "language_info": {
   "codemirror_mode": {
    "name": "ipython",
    "version": 3
   },
   "file_extension": ".py",
   "mimetype": "text/x-python",
   "name": "python",
   "nbconvert_exporter": "python",
   "pygments_lexer": "ipython3",
   "version": "3.9.16"
  }
 },
 "nbformat": 4,
 "nbformat_minor": 2
}
