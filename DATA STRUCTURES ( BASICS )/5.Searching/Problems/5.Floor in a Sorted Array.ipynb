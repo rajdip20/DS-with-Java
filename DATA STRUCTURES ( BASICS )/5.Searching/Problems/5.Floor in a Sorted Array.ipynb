{
 "cells": [
  {
   "cell_type": "markdown",
   "metadata": {},
   "source": [
    "Given a sorted array **arr[]** of size **N** without duplicates, and given a value **x**. Floor of x is defined as the largest element **K** in arr[] such that K is smaller than or equal to x. Find the index of K(0-based indexing).\n",
    "\n",
    "<br>\n",
    "\n",
    "**Example 1:**\n",
    ">**Input:**<br>\n",
    ">N = 7, x = 0 <br>\n",
    ">arr[] = {1,2,8,10,11,12,19}<br>\n",
    ">**Output:** -1<br>\n",
    ">**Explanation:** No element less than 0 is found. So output is \"-1\".\n",
    "\n",
    "**Example 2:**\n",
    ">**Input:**<br>\n",
    ">N = 7, x = 5 <br>\n",
    ">arr[] = {1,2,8,10,11,12,19}<br>\n",
    ">**Output:** 1<br>\n",
    ">**Explanation:** Largest Number less than 5 is 2 (i.e K = 2), whose index is 1(0-based indexing).\n",
    "\n",
    "<br>\n",
    "\n",
    "**Your Task:**<br>\n",
    "The task is to complete the function **findFloor()** which returns an integer denoting the index value of K or return -1 if there isn't any such number.\n",
    "\n",
    "**Expected Time Complexity:** O(log N).<br>\n",
    "**Expected Auxiliary Space:** O(1).\n",
    "\n",
    "**Constraints:**\n",
    "- >1 ≤ N ≤ 10<sup>7</sup>\n",
    "- >1 ≤ arr[i] ≤ 10<sup>18</sup>\n",
    "- >0 ≤ X ≤ arr[n-1]"
   ]
  },
  {
   "cell_type": "code",
   "execution_count": 1,
   "metadata": {},
   "outputs": [],
   "source": [
    "class Solution:\n",
    "    # User function Template for python3\n",
    "    \n",
    "    # Complete this function\n",
    "    def findFloor(self, A, N, X):\n",
    "        # Your code here\n",
    "        low = 0\n",
    "        high = N - 1\n",
    "        idx = -1\n",
    "        \n",
    "        while low <= high:\n",
    "            mid = (low + high) // 2\n",
    "            \n",
    "            if A[mid] <= X:\n",
    "                idx = mid\n",
    "                low = mid + 1\n",
    "            else:\n",
    "                high = mid - 1\n",
    "        \n",
    "        return idx"
   ]
  }
 ],
 "metadata": {
  "kernelspec": {
   "display_name": "base",
   "language": "python",
   "name": "python3"
  },
  "language_info": {
   "codemirror_mode": {
    "name": "ipython",
    "version": 3
   },
   "file_extension": ".py",
   "mimetype": "text/x-python",
   "name": "python",
   "nbconvert_exporter": "python",
   "pygments_lexer": "ipython3",
   "version": "3.9.16"
  }
 },
 "nbformat": 4,
 "nbformat_minor": 2
}
