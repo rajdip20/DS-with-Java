{
 "cells": [
  {
   "cell_type": "markdown",
   "metadata": {},
   "source": [
    "You are given an interger **I**, find the absolute value of the interger **I**.\n",
    " \n",
    "<br>\n",
    "\n",
    "**Example 1:**\n",
    ">**Input:**<br>\n",
    ">I = -32<br>\n",
    ">**Output:** 32<br>\n",
    ">**Explanation:** <br>\n",
    ">The absolute value of -32 is 32.\n",
    " \n",
    "\n",
    "**Example 2:**\n",
    ">**Input:**<br>\n",
    ">I = 45<br>\n",
    ">**Output:** 45<br>\n",
    ">**Explanation:** <br>\n",
    ">The absolute value of 45 is 45 itself.\n",
    " \n",
    "<br>\n",
    "\n",
    "**Your Task:**<br>\n",
    "You don't need to read input or print anything. Your task is to complete the function **absolute()** which takes an integer **I** as input parameter and return the absolute value of **I**.\n",
    "\n",
    " \n",
    "\n",
    "**Expected Time Complexity:** O(1)<br>\n",
    "**Expected Auxiliary Space:** O(1)\n",
    "\n",
    "\n",
    "**Constraints:**\n",
    "- >-10<sup>6</sup> <= I <= 10<sup>6</sup>"
   ]
  },
  {
   "cell_type": "code",
   "execution_count": 1,
   "metadata": {},
   "outputs": [],
   "source": [
    "class Solution:\n",
    "    def absolute(self, I):\n",
    "        # code here\n",
    "        if I < 0:\n",
    "            return -I\n",
    "        else:\n",
    "            return I"
   ]
  }
 ],
 "metadata": {
  "kernelspec": {
   "display_name": "base",
   "language": "python",
   "name": "python3"
  },
  "language_info": {
   "codemirror_mode": {
    "name": "ipython",
    "version": 3
   },
   "file_extension": ".py",
   "mimetype": "text/x-python",
   "name": "python",
   "nbconvert_exporter": "python",
   "pygments_lexer": "ipython3",
   "version": "3.9.16"
  }
 },
 "nbformat": 4,
 "nbformat_minor": 2
}
