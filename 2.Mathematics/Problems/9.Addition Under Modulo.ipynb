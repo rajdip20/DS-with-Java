{
 "cells": [
  {
   "cell_type": "markdown",
   "metadata": {},
   "source": [
    "Given two numbers a and b, find the sum of a and b. Since the sum can be very large, find the sum modulo **10<sup>9</sup>+7**.\n",
    "\n",
    "<br>\n",
    "\n",
    "**Example 1:**\n",
    ">**Input:**<br>\n",
    ">a = 9223372036854775807<br>\n",
    ">b = 9223372036854775807<br>\n",
    ">**Output:** 582344006<br>\n",
    ">**Explanation:** <br>\n",
    ">9223372036854775807 + 9223372036854775807 <br>\n",
    ">= 18446744073709551614.<br>\n",
    ">18446744073709551614 mod (10<sup>9</sup>+7)<br>\n",
    ">= 582344006\n",
    " \n",
    "\n",
    "**Example 2:**\n",
    ">**Input:**\n",
    ">a = 1000000007<br>\n",
    ">b = 1000000007<br>\n",
    ">**Output:** 0<br>\n",
    ">**Explanation:** 1000000007 + 1000000007 =<br>\n",
    ">(2000000014) mod (10<sup>9</sup>+7) = 0\n",
    "\n",
    "<br>\n",
    "\n",
    "**Your Task:**<br>\n",
    "You don't need to read input or print anything. Your task is to complete the function **sumUnderModulo()** that takes **a and b as input parameters** and **returns sum** of a and b under modulo **10<sup>9</sup>+7**.\n",
    "\n",
    " \n",
    "\n",
    "**Expected Time Complexity :** O(1)<br>\n",
    "**Expected Auxilliary Space:** O(1)\n",
    "\n",
    "**Constraints:**\n",
    "- >1 <= a,b <= 2<sup>63</sup>-1"
   ]
  },
  {
   "cell_type": "code",
   "execution_count": 1,
   "metadata": {},
   "outputs": [],
   "source": [
    "class Solution:\n",
    "    def sumUnderModulo(self, a, b):\n",
    "        # code here\n",
    "        c = a + b\n",
    "        return c % (pow(10, 9) + 7)"
   ]
  }
 ],
 "metadata": {
  "kernelspec": {
   "display_name": "base",
   "language": "python",
   "name": "python3"
  },
  "language_info": {
   "codemirror_mode": {
    "name": "ipython",
    "version": 3
   },
   "file_extension": ".py",
   "mimetype": "text/x-python",
   "name": "python",
   "nbconvert_exporter": "python",
   "pygments_lexer": "ipython3",
   "version": "3.9.16"
  }
 },
 "nbformat": 4,
 "nbformat_minor": 2
}
