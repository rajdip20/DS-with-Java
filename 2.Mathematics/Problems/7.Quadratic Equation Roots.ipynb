{
 "cells": [
  {
   "cell_type": "markdown",
   "metadata": {},
   "source": [
    "Given a quadratic equation in the form **ax<sup>2</sup> + bx + c**. Find its roots.\n",
    "\n",
    "**Note:** Return the maximum root followed by the minimum root.\n",
    "\n",
    "<br>\n",
    "\n",
    "**Example 1:**\n",
    ">**Input:**<br>\n",
    ">a = 1<br>\n",
    ">b = -2<br>\n",
    ">c = 1<br>\n",
    ">**Output:** 1 1<br>\n",
    ">**Explanation:**<br>\n",
    ">Roots of equation x<sup>2</sup>-2x+1 are 1 and 1.\n",
    "\n",
    "**Example 2:**\n",
    ">**Input:**<br>\n",
    ">a = 1<br>\n",
    ">b = -7<br>\n",
    ">c = 12<br>\n",
    ">**Output:** 4 3<br>\n",
    ">**Explanation:**<br>\n",
    ">Roots of equation x<sup>2</sup> - 7x + 12 are 4 and 3.\n",
    "\n",
    "<br>\n",
    "\n",
    "**Your Task:**<br>\n",
    "You don't need to read input or print anything. Your task is to complete the function **quadraticRoots()** which takes a, b, c as input parameters and returns a list of two integers containing the floor value of its roots in decreasing order. If roots are imaginary, the returning list should contain only 1 integer ie -1. Always return the greatest integer smaller than or equal to the result.<br>\n",
    "**Note:** If roots are imaginary, the generated output will display \"Imaginary\".\n",
    "\n",
    "**Expected Time Complexity:** O(1)<br>\n",
    "**Expected Auxiliary Space:** O(1)\n",
    "\n",
    "**Constraints:**\n",
    "- >-10<sup>3</sup> <= a,b,c <= 10<sup>3</sup>"
   ]
  },
  {
   "cell_type": "code",
   "execution_count": 1,
   "metadata": {},
   "outputs": [],
   "source": [
    "class Solution:\n",
    "    def quadraticRoots(self, a, b, c):\n",
    "        # code here\n",
    "        import math\n",
    "\n",
    "        discriminant = b * b - 4 * a * c\n",
    "\n",
    "        if discriminant >= 0:\n",
    "            root1 = (-b + math.sqrt(discriminant)) / (2 * a)\n",
    "            root2 = (-b - math.sqrt(discriminant)) / (2 * a)\n",
    "            \n",
    "            return [math.floor(max(root1, root2)), math.floor(min(root1, root2))]\n",
    "        else:\n",
    "            return [-1]"
   ]
  }
 ],
 "metadata": {
  "kernelspec": {
   "display_name": "base",
   "language": "python",
   "name": "python3"
  },
  "language_info": {
   "codemirror_mode": {
    "name": "ipython",
    "version": 3
   },
   "file_extension": ".py",
   "mimetype": "text/x-python",
   "name": "python",
   "nbconvert_exporter": "python",
   "pygments_lexer": "ipython3",
   "version": "3.9.16"
  }
 },
 "nbformat": 4,
 "nbformat_minor": 2
}
