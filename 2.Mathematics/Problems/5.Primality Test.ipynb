{
 "cells": [
  {
   "cell_type": "markdown",
   "metadata": {},
   "source": [
    "A prime number is a number which is only **divisible by 1 and itself**.<br>\n",
    "Given number **N** check if it is prime or not.\n",
    "\n",
    "<br>\n",
    "\n",
    "**Example 1:**\n",
    ">**Input:**<br>\n",
    ">N = 5<br>\n",
    ">**Output:** True<br>\n",
    ">**Explanation:** 5 is only divisible by 1 <br>\n",
    ">and itself. So, 5 is a prime number.\n",
    " \n",
    "\n",
    "**Example 2:**\n",
    ">**Input:**<br>\n",
    ">N = 4<br>\n",
    ">**Output:** False<br>\n",
    ">**Explanation:** 4 is divisible by 2. <br>\n",
    ">So, 4 is not a prime number.\n",
    "\n",
    "<br>\n",
    "\n",
    "**Your Task:**<br>\n",
    "You don't need to read input or print anything. Your task is to complete the function **isPrime()** that takes **N** as input parameter and returns **True** if **N** is prime else returns **False**. \n",
    "\n",
    "**Expected Time Complexity :** O(N<sup>1/2</sup>)<br>\n",
    "**Expected Auxilliary Space:**  O(1)\n",
    "\n",
    "**Constraints:**\n",
    "- >1 <= N <= 10<sup>9</sup>"
   ]
  },
  {
   "cell_type": "code",
   "execution_count": 1,
   "metadata": {},
   "outputs": [],
   "source": [
    "class Solution:\n",
    "    def isPrime(self, N):\n",
    "        # code here\n",
    "        if N == 1:\n",
    "            return False\n",
    "        i = 2\n",
    "        while (i * i <= N):\n",
    "            if N % i == 0:\n",
    "                return False\n",
    "            i += 1\n",
    "        return True"
   ]
  }
 ],
 "metadata": {
  "kernelspec": {
   "display_name": "base",
   "language": "python",
   "name": "python3"
  },
  "language_info": {
   "codemirror_mode": {
    "name": "ipython",
    "version": 3
   },
   "file_extension": ".py",
   "mimetype": "text/x-python",
   "name": "python",
   "nbconvert_exporter": "python",
   "pygments_lexer": "ipython3",
   "version": "3.9.16"
  }
 },
 "nbformat": 4,
 "nbformat_minor": 2
}
