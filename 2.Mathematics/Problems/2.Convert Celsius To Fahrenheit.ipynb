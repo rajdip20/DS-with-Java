{
 "cells": [
  {
   "cell_type": "markdown",
   "metadata": {},
   "source": [
    "Given a temperature in celsius **C**. You need to convert the given temperature to **Fahrenheit**.\n",
    "\n",
    "<br>\n",
    "\n",
    "**Example 1:**\n",
    ">**Input:**<br>\n",
    ">C = 32<br>\n",
    ">**Output:** 89.6<br>\n",
    ">**Explanation:**<br>\n",
    ">Using the conversion formula of celsius to farhenheit, it can be calculated that, for 32 degree C, the temperature in Fahrenheit = 89.6\n",
    "\n",
    "\n",
    "**Example 2:**\n",
    ">**Input:**<br>\n",
    ">50<br>\n",
    ">**Output:** 122<br>\n",
    ">**Explanation:**<br>\n",
    ">Using the conversion formula of celsius to farhenheit, it can be calculated that, for 50 degree C, the temperature in Fahrenheit = 122.\n",
    "\n",
    "<br>\n",
    "\n",
    "**Your Task:**<br>\n",
    "You don't need to read input or print anything. Your task is to complete the function **CtoF()** that takes **C** as **parameter** and returns temperature in fahrenheit( in double). The **flooring and printing** is **automatically** done by the **driver code**.\n",
    "\n",
    "**Expected Time Complexity:** O(1)<br>\n",
    "**Expected Auxiliary Space:** O(1)\n",
    "\n",
    "**Constraints:**\n",
    "- >1 <= C <= 10<sup>4</sup>"
   ]
  },
  {
   "cell_type": "code",
   "execution_count": 1,
   "metadata": {},
   "outputs": [],
   "source": [
    "class Solution:\n",
    "    ## Complete this function\n",
    "    def cToF(self, C):\n",
    "        # Your code here\n",
    "        return (C * 9/5) + 32"
   ]
  }
 ],
 "metadata": {
  "kernelspec": {
   "display_name": "base",
   "language": "python",
   "name": "python3"
  },
  "language_info": {
   "codemirror_mode": {
    "name": "ipython",
    "version": 3
   },
   "file_extension": ".py",
   "mimetype": "text/x-python",
   "name": "python",
   "nbconvert_exporter": "python",
   "pygments_lexer": "ipython3",
   "version": "3.9.16"
  }
 },
 "nbformat": 4,
 "nbformat_minor": 2
}
