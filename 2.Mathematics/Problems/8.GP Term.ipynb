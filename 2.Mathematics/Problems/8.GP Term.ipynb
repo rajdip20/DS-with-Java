{
 "cells": [
  {
   "cell_type": "markdown",
   "metadata": {},
   "source": [
    "Given the first 2 terms **A and B** of a Geometric Series. The task is to find the **N<sup>th</sup> term**of the series.\n",
    "\n",
    "<br>\n",
    "\n",
    "**Example 1:**\n",
    ">**Input:**<br>\n",
    ">A = 2 <br>\n",
    ">B = 3<br>\n",
    ">N = 1<br>\n",
    ">**Output:** 2<br>\n",
    ">**Explanation:** The first term is already<br>\n",
    ">given in the input as 2\n",
    "\n",
    "**Example 2:**\n",
    ">**Input:**<br>\n",
    ">A = 1<br>\n",
    ">B = 2<br>\n",
    ">N = 5<br>\n",
    ">**Output:** 16<br>\n",
    ">**Explanation:** Common ratio = 2,<br>\n",
    ">Hence Fifth term is 1*(2)(5-1) = 24 = 16.\n",
    "\n",
    "<br>\n",
    "\n",
    "**Your Task:**<br>\n",
    "You don't need to read input or print anything. Your task is to complete the function **termOfGP()** that takes **A, B and N** as parameter and returns **N<sup>th</sup>** term of **GP**. The **return value** should be **double** that would be **automatically** converted to **floor** by the **driver code**.\n",
    "\n",
    "**Expected Time Complexity :** O(logN)<br>\n",
    "**Expected Auxilliary Space:** O(1)\n",
    "\n",
    "**Constraints:**\n",
    "- >-100 <= A <= 100\n",
    "- >-100 <= B <= 100\n",
    "- >1 <= N <= 5"
   ]
  },
  {
   "cell_type": "code",
   "execution_count": 1,
   "metadata": {},
   "outputs": [],
   "source": [
    "class Solution:    \n",
    "    # Compelte his function\n",
    "    def termOfGP(self, A, B, N):\n",
    "        # Your code here\n",
    "        r = B / A\n",
    "        term = A * pow(r, N - 1)\n",
    "        \n",
    "        return term"
   ]
  }
 ],
 "metadata": {
  "kernelspec": {
   "display_name": "base",
   "language": "python",
   "name": "python3"
  },
  "language_info": {
   "codemirror_mode": {
    "name": "ipython",
    "version": 3
   },
   "file_extension": ".py",
   "mimetype": "text/x-python",
   "name": "python",
   "nbconvert_exporter": "python",
   "pygments_lexer": "ipython3",
   "version": "3.9.16"
  }
 },
 "nbformat": 4,
 "nbformat_minor": 2
}
