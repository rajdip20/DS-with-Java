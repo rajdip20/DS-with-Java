{
 "cells": [
  {
   "cell_type": "markdown",
   "metadata": {},
   "source": [
    "Given an integer **N**. Find the number of digits that appear in its factorial. <br>\n",
    "Factorial is defined as, factorial(n) = 1*2*3*4……..*N and factorial(0) = 1.\n",
    "\n",
    "<br>\n",
    "\n",
    "**Example 1:**\n",
    ">**Input:** N = 5<br>\n",
    ">**Output:** 3<br>\n",
    ">**Explanation:** Factorial of 5 is 120.<br>\n",
    ">Number of digits in 120 is 3 (1, 2, and 0)\n",
    "\n",
    "**Example 2:**\n",
    ">**Input:** N = 120<br>\n",
    ">**Output:** 199<br>\n",
    ">**Explanation:** The number of digits in 120! is 199\n",
    "\n",
    "<br>\n",
    "\n",
    "**Your Task:**<br>\n",
    "You don't need to read input or print anything. Your task is to complete the function **digitsInFactorial()** that takes **N** as input parameter and returns **number of digits** in factorial of **N**.\n",
    "\n",
    "\n",
    "**Expected Time Complexity :** O(N)<br>\n",
    "**Expected Auxilliary Space:** O(1)\n",
    "\n",
    "\n",
    "**Constraints:**\n",
    "- >1 ≤ N ≤ 10<sup>5</sup>"
   ]
  },
  {
   "cell_type": "code",
   "execution_count": 1,
   "metadata": {},
   "outputs": [],
   "source": [
    "class Solution:\n",
    "    def digitsInFactorial(self, N):\n",
    "        # code here\n",
    "        import math\n",
    "\n",
    "        if N < 0:\n",
    "            return 0\n",
    "\n",
    "        count = 0\n",
    "\n",
    "        for i in range(2, N + 1):\n",
    "            count += math.log10(i)\n",
    "\n",
    "        return int(count) + 1"
   ]
  }
 ],
 "metadata": {
  "kernelspec": {
   "display_name": "base",
   "language": "python",
   "name": "python3"
  },
  "language_info": {
   "codemirror_mode": {
    "name": "ipython",
    "version": 3
   },
   "file_extension": ".py",
   "mimetype": "text/x-python",
   "name": "python",
   "nbconvert_exporter": "python",
   "pygments_lexer": "ipython3",
   "version": "3.9.16"
  }
 },
 "nbformat": 4,
 "nbformat_minor": 2
}
