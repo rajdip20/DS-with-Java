{
 "cells": [
  {
   "cell_type": "markdown",
   "metadata": {},
   "source": [
    "You are given two numbers **a and b**. You need to find the multiplication of **a and b** under modulo **M** (M as **10<sup>9</sup>+7**).\n",
    "\n",
    "<br>\n",
    "\n",
    "**Example 1:**\n",
    ">**Input:**<br>\n",
    ">a = 92233720368547758<br>\n",
    ">b = 92233720368547758<br>\n",
    ">**Output:** 484266119<br>\n",
    ">**Explanation:** Multiplication of a and b <br>\n",
    ">under modulo M will be 484266119.\n",
    "\n",
    "\n",
    "**Example 2:**\n",
    ">**Input:**<br>\n",
    ">a = 1000000007<br>\n",
    ">b = 1000000007<br>\n",
    ">**Output:** 0<br>\n",
    ">**Explanation:** Multiplication of a and b<br>\n",
    ">under modulo M is 0.\n",
    "\n",
    "<br>\n",
    "\n",
    "**Your Task:**<br>\n",
    "You don't need to read input or print anything. Your task is to complete the function **multiplicationUnderModulo()** that takes **a and b as parameters** and **returns multiplication** of a and b under modulo M.\n",
    "\n",
    "**Expected Time Complexity :** O(1)<br>\n",
    "**Expected Auxilliary Space:** O(1)\n",
    "\n",
    "**Constraints:**\n",
    "- >1 <= a,b <= 2<sup>63</sup>-1"
   ]
  },
  {
   "cell_type": "code",
   "execution_count": 1,
   "metadata": {},
   "outputs": [],
   "source": [
    "class Solution:\n",
    "    def multiplicationUnderModulo(self, a, b):\n",
    "        '''\n",
    "        :param a: given value of a\n",
    "        :param b: given value of b\n",
    "        :return: Integer , sum under modulo\n",
    "        '''   \n",
    "        # code here\n",
    "        c = a * b\n",
    "        \n",
    "        return c % (pow(10, 9) + 7)"
   ]
  }
 ],
 "metadata": {
  "kernelspec": {
   "display_name": "base",
   "language": "python",
   "name": "python3"
  },
  "language_info": {
   "codemirror_mode": {
    "name": "ipython",
    "version": 3
   },
   "file_extension": ".py",
   "mimetype": "text/x-python",
   "name": "python",
   "nbconvert_exporter": "python",
   "pygments_lexer": "ipython3",
   "version": "3.9.16"
  }
 },
 "nbformat": 4,
 "nbformat_minor": 2
}
